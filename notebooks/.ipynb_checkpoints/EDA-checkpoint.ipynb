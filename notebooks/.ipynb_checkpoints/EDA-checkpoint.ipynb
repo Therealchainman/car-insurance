{
 "cells": [
  {
   "cell_type": "markdown",
   "id": "e68c2054-8468-467f-b7ef-7370137add9c",
   "metadata": {},
   "source": [
    "# EDA FOR CAR INSURANCE"
   ]
  },
  {
   "cell_type": "markdown",
   "id": "e8e00f9c-2890-411c-be21-a1eeaf07611f",
   "metadata": {},
   "source": [
    "## IMPORTS"
   ]
  },
  {
   "cell_type": "code",
   "execution_count": 9,
   "id": "e034253e-5487-48db-8bb3-39de136d71fe",
   "metadata": {
    "collapsed": true,
    "jupyter": {
     "outputs_hidden": true
    },
    "tags": []
   },
   "outputs": [
    {
     "name": "stdout",
     "output_type": "stream",
     "text": [
      "Requirement already satisfied: matplotlib in /usr/local/lib/python3.9/site-packages (3.4.1)\n",
      "Requirement already satisfied: numpy>=1.16 in /usr/local/lib/python3.9/site-packages (from matplotlib) (1.20.2)\n",
      "Requirement already satisfied: kiwisolver>=1.0.1 in /usr/local/lib/python3.9/site-packages (from matplotlib) (1.3.1)\n",
      "Requirement already satisfied: pyparsing>=2.2.1 in /usr/local/lib/python3.9/site-packages (from matplotlib) (2.4.7)\n",
      "Requirement already satisfied: cycler>=0.10 in /usr/local/lib/python3.9/site-packages (from matplotlib) (0.10.0)\n",
      "Requirement already satisfied: python-dateutil>=2.7 in /usr/local/lib/python3.9/site-packages (from matplotlib) (2.8.1)\n",
      "Requirement already satisfied: pillow>=6.2.0 in /usr/local/lib/python3.9/site-packages (from matplotlib) (8.2.0)\n",
      "Requirement already satisfied: six in /usr/local/lib/python3.9/site-packages (from cycler>=0.10->matplotlib) (1.15.0)\n"
     ]
    }
   ],
   "source": [
    "import pandas as pd\n",
    "!pip install matplotlib\n",
    "import matplotlib.pyplot as plt\n",
    "import matplotlib"
   ]
  },
  {
   "cell_type": "markdown",
   "id": "551d2a24-1727-4ae5-8a58-98a556f18c68",
   "metadata": {},
   "source": [
    "## Set up jupyter notebooks"
   ]
  },
  {
   "cell_type": "code",
   "execution_count": 10,
   "id": "598f908b-2b21-4424-8316-2b6b52b12fb5",
   "metadata": {
    "collapsed": true,
    "jupyter": {
     "outputs_hidden": true
    },
    "tags": []
   },
   "outputs": [],
   "source": [
    "pd.set_option('display.max_rows', None)\n",
    "pd.set_option('display.max_columns', None)\n",
    "pd.set_option('display.width', None)"
   ]
  },
  {
   "cell_type": "markdown",
   "id": "c1ca9f14-b7ea-4f86-926a-697f83d21f35",
   "metadata": {},
   "source": [
    "## Read in the dataset"
   ]
  },
  {
   "cell_type": "code",
   "execution_count": 16,
   "id": "637b221e-49f0-49d7-8908-bb5bc872e3a5",
   "metadata": {
    "collapsed": true,
    "jupyter": {
     "outputs_hidden": true
    },
    "tags": []
   },
   "outputs": [
    {
     "data": {
      "text/html": [
       "<div>\n",
       "<style scoped>\n",
       "    .dataframe tbody tr th:only-of-type {\n",
       "        vertical-align: middle;\n",
       "    }\n",
       "\n",
       "    .dataframe tbody tr th {\n",
       "        vertical-align: top;\n",
       "    }\n",
       "\n",
       "    .dataframe thead th {\n",
       "        text-align: right;\n",
       "    }\n",
       "</style>\n",
       "<table border=\"1\" class=\"dataframe\">\n",
       "  <thead>\n",
       "    <tr style=\"text-align: right;\">\n",
       "      <th></th>\n",
       "      <th>age</th>\n",
       "      <th>job_type</th>\n",
       "      <th>marital_status</th>\n",
       "      <th>education_level</th>\n",
       "      <th>default_or_not</th>\n",
       "      <th>balance_amt</th>\n",
       "      <th>household_insurance</th>\n",
       "      <th>car_loan</th>\n",
       "      <th>communication</th>\n",
       "      <th>last_contact_day</th>\n",
       "      <th>last_contact_month</th>\n",
       "      <th>no_of_contacts</th>\n",
       "      <th>days_passed</th>\n",
       "      <th>prev_attempts</th>\n",
       "      <th>Outcome</th>\n",
       "      <th>call_start</th>\n",
       "      <th>call_end</th>\n",
       "      <th>car_insurance</th>\n",
       "    </tr>\n",
       "  </thead>\n",
       "  <tbody>\n",
       "    <tr>\n",
       "      <th>0</th>\n",
       "      <td>47.000000</td>\n",
       "      <td>blue-collar</td>\n",
       "      <td>married</td>\n",
       "      <td>primary</td>\n",
       "      <td>0</td>\n",
       "      <td>1112.000000</td>\n",
       "      <td>1</td>\n",
       "      <td>0</td>\n",
       "      <td>cellular</td>\n",
       "      <td>13</td>\n",
       "      <td>may</td>\n",
       "      <td>1</td>\n",
       "      <td>-1</td>\n",
       "      <td>0</td>\n",
       "      <td>NaN</td>\n",
       "      <td>10:22:20</td>\n",
       "      <td>10:24:29</td>\n",
       "      <td>0</td>\n",
       "    </tr>\n",
       "    <tr>\n",
       "      <th>1</th>\n",
       "      <td>46.031442</td>\n",
       "      <td>management</td>\n",
       "      <td>married</td>\n",
       "      <td>tertiary</td>\n",
       "      <td>0</td>\n",
       "      <td>1.312372</td>\n",
       "      <td>0</td>\n",
       "      <td>1</td>\n",
       "      <td>cellular</td>\n",
       "      <td>15</td>\n",
       "      <td>may</td>\n",
       "      <td>3</td>\n",
       "      <td>219</td>\n",
       "      <td>1</td>\n",
       "      <td>other</td>\n",
       "      <td>09:06:30</td>\n",
       "      <td>13:59:48</td>\n",
       "      <td>1</td>\n",
       "    </tr>\n",
       "    <tr>\n",
       "      <th>2</th>\n",
       "      <td>36.000000</td>\n",
       "      <td>services</td>\n",
       "      <td>single</td>\n",
       "      <td>NaN</td>\n",
       "      <td>0</td>\n",
       "      <td>281.000000</td>\n",
       "      <td>1</td>\n",
       "      <td>0</td>\n",
       "      <td>NaN</td>\n",
       "      <td>16</td>\n",
       "      <td>may</td>\n",
       "      <td>1</td>\n",
       "      <td>-1</td>\n",
       "      <td>0</td>\n",
       "      <td>NaN</td>\n",
       "      <td>13:18:41</td>\n",
       "      <td>13:27:16</td>\n",
       "      <td>1</td>\n",
       "    </tr>\n",
       "    <tr>\n",
       "      <th>3</th>\n",
       "      <td>32.000000</td>\n",
       "      <td>technician</td>\n",
       "      <td>single</td>\n",
       "      <td>secondary</td>\n",
       "      <td>0</td>\n",
       "      <td>540.000000</td>\n",
       "      <td>0</td>\n",
       "      <td>1</td>\n",
       "      <td>cellular</td>\n",
       "      <td>29</td>\n",
       "      <td>jan</td>\n",
       "      <td>1</td>\n",
       "      <td>-1</td>\n",
       "      <td>0</td>\n",
       "      <td>NaN</td>\n",
       "      <td>10:09:18</td>\n",
       "      <td>10:21:48</td>\n",
       "      <td>1</td>\n",
       "    </tr>\n",
       "    <tr>\n",
       "      <th>4</th>\n",
       "      <td>30.000000</td>\n",
       "      <td>admin.</td>\n",
       "      <td>single</td>\n",
       "      <td>secondary</td>\n",
       "      <td>0</td>\n",
       "      <td>315.000000</td>\n",
       "      <td>1</td>\n",
       "      <td>0</td>\n",
       "      <td>cellular</td>\n",
       "      <td>14</td>\n",
       "      <td>may</td>\n",
       "      <td>3</td>\n",
       "      <td>346</td>\n",
       "      <td>4</td>\n",
       "      <td>failure</td>\n",
       "      <td>12:12:30</td>\n",
       "      <td>12:27:14</td>\n",
       "      <td>1</td>\n",
       "    </tr>\n",
       "    <tr>\n",
       "      <th>5</th>\n",
       "      <td>37.000000</td>\n",
       "      <td>management</td>\n",
       "      <td>married</td>\n",
       "      <td>tertiary</td>\n",
       "      <td>0</td>\n",
       "      <td>3737.000000</td>\n",
       "      <td>0</td>\n",
       "      <td>0</td>\n",
       "      <td>cellular</td>\n",
       "      <td>7</td>\n",
       "      <td>jul</td>\n",
       "      <td>1</td>\n",
       "      <td>-1</td>\n",
       "      <td>0</td>\n",
       "      <td>NaN</td>\n",
       "      <td>10:15:03</td>\n",
       "      <td>10:18:47</td>\n",
       "      <td>1</td>\n",
       "    </tr>\n",
       "    <tr>\n",
       "      <th>6</th>\n",
       "      <td>30.000000</td>\n",
       "      <td>blue-collar</td>\n",
       "      <td>married</td>\n",
       "      <td>secondary</td>\n",
       "      <td>0</td>\n",
       "      <td>1.000000</td>\n",
       "      <td>0</td>\n",
       "      <td>1</td>\n",
       "      <td>cellular</td>\n",
       "      <td>9</td>\n",
       "      <td>jul</td>\n",
       "      <td>1</td>\n",
       "      <td>-1</td>\n",
       "      <td>0</td>\n",
       "      <td>NaN</td>\n",
       "      <td>10:51:56</td>\n",
       "      <td>10:57:43</td>\n",
       "      <td>0</td>\n",
       "    </tr>\n",
       "    <tr>\n",
       "      <th>7</th>\n",
       "      <td>21.000000</td>\n",
       "      <td>student</td>\n",
       "      <td>single</td>\n",
       "      <td>primary</td>\n",
       "      <td>0</td>\n",
       "      <td>1596.000000</td>\n",
       "      <td>0</td>\n",
       "      <td>0</td>\n",
       "      <td>cellular</td>\n",
       "      <td>26</td>\n",
       "      <td>aug</td>\n",
       "      <td>1</td>\n",
       "      <td>93</td>\n",
       "      <td>2</td>\n",
       "      <td>failure</td>\n",
       "      <td>10:10:32</td>\n",
       "      <td>10:12:27</td>\n",
       "      <td>0</td>\n",
       "    </tr>\n",
       "    <tr>\n",
       "      <th>8</th>\n",
       "      <td>52.091704</td>\n",
       "      <td>admin.</td>\n",
       "      <td>married</td>\n",
       "      <td>secondary</td>\n",
       "      <td>0</td>\n",
       "      <td>101.453662</td>\n",
       "      <td>0</td>\n",
       "      <td>0</td>\n",
       "      <td>cellular</td>\n",
       "      <td>21</td>\n",
       "      <td>aug</td>\n",
       "      <td>3</td>\n",
       "      <td>-1</td>\n",
       "      <td>0</td>\n",
       "      <td>NaN</td>\n",
       "      <td>16:42:19</td>\n",
       "      <td>16:52:35</td>\n",
       "      <td>1</td>\n",
       "    </tr>\n",
       "    <tr>\n",
       "      <th>9</th>\n",
       "      <td>49.000000</td>\n",
       "      <td>technician</td>\n",
       "      <td>married</td>\n",
       "      <td>secondary</td>\n",
       "      <td>0</td>\n",
       "      <td>412.000000</td>\n",
       "      <td>0</td>\n",
       "      <td>0</td>\n",
       "      <td>cellular</td>\n",
       "      <td>19</td>\n",
       "      <td>aug</td>\n",
       "      <td>8</td>\n",
       "      <td>-1</td>\n",
       "      <td>0</td>\n",
       "      <td>NaN</td>\n",
       "      <td>15:33:44</td>\n",
       "      <td>15:55:17</td>\n",
       "      <td>1</td>\n",
       "    </tr>\n",
       "  </tbody>\n",
       "</table>\n",
       "</div>"
      ],
      "text/plain": [
       "         age     job_type marital_status education_level  default_or_not  \\\n",
       "0  47.000000  blue-collar        married         primary               0   \n",
       "1  46.031442   management        married        tertiary               0   \n",
       "2  36.000000     services         single             NaN               0   \n",
       "3  32.000000   technician         single       secondary               0   \n",
       "4  30.000000       admin.         single       secondary               0   \n",
       "5  37.000000   management        married        tertiary               0   \n",
       "6  30.000000  blue-collar        married       secondary               0   \n",
       "7  21.000000      student         single         primary               0   \n",
       "8  52.091704       admin.        married       secondary               0   \n",
       "9  49.000000   technician        married       secondary               0   \n",
       "\n",
       "   balance_amt  household_insurance  car_loan communication  last_contact_day  \\\n",
       "0  1112.000000                    1         0      cellular                13   \n",
       "1     1.312372                    0         1      cellular                15   \n",
       "2   281.000000                    1         0           NaN                16   \n",
       "3   540.000000                    0         1      cellular                29   \n",
       "4   315.000000                    1         0      cellular                14   \n",
       "5  3737.000000                    0         0      cellular                 7   \n",
       "6     1.000000                    0         1      cellular                 9   \n",
       "7  1596.000000                    0         0      cellular                26   \n",
       "8   101.453662                    0         0      cellular                21   \n",
       "9   412.000000                    0         0      cellular                19   \n",
       "\n",
       "  last_contact_month  no_of_contacts  days_passed  prev_attempts  Outcome  \\\n",
       "0                may               1           -1              0      NaN   \n",
       "1                may               3          219              1    other   \n",
       "2                may               1           -1              0      NaN   \n",
       "3                jan               1           -1              0      NaN   \n",
       "4                may               3          346              4  failure   \n",
       "5                jul               1           -1              0      NaN   \n",
       "6                jul               1           -1              0      NaN   \n",
       "7                aug               1           93              2  failure   \n",
       "8                aug               3           -1              0      NaN   \n",
       "9                aug               8           -1              0      NaN   \n",
       "\n",
       "  call_start  call_end  car_insurance  \n",
       "0   10:22:20  10:24:29              0  \n",
       "1   09:06:30  13:59:48              1  \n",
       "2   13:18:41  13:27:16              1  \n",
       "3   10:09:18  10:21:48              1  \n",
       "4   12:12:30  12:27:14              1  \n",
       "5   10:15:03  10:18:47              1  \n",
       "6   10:51:56  10:57:43              0  \n",
       "7   10:10:32  10:12:27              0  \n",
       "8   16:42:19  16:52:35              1  \n",
       "9   15:33:44  15:55:17              1  "
      ]
     },
     "execution_count": 16,
     "metadata": {},
     "output_type": "execute_result"
    }
   ],
   "source": [
    "df = pd.read_csv(\"/data/projects/car-insurance/data/Train_data.csv\")\n",
    "df.head(10)"
   ]
  },
  {
   "cell_type": "markdown",
   "id": "36262b7a-0258-4b90-899c-ca563cca2b4d",
   "metadata": {},
   "source": [
    "## Analysis of the data"
   ]
  },
  {
   "cell_type": "code",
   "execution_count": 11,
   "id": "0e65e587-ca48-46e4-b49c-82cdd98941ba",
   "metadata": {
    "collapsed": true,
    "jupyter": {
     "outputs_hidden": true
    },
    "tags": []
   },
   "outputs": [
    {
     "name": "stdout",
     "output_type": "stream",
     "text": [
      "The size of the dataset 3102\n",
      "The jobs {'management', nan, 'unemployed', 'services', 'housemaid', 'admin.', 'student', 'technician', 'self-employed', 'blue-collar', 'entrepreneur', 'retired'}\n",
      "The marital status {'divorced', 'married', 'single'}\n",
      "The education levels {'tertiary', nan, 'primary', 'secondary'}\n",
      "The minimum balance of a customer=-3058.0\n",
      "The maximum balance of a customer=52587.0\n",
      "The number of customers with household insurance=1443\n",
      "The number of customers with car loans = 355\n",
      "The communication methods {nan, 'cellular', 'telephone'}\n",
      "The maximum number of contacts = 43\n",
      "The minimum number of contacts = 1\n",
      "The maximum number of days of previous contact = 854\n",
      "The maximum number of previous attempts = 58\n",
      "The outcomes = {nan, 'other', 'failure', 'success'}\n",
      "The number of customers that said yes = 1760, and no = 1342\n"
     ]
    }
   ],
   "source": [
    "num_customers = len(df)\n",
    "print(f\"The size of the dataset {num_customers}\")\n",
    "jobs = {row[1] for _, row in df.iterrows()}\n",
    "print(f\"The jobs {jobs}\")\n",
    "marital_statuses = {row[2] for _, row in df.iterrows()}\n",
    "print(f\"The marital status {marital_statuses}\")\n",
    "edu_levels = {row[3] for _, row in df.iterrows()}\n",
    "print(f\"The education levels {edu_levels}\")\n",
    "print(f\"The minimum balance of a customer={min(df['balance_amt'])}\")\n",
    "print(f\"The maximum balance of a customer={max(df['balance_amt'])}\")\n",
    "num_household_insurance = len([row[6] for _, row in df.iterrows() if row[6]==1])\n",
    "print(f\"The number of customers with household insurance={num_household_insurance}\")\n",
    "num_car_loans = len([row[7] for _, row in df.iterrows() if row[7]==1])\n",
    "print(f\"The number of customers with car loans = {num_car_loans}\")\n",
    "comm_methods = {row[8] for _, row in df.iterrows()}\n",
    "print(f\"The communication methods {comm_methods}\")\n",
    "print(f\"The maximum number of contacts = {max(df['no_of_contacts'])}\")\n",
    "print(f\"The minimum number of contacts = {min(df['no_of_contacts'])}\")\n",
    "print(f\"The maximum number of days of previous contact = {max(df['days_passed'])}\")\n",
    "print(f\"The maximum number of previous attempts = {max(df['prev_attempts'])}\")\n",
    "outcomes = {row[14] for _, row in df.iterrows()}\n",
    "print(f\"The outcomes = {outcomes}\")\n",
    "num_yes = len([row[17] for _, row in df.iterrows() if row[17]==1])\n",
    "num_no = len([row[17] for _, row in df.iterrows() if row[17]==0])\n",
    "print(f\"The number of customers that said yes = {num_yes}, and no = {num_no}\")"
   ]
  },
  {
   "cell_type": "markdown",
   "id": "fc7df63f-7b50-4cd6-af1e-abc7406e6f1b",
   "metadata": {},
   "source": [
    "## Set up the plots backend"
   ]
  },
  {
   "cell_type": "code",
   "execution_count": 12,
   "id": "9fdff12f-e6e2-452e-b5a7-cb20047d831a",
   "metadata": {
    "collapsed": true,
    "jupyter": {
     "outputs_hidden": true
    },
    "tags": []
   },
   "outputs": [
    {
     "name": "stdout",
     "output_type": "stream",
     "text": [
      "3.4.1\n"
     ]
    }
   ],
   "source": [
    "%matplotlib inline\n",
    "print(matplotlib.__version__)"
   ]
  },
  {
   "cell_type": "code",
   "execution_count": null,
   "id": "5fe47f2c-16f5-46e9-b684-54a73b33ae3f",
   "metadata": {
    "collapsed": true,
    "jupyter": {
     "outputs_hidden": true
    },
    "tags": []
   },
   "outputs": [],
   "source": [
    "## "
   ]
  },
  {
   "cell_type": "code",
   "execution_count": 14,
   "id": "0390a4df-6392-408c-8094-1008229842a1",
   "metadata": {
    "collapsed": true,
    "jupyter": {
     "outputs_hidden": true
    },
    "tags": []
   },
   "outputs": [
    {
     "data": {
      "image/png": "[encoded data removed]",
      "text/plain": [
       "<Figure size 432x288 with 1 Axes>"
      ]
     },
     "metadata": {
      "needs_background": "light"
     },
     "output_type": "display_data"
    }
   ],
   "source": [
    "df.plot(x=\"balance_amt\", y=[\"car_insurance\"], kind=\"scatter\")\n",
    "plt.show()"
   ]
  },
  {
   "cell_type": "markdown",
   "id": "418a77f5-a889-4136-93bb-9f2fa3a5ac99",
   "metadata": {},
   "source": [
    "## Create a series from a multi-column dataframe"
   ]
  },
  {
   "cell_type": "code",
   "execution_count": 41,
   "id": "5a04ea49-6fda-40ba-a6b9-a3bd78b452dc",
   "metadata": {
    "tags": []
   },
   "outputs": [
    {
     "name": "stdout",
     "output_type": "stream",
     "text": [
      "failure    309\n",
      "success    299\n",
      "other      143\n",
      "Name: Outcome, dtype: int64\n"
     ]
    }
   ],
   "source": [
    "# First I want to drop all the nans\n",
    "df1 = df[df[\"Outcome\"].notna()]\n",
    "# Convert to a series\n",
    "outcome_series = df1[\"Outcome\"].squeeze()\n",
    "outcome_counts = outcome_series.value_counts()\n",
    "print(outcome_counts)\n",
    "# plt.show()"
   ]
  },
  {
   "cell_type": "markdown",
   "id": "63018f6e-43be-476e-aeaa-828864296cd8",
   "metadata": {
    "jupyter": {
     "outputs_hidden": true
    }
   },
   "source": [
    "## Remove rows based on conditional statements for column"
   ]
  },
  {
   "cell_type": "code",
   "execution_count": 74,
   "id": "e4f18524-d4a1-4db2-ad8a-0096da7cb600",
   "metadata": {},
   "outputs": [
    {
     "data": {
      "text/html": [
       "<div>\n",
       "<style scoped>\n",
       "    .dataframe tbody tr th:only-of-type {\n",
       "        vertical-align: middle;\n",
       "    }\n",
       "\n",
       "    .dataframe tbody tr th {\n",
       "        vertical-align: top;\n",
       "    }\n",
       "\n",
       "    .dataframe thead th {\n",
       "        text-align: right;\n",
       "    }\n",
       "</style>\n",
       "<table border=\"1\" class=\"dataframe\">\n",
       "  <thead>\n",
       "    <tr style=\"text-align: right;\">\n",
       "      <th></th>\n",
       "      <th>age</th>\n",
       "      <th>job_type</th>\n",
       "      <th>marital_status</th>\n",
       "      <th>education_level</th>\n",
       "      <th>default_or_not</th>\n",
       "      <th>balance_amt</th>\n",
       "      <th>household_insurance</th>\n",
       "      <th>car_loan</th>\n",
       "      <th>communication</th>\n",
       "      <th>last_contact_day</th>\n",
       "      <th>last_contact_month</th>\n",
       "      <th>no_of_contacts</th>\n",
       "      <th>days_passed</th>\n",
       "      <th>prev_attempts</th>\n",
       "      <th>Outcome</th>\n",
       "      <th>call_start</th>\n",
       "      <th>call_end</th>\n",
       "      <th>car_insurance</th>\n",
       "    </tr>\n",
       "  </thead>\n",
       "  <tbody>\n",
       "    <tr>\n",
       "      <th>0</th>\n",
       "      <td>47.0</td>\n",
       "      <td>blue-collar</td>\n",
       "      <td>married</td>\n",
       "      <td>primary</td>\n",
       "      <td>0</td>\n",
       "      <td>1112.0</td>\n",
       "      <td>1</td>\n",
       "      <td>0</td>\n",
       "      <td>cellular</td>\n",
       "      <td>13</td>\n",
       "      <td>may</td>\n",
       "      <td>1</td>\n",
       "      <td>-1</td>\n",
       "      <td>0</td>\n",
       "      <td>NaN</td>\n",
       "      <td>10:22:20</td>\n",
       "      <td>10:24:29</td>\n",
       "      <td>0</td>\n",
       "    </tr>\n",
       "    <tr>\n",
       "      <th>2</th>\n",
       "      <td>36.0</td>\n",
       "      <td>services</td>\n",
       "      <td>single</td>\n",
       "      <td>NaN</td>\n",
       "      <td>0</td>\n",
       "      <td>281.0</td>\n",
       "      <td>1</td>\n",
       "      <td>0</td>\n",
       "      <td>NaN</td>\n",
       "      <td>16</td>\n",
       "      <td>may</td>\n",
       "      <td>1</td>\n",
       "      <td>-1</td>\n",
       "      <td>0</td>\n",
       "      <td>NaN</td>\n",
       "      <td>13:18:41</td>\n",
       "      <td>13:27:16</td>\n",
       "      <td>1</td>\n",
       "    </tr>\n",
       "    <tr>\n",
       "      <th>3</th>\n",
       "      <td>32.0</td>\n",
       "      <td>technician</td>\n",
       "      <td>single</td>\n",
       "      <td>secondary</td>\n",
       "      <td>0</td>\n",
       "      <td>540.0</td>\n",
       "      <td>0</td>\n",
       "      <td>1</td>\n",
       "      <td>cellular</td>\n",
       "      <td>29</td>\n",
       "      <td>jan</td>\n",
       "      <td>1</td>\n",
       "      <td>-1</td>\n",
       "      <td>0</td>\n",
       "      <td>NaN</td>\n",
       "      <td>10:09:18</td>\n",
       "      <td>10:21:48</td>\n",
       "      <td>1</td>\n",
       "    </tr>\n",
       "    <tr>\n",
       "      <th>5</th>\n",
       "      <td>37.0</td>\n",
       "      <td>management</td>\n",
       "      <td>married</td>\n",
       "      <td>tertiary</td>\n",
       "      <td>0</td>\n",
       "      <td>3737.0</td>\n",
       "      <td>0</td>\n",
       "      <td>0</td>\n",
       "      <td>cellular</td>\n",
       "      <td>7</td>\n",
       "      <td>jul</td>\n",
       "      <td>1</td>\n",
       "      <td>-1</td>\n",
       "      <td>0</td>\n",
       "      <td>NaN</td>\n",
       "      <td>10:15:03</td>\n",
       "      <td>10:18:47</td>\n",
       "      <td>1</td>\n",
       "    </tr>\n",
       "    <tr>\n",
       "      <th>6</th>\n",
       "      <td>30.0</td>\n",
       "      <td>blue-collar</td>\n",
       "      <td>married</td>\n",
       "      <td>secondary</td>\n",
       "      <td>0</td>\n",
       "      <td>1.0</td>\n",
       "      <td>0</td>\n",
       "      <td>1</td>\n",
       "      <td>cellular</td>\n",
       "      <td>9</td>\n",
       "      <td>jul</td>\n",
       "      <td>1</td>\n",
       "      <td>-1</td>\n",
       "      <td>0</td>\n",
       "      <td>NaN</td>\n",
       "      <td>10:51:56</td>\n",
       "      <td>10:57:43</td>\n",
       "      <td>0</td>\n",
       "    </tr>\n",
       "  </tbody>\n",
       "</table>\n",
       "</div>"
      ],
      "text/plain": [
       "    age     job_type marital_status education_level  default_or_not  \\\n",
       "0  47.0  blue-collar        married         primary               0   \n",
       "2  36.0     services         single             NaN               0   \n",
       "3  32.0   technician         single       secondary               0   \n",
       "5  37.0   management        married        tertiary               0   \n",
       "6  30.0  blue-collar        married       secondary               0   \n",
       "\n",
       "   balance_amt  household_insurance  car_loan communication  last_contact_day  \\\n",
       "0       1112.0                    1         0      cellular                13   \n",
       "2        281.0                    1         0           NaN                16   \n",
       "3        540.0                    0         1      cellular                29   \n",
       "5       3737.0                    0         0      cellular                 7   \n",
       "6          1.0                    0         1      cellular                 9   \n",
       "\n",
       "  last_contact_month  no_of_contacts  days_passed  prev_attempts Outcome  \\\n",
       "0                may               1           -1              0     NaN   \n",
       "2                may               1           -1              0     NaN   \n",
       "3                jan               1           -1              0     NaN   \n",
       "5                jul               1           -1              0     NaN   \n",
       "6                jul               1           -1              0     NaN   \n",
       "\n",
       "  call_start  call_end  car_insurance  \n",
       "0   10:22:20  10:24:29              0  \n",
       "2   13:18:41  13:27:16              1  \n",
       "3   10:09:18  10:21:48              1  \n",
       "5   10:15:03  10:18:47              1  \n",
       "6   10:51:56  10:57:43              0  "
      ]
     },
     "execution_count": 74,
     "metadata": {},
     "output_type": "execute_result"
    }
   ],
   "source": [
    "df_success = df[df[\"Outcome\"] == \"success\"]\n",
    "df_failure = df[df[\"Outcome\"] == \"failure\"]\n",
    "df_other = df[df[\"Outcome\"] == \"other\"]\n",
    "df_nan = df[df[\"Outcome\"].isna()]"
   ]
  },
  {
   "cell_type": "markdown",
   "id": "7558da54-d605-4be7-8857-a1124baa1105",
   "metadata": {},
   "source": [
    "## Create Pie charts from series"
   ]
  },
  {
   "cell_type": "code",
   "execution_count": 75,
   "id": "5108f197-8549-4e4a-a273-3a47577485a0",
   "metadata": {},
   "outputs": [
    {
     "data": {
      "image/png": "[encoded data removed]",
      "text/plain": [
       "<Figure size 864x864 with 4 Axes>"
      ]
     },
     "metadata": {},
     "output_type": "display_data"
    }
   ],
   "source": [
    "s_success = df_success[\"car_insurance\"].squeeze()\n",
    "s_failure = df_failure[\"car_insurance\"].squeeze()\n",
    "s_other = df_other[\"car_insurance\"].squeeze()\n",
    "s_nan = df_nan[\"car_insurance\"].squeeze()\n",
    "s_success_counts = s_success.value_counts()\n",
    "s_failure_counts = s_failure.value_counts()\n",
    "s_other_counts = s_other.value_counts()\n",
    "s_nan_counts = s_nan.value_counts()\n",
    "fig, ax = plt.subplots(ncols=4, figsize=(12,12))\n",
    "pie_success = s_success_counts.plot(kind=\"pie\", label=\"success\", ax=ax[0])\n",
    "pie_failure = s_failure_counts.plot(kind=\"pie\", label=\"failure\", ax=ax[1])\n",
    "pie_other = s_other_counts.plot(kind=\"pie\", label=\"other\", ax=ax[2])\n",
    "pie_nan = s_nan_counts.plot(kind=\"pie\", label=\"NaN\", ax=ax[3])\n",
    "plt.show()"
   ]
  },
  {
   "cell_type": "code",
   "execution_count": null,
   "id": "a26478dd-6841-4974-965f-c1813a1f3aa8",
   "metadata": {},
   "outputs": [],
   "source": [
    "# next step forward I don't know. I should look at other relationships I guess.  \n",
    "\n"
   ]
  }
 ],
 "metadata": {
  "kernelspec": {
   "display_name": "Python 3",
   "language": "python",
   "name": "python3"
  },
  "language_info": {
   "codemirror_mode": {
    "name": "ipython",
    "version": 3
   },
   "file_extension": ".py",
   "mimetype": "text/x-python",
   "name": "python",
   "nbconvert_exporter": "python",
   "pygments_lexer": "ipython3",
   "version": "3.9.4"
  }
 },
 "nbformat": 4,
 "nbformat_minor": 5
}
