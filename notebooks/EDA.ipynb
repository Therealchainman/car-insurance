{
 "cells": [
  {
   "cell_type": "markdown",
   "id": "e8e00f9c-2890-411c-be21-a1eeaf07611f",
   "metadata": {},
   "source": [
    "## IMPORT LIBRARIES"
   ]
  },
  {
   "cell_type": "code",
   "execution_count": 1,
   "id": "e034253e-5487-48db-8bb3-39de136d71fe",
   "metadata": {
    "collapsed": true,
    "jupyter": {
     "outputs_hidden": true
    },
    "tags": []
   },
   "outputs": [
    {
     "name": "stdout",
     "output_type": "stream",
     "text": [
      "Collecting matplotlib\n",
      "  Downloading matplotlib-3.4.1-cp39-cp39-manylinux1_x86_64.whl (10.3 MB)\n",
      "\u001b[K     |████████████████████████████████| 10.3 MB 5.0 MB/s eta 0:00:01    |████████████▍                   | 4.0 MB 5.0 MB/s eta 0:00:02     |███████████████████████████████▋| 10.2 MB 5.0 MB/s eta 0:00:01\n",
      "\u001b[?25hRequirement already satisfied: python-dateutil>=2.7 in /usr/local/lib/python3.9/site-packages (from matplotlib) (2.8.1)\n",
      "Collecting kiwisolver>=1.0.1\n",
      "  Downloading kiwisolver-1.3.1-cp39-cp39-manylinux1_x86_64.whl (1.2 MB)\n",
      "\u001b[K     |████████████████████████████████| 1.2 MB 13.7 MB/s eta 0:00:01\n",
      "\u001b[?25hCollecting pillow>=6.2.0\n",
      "  Downloading Pillow-8.2.0-cp39-cp39-manylinux1_x86_64.whl (3.0 MB)\n",
      "\u001b[K     |████████████████████████████████| 3.0 MB 8.8 MB/s eta 0:00:01\n",
      "\u001b[?25hRequirement already satisfied: pyparsing>=2.2.1 in /usr/local/lib/python3.9/site-packages (from matplotlib) (2.4.7)\n",
      "Collecting cycler>=0.10\n",
      "  Downloading cycler-0.10.0-py2.py3-none-any.whl (6.5 kB)\n",
      "Requirement already satisfied: numpy>=1.16 in /usr/local/lib/python3.9/site-packages (from matplotlib) (1.20.2)\n",
      "Requirement already satisfied: six in /usr/local/lib/python3.9/site-packages (from cycler>=0.10->matplotlib) (1.15.0)\n",
      "Installing collected packages: pillow, kiwisolver, cycler, matplotlib\n",
      "Successfully installed cycler-0.10.0 kiwisolver-1.3.1 matplotlib-3.4.1 pillow-8.2.0\n",
      "Collecting seaborn\n",
      "  Downloading seaborn-0.11.1-py3-none-any.whl (285 kB)\n",
      "\u001b[K     |████████████████████████████████| 285 kB 6.2 MB/s eta 0:00:01\n",
      "\u001b[?25hRequirement already satisfied: matplotlib>=2.2 in /usr/local/lib/python3.9/site-packages (from seaborn) (3.4.1)\n",
      "Requirement already satisfied: pandas>=0.23 in /usr/local/lib/python3.9/site-packages (from seaborn) (1.2.4)\n",
      "Collecting scipy>=1.0\n",
      "  Downloading scipy-1.6.2-cp39-cp39-manylinux1_x86_64.whl (27.3 MB)\n",
      "\u001b[K     |████████████████████████████████| 27.3 MB 21.5 MB/s eta 0:00:01\n",
      "\u001b[?25hRequirement already satisfied: numpy>=1.15 in /usr/local/lib/python3.9/site-packages (from seaborn) (1.20.2)\n",
      "Requirement already satisfied: pyparsing>=2.2.1 in /usr/local/lib/python3.9/site-packages (from matplotlib>=2.2->seaborn) (2.4.7)\n",
      "Requirement already satisfied: pillow>=6.2.0 in /usr/local/lib/python3.9/site-packages (from matplotlib>=2.2->seaborn) (8.2.0)\n",
      "Requirement already satisfied: kiwisolver>=1.0.1 in /usr/local/lib/python3.9/site-packages (from matplotlib>=2.2->seaborn) (1.3.1)\n",
      "Requirement already satisfied: python-dateutil>=2.7 in /usr/local/lib/python3.9/site-packages (from matplotlib>=2.2->seaborn) (2.8.1)\n",
      "Requirement already satisfied: cycler>=0.10 in /usr/local/lib/python3.9/site-packages (from matplotlib>=2.2->seaborn) (0.10.0)\n",
      "Requirement already satisfied: six in /usr/local/lib/python3.9/site-packages (from cycler>=0.10->matplotlib>=2.2->seaborn) (1.15.0)\n",
      "Requirement already satisfied: pytz>=2017.3 in /usr/local/lib/python3.9/site-packages (from pandas>=0.23->seaborn) (2021.1)\n",
      "Installing collected packages: scipy, seaborn\n",
      "Successfully installed scipy-1.6.2 seaborn-0.11.1\n",
      "Collecting scikit-learn\n",
      "  Downloading scikit_learn-0.24.1-cp39-cp39-manylinux2010_x86_64.whl (23.8 MB)\n",
      "\u001b[K     |████████████████████████████████| 23.8 MB 13.0 MB/s eta 0:00:01   |██████▌                         | 4.9 MB 4.5 MB/s eta 0:00:05     |███████████▌                    | 8.6 MB 4.5 MB/s eta 0:00:04     |█████████████▏                  | 9.8 MB 4.5 MB/s eta 0:00:04     |█████████████████               | 12.6 MB 13.0 MB/s eta 0:00:01     |██████████████████████████▌     | 19.7 MB 13.0 MB/s eta 0:00:01\n",
      "\u001b[?25hCollecting joblib>=0.11\n",
      "  Downloading joblib-1.0.1-py3-none-any.whl (303 kB)\n",
      "\u001b[K     |████████████████████████████████| 303 kB 10.2 MB/s eta 0:00:01\n",
      "\u001b[?25hRequirement already satisfied: numpy>=1.13.3 in /usr/local/lib/python3.9/site-packages (from scikit-learn) (1.20.2)\n",
      "Requirement already satisfied: scipy>=0.19.1 in /usr/local/lib/python3.9/site-packages (from scikit-learn) (1.6.2)\n",
      "Collecting threadpoolctl>=2.0.0\n",
      "  Downloading threadpoolctl-2.1.0-py3-none-any.whl (12 kB)\n",
      "Installing collected packages: threadpoolctl, joblib, scikit-learn\n",
      "Successfully installed joblib-1.0.1 scikit-learn-0.24.1 threadpoolctl-2.1.0\n"
     ]
    }
   ],
   "source": [
    "import pandas as pd\n",
    "!pip install matplotlib\n",
    "import matplotlib.pyplot as plt\n",
    "import matplotlib\n",
    "import random\n",
    "import csv\n",
    "!pip install seaborn\n",
    "!pip install scikit-learn\n",
    "import seaborn as sns\n",
    "import numpy as np\n",
    "sns.set_theme(style=\"ticks\", color_codes=True)"
   ]
  },
  {
   "cell_type": "markdown",
   "id": "551d2a24-1727-4ae5-8a58-98a556f18c68",
   "metadata": {},
   "source": [
    "# Set up jupyter notebooks"
   ]
  },
  {
   "cell_type": "code",
   "execution_count": 192,
   "id": "598f908b-2b21-4424-8316-2b6b52b12fb5",
   "metadata": {
    "collapsed": true,
    "jupyter": {
     "outputs_hidden": true
    },
    "tags": []
   },
   "outputs": [],
   "source": [
    "pd.set_option('display.max_rows', None)\n",
    "pd.set_option('display.max_columns', None)\n",
    "pd.set_option('display.width', None)"
   ]
  },
  {
   "cell_type": "markdown",
   "id": "c1ca9f14-b7ea-4f86-926a-697f83d21f35",
   "metadata": {},
   "source": [
    "# Load the Dataset"
   ]
  },
  {
   "cell_type": "code",
   "execution_count": 309,
   "id": "637b221e-49f0-49d7-8908-bb5bc872e3a5",
   "metadata": {
    "collapsed": true,
    "jupyter": {
     "outputs_hidden": true
    },
    "tags": []
   },
   "outputs": [
    {
     "data": {
      "text/html": [
       "<div>\n",
       "<style scoped>\n",
       "    .dataframe tbody tr th:only-of-type {\n",
       "        vertical-align: middle;\n",
       "    }\n",
       "\n",
       "    .dataframe tbody tr th {\n",
       "        vertical-align: top;\n",
       "    }\n",
       "\n",
       "    .dataframe thead th {\n",
       "        text-align: right;\n",
       "    }\n",
       "</style>\n",
       "<table border=\"1\" class=\"dataframe\">\n",
       "  <thead>\n",
       "    <tr style=\"text-align: right;\">\n",
       "      <th></th>\n",
       "      <th>age</th>\n",
       "      <th>job_type</th>\n",
       "      <th>marital_status</th>\n",
       "      <th>education_level</th>\n",
       "      <th>balance_amt</th>\n",
       "      <th>household_insurance</th>\n",
       "      <th>car_loan</th>\n",
       "      <th>communication</th>\n",
       "      <th>last_contact_day</th>\n",
       "      <th>last_contact_month</th>\n",
       "      <th>no_of_contacts</th>\n",
       "      <th>days_passed</th>\n",
       "      <th>prev_attempts</th>\n",
       "      <th>Outcome</th>\n",
       "      <th>call_start</th>\n",
       "      <th>call_end</th>\n",
       "      <th>car_insurance</th>\n",
       "    </tr>\n",
       "  </thead>\n",
       "  <tbody>\n",
       "    <tr>\n",
       "      <th>0</th>\n",
       "      <td>47.000000</td>\n",
       "      <td>blue-collar</td>\n",
       "      <td>married</td>\n",
       "      <td>primary</td>\n",
       "      <td>1112.000000</td>\n",
       "      <td>1</td>\n",
       "      <td>0</td>\n",
       "      <td>cellular</td>\n",
       "      <td>13</td>\n",
       "      <td>may</td>\n",
       "      <td>1</td>\n",
       "      <td>-1</td>\n",
       "      <td>0</td>\n",
       "      <td>NaN</td>\n",
       "      <td>10:22:20</td>\n",
       "      <td>10:24:29</td>\n",
       "      <td>0</td>\n",
       "    </tr>\n",
       "    <tr>\n",
       "      <th>1</th>\n",
       "      <td>46.031442</td>\n",
       "      <td>management</td>\n",
       "      <td>married</td>\n",
       "      <td>tertiary</td>\n",
       "      <td>1.312372</td>\n",
       "      <td>0</td>\n",
       "      <td>1</td>\n",
       "      <td>cellular</td>\n",
       "      <td>15</td>\n",
       "      <td>may</td>\n",
       "      <td>3</td>\n",
       "      <td>219</td>\n",
       "      <td>1</td>\n",
       "      <td>other</td>\n",
       "      <td>09:06:30</td>\n",
       "      <td>13:59:48</td>\n",
       "      <td>1</td>\n",
       "    </tr>\n",
       "    <tr>\n",
       "      <th>2</th>\n",
       "      <td>36.000000</td>\n",
       "      <td>services</td>\n",
       "      <td>single</td>\n",
       "      <td>NaN</td>\n",
       "      <td>281.000000</td>\n",
       "      <td>1</td>\n",
       "      <td>0</td>\n",
       "      <td>NaN</td>\n",
       "      <td>16</td>\n",
       "      <td>may</td>\n",
       "      <td>1</td>\n",
       "      <td>-1</td>\n",
       "      <td>0</td>\n",
       "      <td>NaN</td>\n",
       "      <td>13:18:41</td>\n",
       "      <td>13:27:16</td>\n",
       "      <td>1</td>\n",
       "    </tr>\n",
       "    <tr>\n",
       "      <th>3</th>\n",
       "      <td>32.000000</td>\n",
       "      <td>technician</td>\n",
       "      <td>single</td>\n",
       "      <td>secondary</td>\n",
       "      <td>540.000000</td>\n",
       "      <td>0</td>\n",
       "      <td>1</td>\n",
       "      <td>cellular</td>\n",
       "      <td>29</td>\n",
       "      <td>jan</td>\n",
       "      <td>1</td>\n",
       "      <td>-1</td>\n",
       "      <td>0</td>\n",
       "      <td>NaN</td>\n",
       "      <td>10:09:18</td>\n",
       "      <td>10:21:48</td>\n",
       "      <td>1</td>\n",
       "    </tr>\n",
       "    <tr>\n",
       "      <th>4</th>\n",
       "      <td>30.000000</td>\n",
       "      <td>admin.</td>\n",
       "      <td>single</td>\n",
       "      <td>secondary</td>\n",
       "      <td>315.000000</td>\n",
       "      <td>1</td>\n",
       "      <td>0</td>\n",
       "      <td>cellular</td>\n",
       "      <td>14</td>\n",
       "      <td>may</td>\n",
       "      <td>3</td>\n",
       "      <td>346</td>\n",
       "      <td>4</td>\n",
       "      <td>failure</td>\n",
       "      <td>12:12:30</td>\n",
       "      <td>12:27:14</td>\n",
       "      <td>1</td>\n",
       "    </tr>\n",
       "    <tr>\n",
       "      <th>5</th>\n",
       "      <td>37.000000</td>\n",
       "      <td>management</td>\n",
       "      <td>married</td>\n",
       "      <td>tertiary</td>\n",
       "      <td>3737.000000</td>\n",
       "      <td>0</td>\n",
       "      <td>0</td>\n",
       "      <td>cellular</td>\n",
       "      <td>7</td>\n",
       "      <td>jul</td>\n",
       "      <td>1</td>\n",
       "      <td>-1</td>\n",
       "      <td>0</td>\n",
       "      <td>NaN</td>\n",
       "      <td>10:15:03</td>\n",
       "      <td>10:18:47</td>\n",
       "      <td>1</td>\n",
       "    </tr>\n",
       "    <tr>\n",
       "      <th>6</th>\n",
       "      <td>30.000000</td>\n",
       "      <td>blue-collar</td>\n",
       "      <td>married</td>\n",
       "      <td>secondary</td>\n",
       "      <td>1.000000</td>\n",
       "      <td>0</td>\n",
       "      <td>1</td>\n",
       "      <td>cellular</td>\n",
       "      <td>9</td>\n",
       "      <td>jul</td>\n",
       "      <td>1</td>\n",
       "      <td>-1</td>\n",
       "      <td>0</td>\n",
       "      <td>NaN</td>\n",
       "      <td>10:51:56</td>\n",
       "      <td>10:57:43</td>\n",
       "      <td>0</td>\n",
       "    </tr>\n",
       "    <tr>\n",
       "      <th>7</th>\n",
       "      <td>21.000000</td>\n",
       "      <td>student</td>\n",
       "      <td>single</td>\n",
       "      <td>primary</td>\n",
       "      <td>1596.000000</td>\n",
       "      <td>0</td>\n",
       "      <td>0</td>\n",
       "      <td>cellular</td>\n",
       "      <td>26</td>\n",
       "      <td>aug</td>\n",
       "      <td>1</td>\n",
       "      <td>93</td>\n",
       "      <td>2</td>\n",
       "      <td>failure</td>\n",
       "      <td>10:10:32</td>\n",
       "      <td>10:12:27</td>\n",
       "      <td>0</td>\n",
       "    </tr>\n",
       "    <tr>\n",
       "      <th>8</th>\n",
       "      <td>52.091704</td>\n",
       "      <td>admin.</td>\n",
       "      <td>married</td>\n",
       "      <td>secondary</td>\n",
       "      <td>101.453662</td>\n",
       "      <td>0</td>\n",
       "      <td>0</td>\n",
       "      <td>cellular</td>\n",
       "      <td>21</td>\n",
       "      <td>aug</td>\n",
       "      <td>3</td>\n",
       "      <td>-1</td>\n",
       "      <td>0</td>\n",
       "      <td>NaN</td>\n",
       "      <td>16:42:19</td>\n",
       "      <td>16:52:35</td>\n",
       "      <td>1</td>\n",
       "    </tr>\n",
       "    <tr>\n",
       "      <th>9</th>\n",
       "      <td>49.000000</td>\n",
       "      <td>technician</td>\n",
       "      <td>married</td>\n",
       "      <td>secondary</td>\n",
       "      <td>412.000000</td>\n",
       "      <td>0</td>\n",
       "      <td>0</td>\n",
       "      <td>cellular</td>\n",
       "      <td>19</td>\n",
       "      <td>aug</td>\n",
       "      <td>8</td>\n",
       "      <td>-1</td>\n",
       "      <td>0</td>\n",
       "      <td>NaN</td>\n",
       "      <td>15:33:44</td>\n",
       "      <td>15:55:17</td>\n",
       "      <td>1</td>\n",
       "    </tr>\n",
       "    <tr>\n",
       "      <th>10</th>\n",
       "      <td>41.000000</td>\n",
       "      <td>admin.</td>\n",
       "      <td>married</td>\n",
       "      <td>secondary</td>\n",
       "      <td>0.000000</td>\n",
       "      <td>0</td>\n",
       "      <td>0</td>\n",
       "      <td>NaN</td>\n",
       "      <td>20</td>\n",
       "      <td>jun</td>\n",
       "      <td>1</td>\n",
       "      <td>-1</td>\n",
       "      <td>0</td>\n",
       "      <td>NaN</td>\n",
       "      <td>14:59:43</td>\n",
       "      <td>15:01:12</td>\n",
       "      <td>0</td>\n",
       "    </tr>\n",
       "    <tr>\n",
       "      <th>11</th>\n",
       "      <td>45.000000</td>\n",
       "      <td>blue-collar</td>\n",
       "      <td>single</td>\n",
       "      <td>primary</td>\n",
       "      <td>116.000000</td>\n",
       "      <td>0</td>\n",
       "      <td>0</td>\n",
       "      <td>NaN</td>\n",
       "      <td>13</td>\n",
       "      <td>apr</td>\n",
       "      <td>1</td>\n",
       "      <td>-1</td>\n",
       "      <td>0</td>\n",
       "      <td>NaN</td>\n",
       "      <td>13:49:02</td>\n",
       "      <td>13:51:04</td>\n",
       "      <td>1</td>\n",
       "    </tr>\n",
       "    <tr>\n",
       "      <th>12</th>\n",
       "      <td>33.631749</td>\n",
       "      <td>retired</td>\n",
       "      <td>married</td>\n",
       "      <td>tertiary</td>\n",
       "      <td>3643.198231</td>\n",
       "      <td>0</td>\n",
       "      <td>0</td>\n",
       "      <td>cellular</td>\n",
       "      <td>20</td>\n",
       "      <td>apr</td>\n",
       "      <td>2</td>\n",
       "      <td>-1</td>\n",
       "      <td>0</td>\n",
       "      <td>NaN</td>\n",
       "      <td>14:24:34</td>\n",
       "      <td>14:27:07</td>\n",
       "      <td>1</td>\n",
       "    </tr>\n",
       "    <tr>\n",
       "      <th>13</th>\n",
       "      <td>40.291210</td>\n",
       "      <td>admin.</td>\n",
       "      <td>married</td>\n",
       "      <td>secondary</td>\n",
       "      <td>86.071939</td>\n",
       "      <td>0</td>\n",
       "      <td>0</td>\n",
       "      <td>cellular</td>\n",
       "      <td>20</td>\n",
       "      <td>jul</td>\n",
       "      <td>1</td>\n",
       "      <td>-1</td>\n",
       "      <td>0</td>\n",
       "      <td>NaN</td>\n",
       "      <td>17:18:27</td>\n",
       "      <td>10:56:10</td>\n",
       "      <td>1</td>\n",
       "    </tr>\n",
       "    <tr>\n",
       "      <th>14</th>\n",
       "      <td>37.000000</td>\n",
       "      <td>management</td>\n",
       "      <td>married</td>\n",
       "      <td>tertiary</td>\n",
       "      <td>165.000000</td>\n",
       "      <td>0</td>\n",
       "      <td>0</td>\n",
       "      <td>cellular</td>\n",
       "      <td>24</td>\n",
       "      <td>aug</td>\n",
       "      <td>1</td>\n",
       "      <td>83</td>\n",
       "      <td>1</td>\n",
       "      <td>other</td>\n",
       "      <td>14:17:16</td>\n",
       "      <td>14:22:31</td>\n",
       "      <td>0</td>\n",
       "    </tr>\n",
       "    <tr>\n",
       "      <th>15</th>\n",
       "      <td>57.078896</td>\n",
       "      <td>management</td>\n",
       "      <td>married</td>\n",
       "      <td>tertiary</td>\n",
       "      <td>259.195700</td>\n",
       "      <td>0</td>\n",
       "      <td>0</td>\n",
       "      <td>cellular</td>\n",
       "      <td>25</td>\n",
       "      <td>aug</td>\n",
       "      <td>4</td>\n",
       "      <td>-1</td>\n",
       "      <td>0</td>\n",
       "      <td>NaN</td>\n",
       "      <td>10:55:33</td>\n",
       "      <td>13:29:25</td>\n",
       "      <td>1</td>\n",
       "    </tr>\n",
       "    <tr>\n",
       "      <th>16</th>\n",
       "      <td>48.000000</td>\n",
       "      <td>services</td>\n",
       "      <td>married</td>\n",
       "      <td>secondary</td>\n",
       "      <td>22.000000</td>\n",
       "      <td>0</td>\n",
       "      <td>0</td>\n",
       "      <td>cellular</td>\n",
       "      <td>2</td>\n",
       "      <td>feb</td>\n",
       "      <td>2</td>\n",
       "      <td>-1</td>\n",
       "      <td>0</td>\n",
       "      <td>NaN</td>\n",
       "      <td>15:41:48</td>\n",
       "      <td>15:48:57</td>\n",
       "      <td>0</td>\n",
       "    </tr>\n",
       "    <tr>\n",
       "      <th>17</th>\n",
       "      <td>35.000000</td>\n",
       "      <td>admin.</td>\n",
       "      <td>married</td>\n",
       "      <td>tertiary</td>\n",
       "      <td>286.000000</td>\n",
       "      <td>0</td>\n",
       "      <td>0</td>\n",
       "      <td>cellular</td>\n",
       "      <td>30</td>\n",
       "      <td>apr</td>\n",
       "      <td>2</td>\n",
       "      <td>-1</td>\n",
       "      <td>0</td>\n",
       "      <td>NaN</td>\n",
       "      <td>13:25:06</td>\n",
       "      <td>13:40:55</td>\n",
       "      <td>1</td>\n",
       "    </tr>\n",
       "    <tr>\n",
       "      <th>18</th>\n",
       "      <td>45.000000</td>\n",
       "      <td>blue-collar</td>\n",
       "      <td>married</td>\n",
       "      <td>primary</td>\n",
       "      <td>121.000000</td>\n",
       "      <td>0</td>\n",
       "      <td>0</td>\n",
       "      <td>cellular</td>\n",
       "      <td>29</td>\n",
       "      <td>aug</td>\n",
       "      <td>11</td>\n",
       "      <td>-1</td>\n",
       "      <td>0</td>\n",
       "      <td>NaN</td>\n",
       "      <td>15:04:14</td>\n",
       "      <td>15:05:47</td>\n",
       "      <td>0</td>\n",
       "    </tr>\n",
       "    <tr>\n",
       "      <th>19</th>\n",
       "      <td>27.000000</td>\n",
       "      <td>services</td>\n",
       "      <td>married</td>\n",
       "      <td>secondary</td>\n",
       "      <td>511.000000</td>\n",
       "      <td>1</td>\n",
       "      <td>0</td>\n",
       "      <td>NaN</td>\n",
       "      <td>30</td>\n",
       "      <td>jun</td>\n",
       "      <td>5</td>\n",
       "      <td>-1</td>\n",
       "      <td>0</td>\n",
       "      <td>NaN</td>\n",
       "      <td>17:20:42</td>\n",
       "      <td>17:22:07</td>\n",
       "      <td>0</td>\n",
       "    </tr>\n",
       "    <tr>\n",
       "      <th>20</th>\n",
       "      <td>47.518173</td>\n",
       "      <td>retired</td>\n",
       "      <td>single</td>\n",
       "      <td>tertiary</td>\n",
       "      <td>3947.451467</td>\n",
       "      <td>1</td>\n",
       "      <td>0</td>\n",
       "      <td>cellular</td>\n",
       "      <td>21</td>\n",
       "      <td>jun</td>\n",
       "      <td>3</td>\n",
       "      <td>-1</td>\n",
       "      <td>0</td>\n",
       "      <td>NaN</td>\n",
       "      <td>10:19:10</td>\n",
       "      <td>16:58:04</td>\n",
       "      <td>1</td>\n",
       "    </tr>\n",
       "    <tr>\n",
       "      <th>21</th>\n",
       "      <td>36.000000</td>\n",
       "      <td>technician</td>\n",
       "      <td>single</td>\n",
       "      <td>secondary</td>\n",
       "      <td>4136.000000</td>\n",
       "      <td>1</td>\n",
       "      <td>0</td>\n",
       "      <td>NaN</td>\n",
       "      <td>30</td>\n",
       "      <td>may</td>\n",
       "      <td>3</td>\n",
       "      <td>-1</td>\n",
       "      <td>0</td>\n",
       "      <td>NaN</td>\n",
       "      <td>12:24:19</td>\n",
       "      <td>12:37:51</td>\n",
       "      <td>1</td>\n",
       "    </tr>\n",
       "    <tr>\n",
       "      <th>22</th>\n",
       "      <td>50.000000</td>\n",
       "      <td>technician</td>\n",
       "      <td>married</td>\n",
       "      <td>secondary</td>\n",
       "      <td>797.000000</td>\n",
       "      <td>1</td>\n",
       "      <td>0</td>\n",
       "      <td>NaN</td>\n",
       "      <td>6</td>\n",
       "      <td>may</td>\n",
       "      <td>1</td>\n",
       "      <td>-1</td>\n",
       "      <td>0</td>\n",
       "      <td>NaN</td>\n",
       "      <td>10:35:04</td>\n",
       "      <td>10:40:58</td>\n",
       "      <td>0</td>\n",
       "    </tr>\n",
       "    <tr>\n",
       "      <th>23</th>\n",
       "      <td>41.000000</td>\n",
       "      <td>management</td>\n",
       "      <td>married</td>\n",
       "      <td>tertiary</td>\n",
       "      <td>771.000000</td>\n",
       "      <td>1</td>\n",
       "      <td>0</td>\n",
       "      <td>cellular</td>\n",
       "      <td>26</td>\n",
       "      <td>aug</td>\n",
       "      <td>8</td>\n",
       "      <td>-1</td>\n",
       "      <td>0</td>\n",
       "      <td>NaN</td>\n",
       "      <td>11:10:57</td>\n",
       "      <td>11:12:43</td>\n",
       "      <td>0</td>\n",
       "    </tr>\n",
       "    <tr>\n",
       "      <th>24</th>\n",
       "      <td>58.000000</td>\n",
       "      <td>management</td>\n",
       "      <td>divorced</td>\n",
       "      <td>tertiary</td>\n",
       "      <td>0.000000</td>\n",
       "      <td>0</td>\n",
       "      <td>0</td>\n",
       "      <td>telephone</td>\n",
       "      <td>10</td>\n",
       "      <td>jul</td>\n",
       "      <td>7</td>\n",
       "      <td>-1</td>\n",
       "      <td>0</td>\n",
       "      <td>NaN</td>\n",
       "      <td>14:33:32</td>\n",
       "      <td>14:37:19</td>\n",
       "      <td>0</td>\n",
       "    </tr>\n",
       "    <tr>\n",
       "      <th>25</th>\n",
       "      <td>34.000000</td>\n",
       "      <td>management</td>\n",
       "      <td>single</td>\n",
       "      <td>tertiary</td>\n",
       "      <td>431.000000</td>\n",
       "      <td>0</td>\n",
       "      <td>0</td>\n",
       "      <td>cellular</td>\n",
       "      <td>16</td>\n",
       "      <td>jul</td>\n",
       "      <td>1</td>\n",
       "      <td>-1</td>\n",
       "      <td>0</td>\n",
       "      <td>NaN</td>\n",
       "      <td>16:29:14</td>\n",
       "      <td>16:35:55</td>\n",
       "      <td>0</td>\n",
       "    </tr>\n",
       "    <tr>\n",
       "      <th>26</th>\n",
       "      <td>35.000000</td>\n",
       "      <td>services</td>\n",
       "      <td>married</td>\n",
       "      <td>secondary</td>\n",
       "      <td>372.000000</td>\n",
       "      <td>1</td>\n",
       "      <td>0</td>\n",
       "      <td>cellular</td>\n",
       "      <td>17</td>\n",
       "      <td>apr</td>\n",
       "      <td>2</td>\n",
       "      <td>280</td>\n",
       "      <td>1</td>\n",
       "      <td>failure</td>\n",
       "      <td>15:41:32</td>\n",
       "      <td>15:44:54</td>\n",
       "      <td>0</td>\n",
       "    </tr>\n",
       "    <tr>\n",
       "      <th>27</th>\n",
       "      <td>51.000000</td>\n",
       "      <td>housemaid</td>\n",
       "      <td>married</td>\n",
       "      <td>primary</td>\n",
       "      <td>605.000000</td>\n",
       "      <td>0</td>\n",
       "      <td>0</td>\n",
       "      <td>cellular</td>\n",
       "      <td>28</td>\n",
       "      <td>aug</td>\n",
       "      <td>14</td>\n",
       "      <td>-1</td>\n",
       "      <td>0</td>\n",
       "      <td>NaN</td>\n",
       "      <td>15:56:29</td>\n",
       "      <td>16:00:59</td>\n",
       "      <td>0</td>\n",
       "    </tr>\n",
       "    <tr>\n",
       "      <th>28</th>\n",
       "      <td>73.000000</td>\n",
       "      <td>retired</td>\n",
       "      <td>married</td>\n",
       "      <td>tertiary</td>\n",
       "      <td>459.000000</td>\n",
       "      <td>0</td>\n",
       "      <td>0</td>\n",
       "      <td>cellular</td>\n",
       "      <td>17</td>\n",
       "      <td>feb</td>\n",
       "      <td>1</td>\n",
       "      <td>-1</td>\n",
       "      <td>0</td>\n",
       "      <td>NaN</td>\n",
       "      <td>11:34:14</td>\n",
       "      <td>11:38:55</td>\n",
       "      <td>1</td>\n",
       "    </tr>\n",
       "    <tr>\n",
       "      <th>29</th>\n",
       "      <td>26.507929</td>\n",
       "      <td>management</td>\n",
       "      <td>single</td>\n",
       "      <td>secondary</td>\n",
       "      <td>146.539647</td>\n",
       "      <td>1</td>\n",
       "      <td>0</td>\n",
       "      <td>cellular</td>\n",
       "      <td>15</td>\n",
       "      <td>may</td>\n",
       "      <td>1</td>\n",
       "      <td>-1</td>\n",
       "      <td>0</td>\n",
       "      <td>NaN</td>\n",
       "      <td>15:02:29</td>\n",
       "      <td>10:52:24</td>\n",
       "      <td>1</td>\n",
       "    </tr>\n",
       "    <tr>\n",
       "      <th>30</th>\n",
       "      <td>32.000000</td>\n",
       "      <td>management</td>\n",
       "      <td>single</td>\n",
       "      <td>tertiary</td>\n",
       "      <td>520.000000</td>\n",
       "      <td>0</td>\n",
       "      <td>0</td>\n",
       "      <td>cellular</td>\n",
       "      <td>3</td>\n",
       "      <td>feb</td>\n",
       "      <td>2</td>\n",
       "      <td>-1</td>\n",
       "      <td>0</td>\n",
       "      <td>NaN</td>\n",
       "      <td>17:26:37</td>\n",
       "      <td>17:34:00</td>\n",
       "      <td>1</td>\n",
       "    </tr>\n",
       "    <tr>\n",
       "      <th>31</th>\n",
       "      <td>33.000000</td>\n",
       "      <td>technician</td>\n",
       "      <td>single</td>\n",
       "      <td>tertiary</td>\n",
       "      <td>3689.000000</td>\n",
       "      <td>0</td>\n",
       "      <td>0</td>\n",
       "      <td>cellular</td>\n",
       "      <td>27</td>\n",
       "      <td>aug</td>\n",
       "      <td>3</td>\n",
       "      <td>-1</td>\n",
       "      <td>0</td>\n",
       "      <td>NaN</td>\n",
       "      <td>12:05:04</td>\n",
       "      <td>12:12:29</td>\n",
       "      <td>1</td>\n",
       "    </tr>\n",
       "    <tr>\n",
       "      <th>32</th>\n",
       "      <td>54.000000</td>\n",
       "      <td>management</td>\n",
       "      <td>married</td>\n",
       "      <td>tertiary</td>\n",
       "      <td>0.000000</td>\n",
       "      <td>0</td>\n",
       "      <td>0</td>\n",
       "      <td>cellular</td>\n",
       "      <td>16</td>\n",
       "      <td>jul</td>\n",
       "      <td>5</td>\n",
       "      <td>-1</td>\n",
       "      <td>0</td>\n",
       "      <td>NaN</td>\n",
       "      <td>17:38:38</td>\n",
       "      <td>17:40:36</td>\n",
       "      <td>0</td>\n",
       "    </tr>\n",
       "    <tr>\n",
       "      <th>33</th>\n",
       "      <td>42.000000</td>\n",
       "      <td>services</td>\n",
       "      <td>married</td>\n",
       "      <td>secondary</td>\n",
       "      <td>1376.000000</td>\n",
       "      <td>1</td>\n",
       "      <td>0</td>\n",
       "      <td>cellular</td>\n",
       "      <td>2</td>\n",
       "      <td>jun</td>\n",
       "      <td>2</td>\n",
       "      <td>92</td>\n",
       "      <td>4</td>\n",
       "      <td>success</td>\n",
       "      <td>12:31:20</td>\n",
       "      <td>12:35:51</td>\n",
       "      <td>1</td>\n",
       "    </tr>\n",
       "    <tr>\n",
       "      <th>34</th>\n",
       "      <td>32.000000</td>\n",
       "      <td>management</td>\n",
       "      <td>married</td>\n",
       "      <td>tertiary</td>\n",
       "      <td>210.000000</td>\n",
       "      <td>0</td>\n",
       "      <td>0</td>\n",
       "      <td>cellular</td>\n",
       "      <td>14</td>\n",
       "      <td>jul</td>\n",
       "      <td>3</td>\n",
       "      <td>-1</td>\n",
       "      <td>0</td>\n",
       "      <td>NaN</td>\n",
       "      <td>17:52:55</td>\n",
       "      <td>17:54:56</td>\n",
       "      <td>0</td>\n",
       "    </tr>\n",
       "    <tr>\n",
       "      <th>35</th>\n",
       "      <td>40.537297</td>\n",
       "      <td>unemployed</td>\n",
       "      <td>married</td>\n",
       "      <td>secondary</td>\n",
       "      <td>1708.760000</td>\n",
       "      <td>1</td>\n",
       "      <td>0</td>\n",
       "      <td>cellular</td>\n",
       "      <td>7</td>\n",
       "      <td>jul</td>\n",
       "      <td>1</td>\n",
       "      <td>37</td>\n",
       "      <td>1</td>\n",
       "      <td>NaN</td>\n",
       "      <td>12:02:42</td>\n",
       "      <td>15:15:00</td>\n",
       "      <td>1</td>\n",
       "    </tr>\n",
       "    <tr>\n",
       "      <th>36</th>\n",
       "      <td>57.968820</td>\n",
       "      <td>retired</td>\n",
       "      <td>married</td>\n",
       "      <td>secondary</td>\n",
       "      <td>-578.611059</td>\n",
       "      <td>0</td>\n",
       "      <td>0</td>\n",
       "      <td>cellular</td>\n",
       "      <td>23</td>\n",
       "      <td>jun</td>\n",
       "      <td>5</td>\n",
       "      <td>-1</td>\n",
       "      <td>0</td>\n",
       "      <td>NaN</td>\n",
       "      <td>09:41:48</td>\n",
       "      <td>17:16:28</td>\n",
       "      <td>1</td>\n",
       "    </tr>\n",
       "    <tr>\n",
       "      <th>37</th>\n",
       "      <td>32.000000</td>\n",
       "      <td>technician</td>\n",
       "      <td>single</td>\n",
       "      <td>tertiary</td>\n",
       "      <td>6746.000000</td>\n",
       "      <td>0</td>\n",
       "      <td>0</td>\n",
       "      <td>cellular</td>\n",
       "      <td>11</td>\n",
       "      <td>nov</td>\n",
       "      <td>1</td>\n",
       "      <td>-1</td>\n",
       "      <td>0</td>\n",
       "      <td>NaN</td>\n",
       "      <td>14:22:37</td>\n",
       "      <td>14:25:56</td>\n",
       "      <td>1</td>\n",
       "    </tr>\n",
       "    <tr>\n",
       "      <th>38</th>\n",
       "      <td>58.000000</td>\n",
       "      <td>retired</td>\n",
       "      <td>married</td>\n",
       "      <td>tertiary</td>\n",
       "      <td>2577.000000</td>\n",
       "      <td>1</td>\n",
       "      <td>1</td>\n",
       "      <td>NaN</td>\n",
       "      <td>15</td>\n",
       "      <td>may</td>\n",
       "      <td>3</td>\n",
       "      <td>-1</td>\n",
       "      <td>0</td>\n",
       "      <td>NaN</td>\n",
       "      <td>14:00:28</td>\n",
       "      <td>14:05:18</td>\n",
       "      <td>0</td>\n",
       "    </tr>\n",
       "    <tr>\n",
       "      <th>39</th>\n",
       "      <td>27.000000</td>\n",
       "      <td>services</td>\n",
       "      <td>single</td>\n",
       "      <td>secondary</td>\n",
       "      <td>-195.000000</td>\n",
       "      <td>1</td>\n",
       "      <td>0</td>\n",
       "      <td>cellular</td>\n",
       "      <td>18</td>\n",
       "      <td>may</td>\n",
       "      <td>1</td>\n",
       "      <td>-1</td>\n",
       "      <td>0</td>\n",
       "      <td>NaN</td>\n",
       "      <td>10:51:19</td>\n",
       "      <td>10:57:50</td>\n",
       "      <td>1</td>\n",
       "    </tr>\n",
       "    <tr>\n",
       "      <th>40</th>\n",
       "      <td>39.000000</td>\n",
       "      <td>services</td>\n",
       "      <td>single</td>\n",
       "      <td>secondary</td>\n",
       "      <td>-244.000000</td>\n",
       "      <td>1</td>\n",
       "      <td>0</td>\n",
       "      <td>NaN</td>\n",
       "      <td>8</td>\n",
       "      <td>may</td>\n",
       "      <td>2</td>\n",
       "      <td>-1</td>\n",
       "      <td>0</td>\n",
       "      <td>NaN</td>\n",
       "      <td>09:12:25</td>\n",
       "      <td>09:14:57</td>\n",
       "      <td>0</td>\n",
       "    </tr>\n",
       "    <tr>\n",
       "      <th>41</th>\n",
       "      <td>44.000000</td>\n",
       "      <td>technician</td>\n",
       "      <td>divorced</td>\n",
       "      <td>secondary</td>\n",
       "      <td>14.000000</td>\n",
       "      <td>0</td>\n",
       "      <td>0</td>\n",
       "      <td>cellular</td>\n",
       "      <td>13</td>\n",
       "      <td>nov</td>\n",
       "      <td>1</td>\n",
       "      <td>92</td>\n",
       "      <td>1</td>\n",
       "      <td>success</td>\n",
       "      <td>14:02:44</td>\n",
       "      <td>14:05:31</td>\n",
       "      <td>1</td>\n",
       "    </tr>\n",
       "    <tr>\n",
       "      <th>42</th>\n",
       "      <td>45.000000</td>\n",
       "      <td>technician</td>\n",
       "      <td>married</td>\n",
       "      <td>tertiary</td>\n",
       "      <td>5110.000000</td>\n",
       "      <td>0</td>\n",
       "      <td>0</td>\n",
       "      <td>cellular</td>\n",
       "      <td>22</td>\n",
       "      <td>apr</td>\n",
       "      <td>2</td>\n",
       "      <td>-1</td>\n",
       "      <td>0</td>\n",
       "      <td>NaN</td>\n",
       "      <td>12:25:23</td>\n",
       "      <td>12:31:04</td>\n",
       "      <td>1</td>\n",
       "    </tr>\n",
       "    <tr>\n",
       "      <th>43</th>\n",
       "      <td>42.000000</td>\n",
       "      <td>entrepreneur</td>\n",
       "      <td>married</td>\n",
       "      <td>secondary</td>\n",
       "      <td>707.000000</td>\n",
       "      <td>0</td>\n",
       "      <td>0</td>\n",
       "      <td>cellular</td>\n",
       "      <td>1</td>\n",
       "      <td>jun</td>\n",
       "      <td>1</td>\n",
       "      <td>348</td>\n",
       "      <td>1</td>\n",
       "      <td>success</td>\n",
       "      <td>17:39:05</td>\n",
       "      <td>17:42:58</td>\n",
       "      <td>0</td>\n",
       "    </tr>\n",
       "    <tr>\n",
       "      <th>44</th>\n",
       "      <td>36.000000</td>\n",
       "      <td>admin.</td>\n",
       "      <td>single</td>\n",
       "      <td>tertiary</td>\n",
       "      <td>5007.000000</td>\n",
       "      <td>1</td>\n",
       "      <td>0</td>\n",
       "      <td>cellular</td>\n",
       "      <td>8</td>\n",
       "      <td>oct</td>\n",
       "      <td>3</td>\n",
       "      <td>331</td>\n",
       "      <td>4</td>\n",
       "      <td>failure</td>\n",
       "      <td>15:47:50</td>\n",
       "      <td>15:50:05</td>\n",
       "      <td>0</td>\n",
       "    </tr>\n",
       "    <tr>\n",
       "      <th>45</th>\n",
       "      <td>34.508390</td>\n",
       "      <td>technician</td>\n",
       "      <td>married</td>\n",
       "      <td>secondary</td>\n",
       "      <td>-12.155994</td>\n",
       "      <td>0</td>\n",
       "      <td>0</td>\n",
       "      <td>cellular</td>\n",
       "      <td>16</td>\n",
       "      <td>jun</td>\n",
       "      <td>2</td>\n",
       "      <td>-1</td>\n",
       "      <td>0</td>\n",
       "      <td>NaN</td>\n",
       "      <td>11:06:59</td>\n",
       "      <td>14:03:36</td>\n",
       "      <td>1</td>\n",
       "    </tr>\n",
       "    <tr>\n",
       "      <th>46</th>\n",
       "      <td>37.000000</td>\n",
       "      <td>services</td>\n",
       "      <td>married</td>\n",
       "      <td>secondary</td>\n",
       "      <td>2128.000000</td>\n",
       "      <td>0</td>\n",
       "      <td>0</td>\n",
       "      <td>NaN</td>\n",
       "      <td>18</td>\n",
       "      <td>jun</td>\n",
       "      <td>1</td>\n",
       "      <td>-1</td>\n",
       "      <td>0</td>\n",
       "      <td>NaN</td>\n",
       "      <td>16:50:42</td>\n",
       "      <td>16:52:27</td>\n",
       "      <td>0</td>\n",
       "    </tr>\n",
       "    <tr>\n",
       "      <th>47</th>\n",
       "      <td>58.000000</td>\n",
       "      <td>management</td>\n",
       "      <td>married</td>\n",
       "      <td>tertiary</td>\n",
       "      <td>1271.000000</td>\n",
       "      <td>1</td>\n",
       "      <td>0</td>\n",
       "      <td>cellular</td>\n",
       "      <td>28</td>\n",
       "      <td>jan</td>\n",
       "      <td>1</td>\n",
       "      <td>-1</td>\n",
       "      <td>0</td>\n",
       "      <td>NaN</td>\n",
       "      <td>14:04:40</td>\n",
       "      <td>14:07:06</td>\n",
       "      <td>0</td>\n",
       "    </tr>\n",
       "    <tr>\n",
       "      <th>48</th>\n",
       "      <td>23.000000</td>\n",
       "      <td>blue-collar</td>\n",
       "      <td>married</td>\n",
       "      <td>primary</td>\n",
       "      <td>1158.000000</td>\n",
       "      <td>1</td>\n",
       "      <td>0</td>\n",
       "      <td>cellular</td>\n",
       "      <td>16</td>\n",
       "      <td>apr</td>\n",
       "      <td>1</td>\n",
       "      <td>-1</td>\n",
       "      <td>0</td>\n",
       "      <td>NaN</td>\n",
       "      <td>12:21:16</td>\n",
       "      <td>12:33:39</td>\n",
       "      <td>0</td>\n",
       "    </tr>\n",
       "    <tr>\n",
       "      <th>49</th>\n",
       "      <td>47.540188</td>\n",
       "      <td>management</td>\n",
       "      <td>married</td>\n",
       "      <td>tertiary</td>\n",
       "      <td>3340.130856</td>\n",
       "      <td>0</td>\n",
       "      <td>0</td>\n",
       "      <td>cellular</td>\n",
       "      <td>5</td>\n",
       "      <td>jun</td>\n",
       "      <td>2</td>\n",
       "      <td>-1</td>\n",
       "      <td>0</td>\n",
       "      <td>NaN</td>\n",
       "      <td>09:39:02</td>\n",
       "      <td>16:06:18</td>\n",
       "      <td>1</td>\n",
       "    </tr>\n",
       "  </tbody>\n",
       "</table>\n",
       "</div>"
      ],
      "text/plain": [
       "          age      job_type marital_status education_level  balance_amt  \\\n",
       "0   47.000000   blue-collar        married         primary  1112.000000   \n",
       "1   46.031442    management        married        tertiary     1.312372   \n",
       "2   36.000000      services         single             NaN   281.000000   \n",
       "3   32.000000    technician         single       secondary   540.000000   \n",
       "4   30.000000        admin.         single       secondary   315.000000   \n",
       "5   37.000000    management        married        tertiary  3737.000000   \n",
       "6   30.000000   blue-collar        married       secondary     1.000000   \n",
       "7   21.000000       student         single         primary  1596.000000   \n",
       "8   52.091704        admin.        married       secondary   101.453662   \n",
       "9   49.000000    technician        married       secondary   412.000000   \n",
       "10  41.000000        admin.        married       secondary     0.000000   \n",
       "11  45.000000   blue-collar         single         primary   116.000000   \n",
       "12  33.631749       retired        married        tertiary  3643.198231   \n",
       "13  40.291210        admin.        married       secondary    86.071939   \n",
       "14  37.000000    management        married        tertiary   165.000000   \n",
       "15  57.078896    management        married        tertiary   259.195700   \n",
       "16  48.000000      services        married       secondary    22.000000   \n",
       "17  35.000000        admin.        married        tertiary   286.000000   \n",
       "18  45.000000   blue-collar        married         primary   121.000000   \n",
       "19  27.000000      services        married       secondary   511.000000   \n",
       "20  47.518173       retired         single        tertiary  3947.451467   \n",
       "21  36.000000    technician         single       secondary  4136.000000   \n",
       "22  50.000000    technician        married       secondary   797.000000   \n",
       "23  41.000000    management        married        tertiary   771.000000   \n",
       "24  58.000000    management       divorced        tertiary     0.000000   \n",
       "25  34.000000    management         single        tertiary   431.000000   \n",
       "26  35.000000      services        married       secondary   372.000000   \n",
       "27  51.000000     housemaid        married         primary   605.000000   \n",
       "28  73.000000       retired        married        tertiary   459.000000   \n",
       "29  26.507929    management         single       secondary   146.539647   \n",
       "30  32.000000    management         single        tertiary   520.000000   \n",
       "31  33.000000    technician         single        tertiary  3689.000000   \n",
       "32  54.000000    management        married        tertiary     0.000000   \n",
       "33  42.000000      services        married       secondary  1376.000000   \n",
       "34  32.000000    management        married        tertiary   210.000000   \n",
       "35  40.537297    unemployed        married       secondary  1708.760000   \n",
       "36  57.968820       retired        married       secondary  -578.611059   \n",
       "37  32.000000    technician         single        tertiary  6746.000000   \n",
       "38  58.000000       retired        married        tertiary  2577.000000   \n",
       "39  27.000000      services         single       secondary  -195.000000   \n",
       "40  39.000000      services         single       secondary  -244.000000   \n",
       "41  44.000000    technician       divorced       secondary    14.000000   \n",
       "42  45.000000    technician        married        tertiary  5110.000000   \n",
       "43  42.000000  entrepreneur        married       secondary   707.000000   \n",
       "44  36.000000        admin.         single        tertiary  5007.000000   \n",
       "45  34.508390    technician        married       secondary   -12.155994   \n",
       "46  37.000000      services        married       secondary  2128.000000   \n",
       "47  58.000000    management        married        tertiary  1271.000000   \n",
       "48  23.000000   blue-collar        married         primary  1158.000000   \n",
       "49  47.540188    management        married        tertiary  3340.130856   \n",
       "\n",
       "    household_insurance  car_loan communication  last_contact_day  \\\n",
       "0                     1         0      cellular                13   \n",
       "1                     0         1      cellular                15   \n",
       "2                     1         0           NaN                16   \n",
       "3                     0         1      cellular                29   \n",
       "4                     1         0      cellular                14   \n",
       "5                     0         0      cellular                 7   \n",
       "6                     0         1      cellular                 9   \n",
       "7                     0         0      cellular                26   \n",
       "8                     0         0      cellular                21   \n",
       "9                     0         0      cellular                19   \n",
       "10                    0         0           NaN                20   \n",
       "11                    0         0           NaN                13   \n",
       "12                    0         0      cellular                20   \n",
       "13                    0         0      cellular                20   \n",
       "14                    0         0      cellular                24   \n",
       "15                    0         0      cellular                25   \n",
       "16                    0         0      cellular                 2   \n",
       "17                    0         0      cellular                30   \n",
       "18                    0         0      cellular                29   \n",
       "19                    1         0           NaN                30   \n",
       "20                    1         0      cellular                21   \n",
       "21                    1         0           NaN                30   \n",
       "22                    1         0           NaN                 6   \n",
       "23                    1         0      cellular                26   \n",
       "24                    0         0     telephone                10   \n",
       "25                    0         0      cellular                16   \n",
       "26                    1         0      cellular                17   \n",
       "27                    0         0      cellular                28   \n",
       "28                    0         0      cellular                17   \n",
       "29                    1         0      cellular                15   \n",
       "30                    0         0      cellular                 3   \n",
       "31                    0         0      cellular                27   \n",
       "32                    0         0      cellular                16   \n",
       "33                    1         0      cellular                 2   \n",
       "34                    0         0      cellular                14   \n",
       "35                    1         0      cellular                 7   \n",
       "36                    0         0      cellular                23   \n",
       "37                    0         0      cellular                11   \n",
       "38                    1         1           NaN                15   \n",
       "39                    1         0      cellular                18   \n",
       "40                    1         0           NaN                 8   \n",
       "41                    0         0      cellular                13   \n",
       "42                    0         0      cellular                22   \n",
       "43                    0         0      cellular                 1   \n",
       "44                    1         0      cellular                 8   \n",
       "45                    0         0      cellular                16   \n",
       "46                    0         0           NaN                18   \n",
       "47                    1         0      cellular                28   \n",
       "48                    1         0      cellular                16   \n",
       "49                    0         0      cellular                 5   \n",
       "\n",
       "   last_contact_month  no_of_contacts  days_passed  prev_attempts  Outcome  \\\n",
       "0                 may               1           -1              0      NaN   \n",
       "1                 may               3          219              1    other   \n",
       "2                 may               1           -1              0      NaN   \n",
       "3                 jan               1           -1              0      NaN   \n",
       "4                 may               3          346              4  failure   \n",
       "5                 jul               1           -1              0      NaN   \n",
       "6                 jul               1           -1              0      NaN   \n",
       "7                 aug               1           93              2  failure   \n",
       "8                 aug               3           -1              0      NaN   \n",
       "9                 aug               8           -1              0      NaN   \n",
       "10                jun               1           -1              0      NaN   \n",
       "11                apr               1           -1              0      NaN   \n",
       "12                apr               2           -1              0      NaN   \n",
       "13                jul               1           -1              0      NaN   \n",
       "14                aug               1           83              1    other   \n",
       "15                aug               4           -1              0      NaN   \n",
       "16                feb               2           -1              0      NaN   \n",
       "17                apr               2           -1              0      NaN   \n",
       "18                aug              11           -1              0      NaN   \n",
       "19                jun               5           -1              0      NaN   \n",
       "20                jun               3           -1              0      NaN   \n",
       "21                may               3           -1              0      NaN   \n",
       "22                may               1           -1              0      NaN   \n",
       "23                aug               8           -1              0      NaN   \n",
       "24                jul               7           -1              0      NaN   \n",
       "25                jul               1           -1              0      NaN   \n",
       "26                apr               2          280              1  failure   \n",
       "27                aug              14           -1              0      NaN   \n",
       "28                feb               1           -1              0      NaN   \n",
       "29                may               1           -1              0      NaN   \n",
       "30                feb               2           -1              0      NaN   \n",
       "31                aug               3           -1              0      NaN   \n",
       "32                jul               5           -1              0      NaN   \n",
       "33                jun               2           92              4  success   \n",
       "34                jul               3           -1              0      NaN   \n",
       "35                jul               1           37              1      NaN   \n",
       "36                jun               5           -1              0      NaN   \n",
       "37                nov               1           -1              0      NaN   \n",
       "38                may               3           -1              0      NaN   \n",
       "39                may               1           -1              0      NaN   \n",
       "40                may               2           -1              0      NaN   \n",
       "41                nov               1           92              1  success   \n",
       "42                apr               2           -1              0      NaN   \n",
       "43                jun               1          348              1  success   \n",
       "44                oct               3          331              4  failure   \n",
       "45                jun               2           -1              0      NaN   \n",
       "46                jun               1           -1              0      NaN   \n",
       "47                jan               1           -1              0      NaN   \n",
       "48                apr               1           -1              0      NaN   \n",
       "49                jun               2           -1              0      NaN   \n",
       "\n",
       "   call_start  call_end  car_insurance  \n",
       "0    10:22:20  10:24:29              0  \n",
       "1    09:06:30  13:59:48              1  \n",
       "2    13:18:41  13:27:16              1  \n",
       "3    10:09:18  10:21:48              1  \n",
       "4    12:12:30  12:27:14              1  \n",
       "5    10:15:03  10:18:47              1  \n",
       "6    10:51:56  10:57:43              0  \n",
       "7    10:10:32  10:12:27              0  \n",
       "8    16:42:19  16:52:35              1  \n",
       "9    15:33:44  15:55:17              1  \n",
       "10   14:59:43  15:01:12              0  \n",
       "11   13:49:02  13:51:04              1  \n",
       "12   14:24:34  14:27:07              1  \n",
       "13   17:18:27  10:56:10              1  \n",
       "14   14:17:16  14:22:31              0  \n",
       "15   10:55:33  13:29:25              1  \n",
       "16   15:41:48  15:48:57              0  \n",
       "17   13:25:06  13:40:55              1  \n",
       "18   15:04:14  15:05:47              0  \n",
       "19   17:20:42  17:22:07              0  \n",
       "20   10:19:10  16:58:04              1  \n",
       "21   12:24:19  12:37:51              1  \n",
       "22   10:35:04  10:40:58              0  \n",
       "23   11:10:57  11:12:43              0  \n",
       "24   14:33:32  14:37:19              0  \n",
       "25   16:29:14  16:35:55              0  \n",
       "26   15:41:32  15:44:54              0  \n",
       "27   15:56:29  16:00:59              0  \n",
       "28   11:34:14  11:38:55              1  \n",
       "29   15:02:29  10:52:24              1  \n",
       "30   17:26:37  17:34:00              1  \n",
       "31   12:05:04  12:12:29              1  \n",
       "32   17:38:38  17:40:36              0  \n",
       "33   12:31:20  12:35:51              1  \n",
       "34   17:52:55  17:54:56              0  \n",
       "35   12:02:42  15:15:00              1  \n",
       "36   09:41:48  17:16:28              1  \n",
       "37   14:22:37  14:25:56              1  \n",
       "38   14:00:28  14:05:18              0  \n",
       "39   10:51:19  10:57:50              1  \n",
       "40   09:12:25  09:14:57              0  \n",
       "41   14:02:44  14:05:31              1  \n",
       "42   12:25:23  12:31:04              1  \n",
       "43   17:39:05  17:42:58              0  \n",
       "44   15:47:50  15:50:05              0  \n",
       "45   11:06:59  14:03:36              1  \n",
       "46   16:50:42  16:52:27              0  \n",
       "47   14:04:40  14:07:06              0  \n",
       "48   12:21:16  12:33:39              0  \n",
       "49   09:39:02  16:06:18              1  "
      ]
     },
     "execution_count": 309,
     "metadata": {},
     "output_type": "execute_result"
    }
   ],
   "source": [
    "df = pd.read_csv(\"/data/projects/car-insurance/data/Train_data.csv\").drop(columns=[\"default_or_not\"])\n",
    "df.head(50)"
   ]
  },
  {
   "cell_type": "markdown",
   "id": "36262b7a-0258-4b90-899c-ca563cca2b4d",
   "metadata": {},
   "source": [
    "# Exploratory Data Analysis (EDA)"
   ]
  },
  {
   "cell_type": "code",
   "execution_count": 270,
   "id": "0e65e587-ca48-46e4-b49c-82cdd98941ba",
   "metadata": {
    "collapsed": true,
    "jupyter": {
     "outputs_hidden": true
    },
    "tags": []
   },
   "outputs": [
    {
     "name": "stdout",
     "output_type": "stream",
     "text": [
      "The size of the dataset 3102\n",
      "The jobs {nan, 'technician', 'retired', 'unemployed', 'management', 'entrepreneur', 'housemaid', 'self-employed', 'admin.', 'student', 'blue-collar', 'services'}\n",
      "The marital status {'married', 'single', 'divorced'}\n",
      "The education levels {nan, 'tertiary', 'secondary', 'primary'}\n",
      "The minimum balance of a customer=-3058.0\n",
      "The maximum balance of a customer=52587.0\n",
      "The number of customers with household insurance=355\n",
      "The number of customers with car loans = 0\n",
      "The communication methods {nan, 'cellular', 'telephone'}\n",
      "the number of customers using telephone = 162\n",
      "The maximum number of contacts = 43\n",
      "The minimum number of contacts = 1\n",
      "The maximum number of days of previous contact = 854\n",
      "The maximum number of previous attempts = 58\n",
      "The outcomes = {nan, 'other', 'failure', 'success'}\n",
      "The number of customers that said yes = 1760, and no = 1342\n",
      "The number of customers that are in management 724\n",
      "The number of management to purchase car insurance = 453\n"
     ]
    }
   ],
   "source": [
    "# note to self for future, bad practice to use number when using df.iterrows() because if I drop a table it will no longer work. \n",
    "# I can always just use the name of the column. \n",
    "num_customers = len(df)\n",
    "print(f\"The size of the dataset {num_customers}\")\n",
    "jobs = {row[1] for _, row in df.iterrows()}\n",
    "print(f\"The jobs {jobs}\")\n",
    "marital_statuses = {row[2] for _, row in df.iterrows()}\n",
    "print(f\"The marital status {marital_statuses}\")\n",
    "edu_levels = {row[3] for _, row in df.iterrows()}\n",
    "print(f\"The education levels {edu_levels}\")\n",
    "print(f\"The minimum balance of a customer={min(df['balance_amt'])}\")\n",
    "print(f\"The maximum balance of a customer={max(df['balance_amt'])}\")\n",
    "num_household_insurance = len([row[5] for _, row in df.iterrows() if row[6]==1])\n",
    "print(f\"The number of customers with household insurance={num_household_insurance}\")\n",
    "num_car_loans = len([row[6] for _, row in df.iterrows() if row[7]==1])\n",
    "print(f\"The number of customers with car loans = {num_car_loans}\")\n",
    "comm_methods = {row[7] for _, row in df.iterrows()}\n",
    "print(f\"The communication methods {comm_methods}\")\n",
    "print(f\"the number of customers using telephone = {len([row[7] for _, row in df.iterrows() if row[7]=='telephone'])}\")\n",
    "print(f\"The maximum number of contacts = {max(df['no_of_contacts'])}\")\n",
    "print(f\"The minimum number of contacts = {min(df['no_of_contacts'])}\")\n",
    "print(f\"The maximum number of days of previous contact = {max(df['days_passed'])}\")\n",
    "print(f\"The maximum number of previous attempts = {max(df['prev_attempts'])}\")\n",
    "outcomes = {row[13] for _, row in df.iterrows()}\n",
    "print(f\"The outcomes = {outcomes}\")\n",
    "num_yes = len([row[16] for _, row in df.iterrows() if row[16]==1])\n",
    "num_no = len([row[16] for _, row in df.iterrows() if row[16]==0])\n",
    "print(f\"The number of customers that said yes = {num_yes}, and no = {num_no}\")\n",
    "print(f\"The number of customers that are in management {len([row[1] for _, row in df.iterrows() if row[1]=='management'])}\")\n",
    "print(f\"The number of management to purchase car insurance = {len([row[1] for _, row in df.iterrows() if row[1]=='management' and row['car_insurance']==1])}\")"
   ]
  },
  {
   "cell_type": "code",
   "execution_count": 203,
   "id": "c722182a-14d6-4409-85ad-529ec8da6ae2",
   "metadata": {
    "collapsed": true,
    "jupyter": {
     "outputs_hidden": true
    },
    "tags": []
   },
   "outputs": [
    {
     "name": "stdout",
     "output_type": "stream",
     "text": [
      "<class 'pandas.core.frame.DataFrame'>\n",
      "RangeIndex: 3102 entries, 0 to 3101\n",
      "Data columns (total 17 columns):\n",
      " #   Column               Non-Null Count  Dtype  \n",
      "---  ------               --------------  -----  \n",
      " 0   age                  3102 non-null   float64\n",
      " 1   job_type             3091 non-null   object \n",
      " 2   marital_status       3102 non-null   object \n",
      " 3   education_level      2989 non-null   object \n",
      " 4   balance_amt          3102 non-null   float64\n",
      " 5   household_insurance  3102 non-null   int64  \n",
      " 6   car_loan             3102 non-null   int64  \n",
      " 7   communication        2559 non-null   object \n",
      " 8   last_contact_day     3102 non-null   int64  \n",
      " 9   last_contact_month   3102 non-null   object \n",
      " 10  no_of_contacts       3102 non-null   int64  \n",
      " 11  days_passed          3102 non-null   int64  \n",
      " 12  prev_attempts        3102 non-null   int64  \n",
      " 13  Outcome              751 non-null    object \n",
      " 14  call_start           3102 non-null   object \n",
      " 15  call_end             3102 non-null   object \n",
      " 16  car_insurance        3102 non-null   int64  \n",
      "dtypes: float64(2), int64(7), object(8)\n",
      "memory usage: 412.1+ KB\n"
     ]
    }
   ],
   "source": [
    "df.info()"
   ]
  },
  {
   "cell_type": "markdown",
   "id": "20f9b87b-a348-4252-b07a-e727982e7661",
   "metadata": {},
   "source": [
    "## Data cleaning for dropping some columns"
   ]
  },
  {
   "cell_type": "code",
   "execution_count": 310,
   "id": "9c0a1883-5957-420c-b0f4-5eba64ab56f9",
   "metadata": {
    "collapsed": true,
    "jupyter": {
     "outputs_hidden": true
    },
    "tags": []
   },
   "outputs": [],
   "source": [
    "df_calls = df\n",
    "df = df.drop(columns=[\"communication\", \"last_contact_day\", \"last_contact_month\", \"days_passed\", \"call_start\", \"call_end\", \"no_of_contacts\", \"prev_attempts\"])"
   ]
  },
  {
   "cell_type": "markdown",
   "id": "9cb51a60-9c95-4249-b3fd-7f0cc0b7c33e",
   "metadata": {},
   "source": [
    "## Analyze the call times in the model "
   ]
  },
  {
   "cell_type": "code",
   "execution_count": 311,
   "id": "60fc9ec8-c5fa-4b03-bbad-47a3e762d839",
   "metadata": {
    "collapsed": true,
    "jupyter": {
     "outputs_hidden": true
    }
   },
   "outputs": [
    {
     "data": {
      "text/html": [
       "<div>\n",
       "<style scoped>\n",
       "    .dataframe tbody tr th:only-of-type {\n",
       "        vertical-align: middle;\n",
       "    }\n",
       "\n",
       "    .dataframe tbody tr th {\n",
       "        vertical-align: top;\n",
       "    }\n",
       "\n",
       "    .dataframe thead th {\n",
       "        text-align: right;\n",
       "    }\n",
       "</style>\n",
       "<table border=\"1\" class=\"dataframe\">\n",
       "  <thead>\n",
       "    <tr style=\"text-align: right;\">\n",
       "      <th></th>\n",
       "      <th>age</th>\n",
       "      <th>household_insurance</th>\n",
       "      <th>Outcome</th>\n",
       "      <th>call_start</th>\n",
       "      <th>call_end</th>\n",
       "      <th>car_insurance</th>\n",
       "    </tr>\n",
       "  </thead>\n",
       "  <tbody>\n",
       "    <tr>\n",
       "      <th>0</th>\n",
       "      <td>47.000000</td>\n",
       "      <td>1</td>\n",
       "      <td>NaN</td>\n",
       "      <td>10:22:20</td>\n",
       "      <td>10:24:29</td>\n",
       "      <td>0</td>\n",
       "    </tr>\n",
       "    <tr>\n",
       "      <th>1</th>\n",
       "      <td>46.031442</td>\n",
       "      <td>0</td>\n",
       "      <td>other</td>\n",
       "      <td>09:06:30</td>\n",
       "      <td>13:59:48</td>\n",
       "      <td>1</td>\n",
       "    </tr>\n",
       "    <tr>\n",
       "      <th>2</th>\n",
       "      <td>36.000000</td>\n",
       "      <td>1</td>\n",
       "      <td>NaN</td>\n",
       "      <td>13:18:41</td>\n",
       "      <td>13:27:16</td>\n",
       "      <td>1</td>\n",
       "    </tr>\n",
       "    <tr>\n",
       "      <th>3</th>\n",
       "      <td>32.000000</td>\n",
       "      <td>0</td>\n",
       "      <td>NaN</td>\n",
       "      <td>10:09:18</td>\n",
       "      <td>10:21:48</td>\n",
       "      <td>1</td>\n",
       "    </tr>\n",
       "    <tr>\n",
       "      <th>4</th>\n",
       "      <td>30.000000</td>\n",
       "      <td>1</td>\n",
       "      <td>failure</td>\n",
       "      <td>12:12:30</td>\n",
       "      <td>12:27:14</td>\n",
       "      <td>1</td>\n",
       "    </tr>\n",
       "  </tbody>\n",
       "</table>\n",
       "</div>"
      ],
      "text/plain": [
       "         age  household_insurance  Outcome call_start  call_end  car_insurance\n",
       "0  47.000000                    1      NaN   10:22:20  10:24:29              0\n",
       "1  46.031442                    0    other   09:06:30  13:59:48              1\n",
       "2  36.000000                    1      NaN   13:18:41  13:27:16              1\n",
       "3  32.000000                    0      NaN   10:09:18  10:21:48              1\n",
       "4  30.000000                    1  failure   12:12:30  12:27:14              1"
      ]
     },
     "execution_count": 311,
     "metadata": {},
     "output_type": "execute_result"
    }
   ],
   "source": [
    "df_calls.drop(inplace=True, columns=[\"last_contact_month\", \"no_of_contacts\", \"days_passed\", \"last_contact_day\", \"communication\", \"car_loan\", \"balance_amt\", \"education_level\", \"marital_status\", \"job_type\", \"prev_attempts\"])\n",
    "df_calls.head()"
   ]
  },
  {
   "cell_type": "markdown",
   "id": "7bc971f7-d2da-45e9-abe3-2e7eec777c7a",
   "metadata": {},
   "source": [
    "## Notebook API"
   ]
  },
  {
   "cell_type": "code",
   "execution_count": 357,
   "id": "24232857-4ae1-453f-8a1f-847d34f3ca0c",
   "metadata": {
    "tags": []
   },
   "outputs": [],
   "source": [
    "def loadData(file):\n",
    "    return pd.read_csv(f\"/data/projects/car-insurance/data/{file}\")\n",
    "\n",
    "def dropColumns(df):\n",
    "    df.drop(inplace=True, columns=[\"default_or_not\", \"last_contact_month\", \"no_of_contacts\", \"days_passed\", \"last_contact_day\", \"communication\", \"car_loan\", \"balance_amt\", \"education_level\", \"marital_status\", \"job_type\", \"prev_attempts\"])\n",
    "\n",
    "def getSeconds(time):\n",
    "    return 3600*int(time[0])+60*int(time[1])+int(time[2])\n",
    "    \n",
    "def duration(start, end):\n",
    "    slst = start.split(':')\n",
    "    elst = end.split(':')\n",
    "    ss = getSeconds(slst)\n",
    "    ee = getSeconds(elst)\n",
    "    dur = ee-ss\n",
    "    if dur<0:\n",
    "        return dur+3600*24\n",
    "    return dur\n",
    "\n",
    "# Inserts the call duration into the dataframe inplace\n",
    "def insertCallDur(df):\n",
    "    call_duration = [duration(row['call_start'], row['call_end']) for _, row in df.iterrows()]\n",
    "    df.drop(inplace=True, columns=['call_start', 'call_end'])\n",
    "    df.insert(3,'duration', call_duration)\n",
    "    \n",
    "def dataProcess(df):\n",
    "    df.loc[(df.Outcome==\"success\"), \"Outcome\"] = 1\n",
    "    df.loc[(df.Outcome==\"other\") | (df.Outcome.isna()), \"Outcome\"] = 0\n",
    "    df.loc[(df.Outcome==\"failure\"), \"Outcome\"] = -1\n",
    "\n",
    "def createDataFrame(file):\n",
    "    df = loadData(file)\n",
    "    # Part of the data cleanup, removing columns\n",
    "    dropColumns(df)\n",
    "    # Part of preprocessing the data, finding the duration\n",
    "    insertCallDur(df)\n",
    "    # More data processing, this time setting outcome from string to numerical values.\n",
    "    dataProcess(df)\n",
    "    return df\n",
    "def savePredictionsv1(preds, name):\n",
    "    with open(f\"/data/projects/car-insurance/data/{name}\", \"w\") as csv_file:\n",
    "        fieldnames = [\"prediction\"]\n",
    "        writer = csv.DictWriter(csv_file, fieldnames=fieldnames)\n",
    "        writer.writeheader()\n",
    "        for i, pred in enumerate(target):\n",
    "            writer.writerow({\"prediction\": str(pred)})\n",
    "            \n",
    "def savePredictionsv2(preds, name, outcomes):\n",
    "    with open(f\"/data/projects/car-insurance/data/{name}\", \"w\") as csv_file:\n",
    "        fieldnames = [\"prediction\"]\n",
    "        writer = csv.DictWriter(csv_file, fieldnames=fieldnames)\n",
    "        writer.writeheader()\n",
    "        for i, pred in enumerate(target):\n",
    "            if outcomes[i]==1:\n",
    "                writer.writerow({\"prediction\": str(1)})\n",
    "            else:\n",
    "                writer.writerow({\"prediction\": str(pred)})"
   ]
  },
  {
   "cell_type": "code",
   "execution_count": 326,
   "id": "aad7ef82-1298-4060-9492-c8195660fa6f",
   "metadata": {
    "tags": []
   },
   "outputs": [
    {
     "name": "stdout",
     "output_type": "stream",
     "text": [
      "count number of times the phone call was over 5 hours 669\n",
      "Those who purchased insurance with long phone calls 657\n"
     ]
    }
   ],
   "source": [
    "df_calls.drop(inplace=True, columns=['call_start', 'call_end'])\n",
    "print(f\"count number of times the phone call was over 5 hours {len([row.duration for _, row in df_calls.iterrows() if row.duration>1000])}\")\n",
    "df_table = df_calls[df_calls['duration']>1000]\n",
    "print(f\"Those who purchased insurance with long phone calls {len([row.car_insurance for _, row in df_table.iterrows() if row.car_insurance==1])}\")"
   ]
  },
  {
   "cell_type": "code",
   "execution_count": 321,
   "id": "906e48c7-62b6-483a-8e66-6da0d0b48ddd",
   "metadata": {
    "collapsed": true,
    "jupyter": {
     "outputs_hidden": true
    }
   },
   "outputs": [
    {
     "data": {
      "text/plain": [
       "<seaborn.axisgrid.FacetGrid at 0x7fd8adf75b20>"
      ]
     },
     "execution_count": 321,
     "metadata": {},
     "output_type": "execute_result"
    },
    {
     "data": {
      "image/png": "[encoded data removed]",
      "text/plain": [
       "<Figure size 360x360 with 1 Axes>"
      ]
     },
     "metadata": {
      "needs_background": "light"
     },
     "output_type": "display_data"
    }
   ],
   "source": [
    "sns.catplot(x='car_insurance', y='duration', data=df_calls)"
   ]
  },
  {
   "cell_type": "markdown",
   "id": "fc7df63f-7b50-4cd6-af1e-abc7406e6f1b",
   "metadata": {},
   "source": [
    "## Set up the plots backend"
   ]
  },
  {
   "cell_type": "code",
   "execution_count": 205,
   "id": "9fdff12f-e6e2-452e-b5a7-cb20047d831a",
   "metadata": {
    "collapsed": true,
    "jupyter": {
     "outputs_hidden": true
    },
    "tags": []
   },
   "outputs": [
    {
     "name": "stdout",
     "output_type": "stream",
     "text": [
      "3.4.1\n"
     ]
    }
   ],
   "source": [
    "%matplotlib inline\n",
    "print(matplotlib.__version__)"
   ]
  },
  {
   "cell_type": "markdown",
   "id": "0d56730d-8d5f-4751-8e6e-1980b337fad0",
   "metadata": {
    "tags": []
   },
   "source": [
    "## Explore hexagonal bin plots"
   ]
  },
  {
   "cell_type": "code",
   "execution_count": 175,
   "id": "0390a4df-6392-408c-8094-1008229842a1",
   "metadata": {
    "collapsed": true,
    "jupyter": {
     "outputs_hidden": true
    },
    "tags": []
   },
   "outputs": [
    {
     "data": {
      "image/png": "[encoded data removed]",
      "text/plain": [
       "<Figure size 1440x432 with 2 Axes>"
      ]
     },
     "metadata": {
      "needs_background": "light"
     },
     "output_type": "display_data"
    }
   ],
   "source": [
    "df.plot(x=\"age\", y=\"car_insurance\", kind=\"hexbin\",figsize=(20,6),gridsize=100,sharex=False)\n",
    "plt.show()"
   ]
  },
  {
   "cell_type": "code",
   "execution_count": 176,
   "id": "a7952d8a-8321-45a6-a280-22c9dd077d28",
   "metadata": {
    "collapsed": true,
    "jupyter": {
     "outputs_hidden": true
    },
    "tags": []
   },
   "outputs": [
    {
     "data": {
      "image/png": "[encoded data removed]",
      "text/plain": [
       "<Figure size 432x288 with 2 Axes>"
      ]
     },
     "metadata": {
      "needs_background": "light"
     },
     "output_type": "display_data"
    }
   ],
   "source": [
    "df.plot(x=\"balance_amt\", y=\"car_insurance\", kind=\"hexbin\", gridsize=10,sharex=False)\n",
    "plt.show()"
   ]
  },
  {
   "cell_type": "markdown",
   "id": "88ec6503-b1e1-4f99-b5f4-288dc6ed227a",
   "metadata": {},
   "source": [
    "## Categorical scatterplots"
   ]
  },
  {
   "cell_type": "code",
   "execution_count": 322,
   "id": "c7982bde-e80e-460f-9938-fc2ff0100750",
   "metadata": {
    "collapsed": true,
    "jupyter": {
     "outputs_hidden": true
    },
    "tags": []
   },
   "outputs": [
    {
     "data": {
      "text/plain": [
       "<seaborn.axisgrid.FacetGrid at 0x7fd8ae7168e0>"
      ]
     },
     "execution_count": 322,
     "metadata": {},
     "output_type": "execute_result"
    },
    {
     "data": {
      "image/png": "[encoded data removed]",
      "text/plain": [
       "<Figure size 360x360 with 1 Axes>"
      ]
     },
     "metadata": {
      "needs_background": "light"
     },
     "output_type": "display_data"
    }
   ],
   "source": [
    "sns.catplot(x=\"car_insurance\", y=\"balance_amt\", data=df)"
   ]
  },
  {
   "cell_type": "code",
   "execution_count": 323,
   "id": "293a60f1-bc0e-4e18-a8ce-f3042ef37bc0",
   "metadata": {
    "collapsed": true,
    "jupyter": {
     "outputs_hidden": true
    },
    "tags": []
   },
   "outputs": [
    {
     "data": {
      "text/plain": [
       "<seaborn.axisgrid.FacetGrid at 0x7fd8b5e2c1c0>"
      ]
     },
     "execution_count": 323,
     "metadata": {},
     "output_type": "execute_result"
    },
    {
     "data": {
      "image/png": "[encoded data removed]",
      "text/plain": [
       "<Figure size 360x360 with 1 Axes>"
      ]
     },
     "metadata": {
      "needs_background": "light"
     },
     "output_type": "display_data"
    }
   ],
   "source": [
    "sns.catplot(x=\"car_insurance\", y=\"age\", data=df)"
   ]
  },
  {
   "cell_type": "markdown",
   "id": "d2d77e25-b2e4-43d9-b816-8a655cc3159f",
   "metadata": {},
   "source": [
    "## Stacked bar plots"
   ]
  },
  {
   "cell_type": "markdown",
   "id": "405787f6-4ae8-4124-a556-ae432ced8b19",
   "metadata": {},
   "source": [
    "## education "
   ]
  },
  {
   "cell_type": "code",
   "execution_count": 179,
   "id": "932edc6f-012f-493e-825a-c53b14b37333",
   "metadata": {
    "collapsed": true,
    "jupyter": {
     "outputs_hidden": true
    },
    "tags": []
   },
   "outputs": [
    {
     "data": {
      "image/png": "[encoded data removed]",
      "text/plain": [
       "<Figure size 720x504 with 1 Axes>"
      ]
     },
     "metadata": {
      "needs_background": "light"
     },
     "output_type": "display_data"
    }
   ],
   "source": [
    "cnt_yes_primary = len(df.loc[(df.education_level == \"primary\") & (df.car_insurance==1)]) \n",
    "cnt_no_primary = len(df.loc[(df.education_level == \"primary\") & (df.car_insurance==0)]) \n",
    "cnt_yes_secondary = len(df.loc[(df.education_level == \"secondary\") & (df.car_insurance==1)]) \n",
    "cnt_no_secondary = len(df.loc[(df.education_level == \"secondary\") & (df.car_insurance==0)]) \n",
    "cnt_yes_tertiary = len(df.loc[(df.education_level == \"tertiary\") & (df.car_insurance==1)]) \n",
    "cnt_no_tertiary = len(df.loc[(df.education_level == \"tertiary\") & (df.car_insurance==0)]) \n",
    "values = [cnt_yes_primary, cnt_no_primary, cnt_yes_secondary, cnt_no_secondary, cnt_yes_tertiary, cnt_no_tertiary]\n",
    "educations = [\"primary\", \"primary\", \"secondary\", \"secondary\",\"tertiary\", \"tertiary\"]\n",
    "insurance = [1, 0, 1, 0, 1, 0]\n",
    "rows = zip(educations, insurance, values)\n",
    "columns = [\"education_level\", \"car_insurance\", \"counts\"]\n",
    "df_edu = pd.DataFrame(rows,columns=columns)\n",
    "df_edu_pivot = df_edu.pivot(index=\"education_level\",columns=\"car_insurance\", values=\"counts\")\n",
    "# why does this work haha?  why do I need to use loc to be able to get the bar graph to work??? \n",
    "df_edu_pivot.loc[:, [0,1]].plot(kind=\"bar\", stacked=True, figsize=(10,7))\n",
    "plt.show()"
   ]
  },
  {
   "cell_type": "markdown",
   "id": "a50062ab-4ccb-4f3c-b7fa-60a86e9e3bcb",
   "metadata": {},
   "source": [
    "##  marital status"
   ]
  },
  {
   "cell_type": "code",
   "execution_count": 180,
   "id": "bd55a836-3ef9-4ddd-a72b-d51d436ff0c7",
   "metadata": {
    "collapsed": true,
    "jupyter": {
     "outputs_hidden": true
    },
    "tags": []
   },
   "outputs": [
    {
     "data": {
      "image/png": "[encoded data removed]",
      "text/plain": [
       "<Figure size 720x504 with 1 Axes>"
      ]
     },
     "metadata": {
      "needs_background": "light"
     },
     "output_type": "display_data"
    }
   ],
   "source": [
    "cnt_yes_single = len(df.loc[(df.marital_status == \"single\") & (df.car_insurance==1)]) \n",
    "cnt_no_single = len(df.loc[(df.marital_status == \"single\") & (df.car_insurance==0)]) \n",
    "cnt_yes_married = len(df.loc[(df.marital_status == \"married\") & (df.car_insurance==1)]) \n",
    "cnt_no_married = len(df.loc[(df.marital_status == \"married\") & (df.car_insurance==0)]) \n",
    "cnt_yes_divorced = len(df.loc[(df.marital_status == \"divorced\") & (df.car_insurance==1)]) \n",
    "cnt_no_divorced = len(df.loc[(df.marital_status == \"divorced\") & (df.car_insurance==0)]) \n",
    "values = [cnt_yes_single, cnt_no_single, cnt_yes_married, cnt_no_married, cnt_yes_divorced, cnt_no_divorced]\n",
    "educations = [\"single\", \"single\", \"married\", \"married\",\"divorced\", \"divorced\"]\n",
    "insurance = [1, 0, 1, 0, 1, 0]\n",
    "rows = zip(educations, insurance, values)\n",
    "columns = [\"marital_status\", \"car_insurance\", \"counts\"]\n",
    "df_edu = pd.DataFrame(rows,columns=columns)\n",
    "df_edu_pivot = df_edu.pivot(index=\"marital_status\",columns=\"car_insurance\", values=\"counts\")\n",
    "# why does this work haha?  why do I need to use loc to be able to get the bar graph to work??? \n",
    "df_edu_pivot.loc[:, [0,1]].plot(kind=\"bar\", stacked=True, figsize=(10,7))\n",
    "plt.show()"
   ]
  },
  {
   "cell_type": "markdown",
   "id": "fa324b8e-5c06-41a7-ad22-3828b505441b",
   "metadata": {},
   "source": [
    "## household_insurance"
   ]
  },
  {
   "cell_type": "code",
   "execution_count": 181,
   "id": "72cf6a9f-f403-4515-ae10-bc57ee7f67da",
   "metadata": {
    "collapsed": true,
    "jupyter": {
     "outputs_hidden": true
    },
    "tags": []
   },
   "outputs": [
    {
     "data": {
      "image/png": "[encoded data removed]",
      "text/plain": [
       "<Figure size 720x504 with 1 Axes>"
      ]
     },
     "metadata": {
      "needs_background": "light"
     },
     "output_type": "display_data"
    }
   ],
   "source": [
    "house_car = len(df.loc[(df.household_insurance == 1) & (df.car_insurance==1)]) \n",
    "house_nocar = len(df.loc[(df.household_insurance == 1) & (df.car_insurance==0)]) \n",
    "nohouse_car = len(df.loc[(df.household_insurance == 0) & (df.car_insurance==1)]) \n",
    "nohouse_nocar = len(df.loc[(df.household_insurance == 0) & (df.car_insurance==0)]) \n",
    "values = [house_car, house_nocar, nohouse_car, nohouse_nocar]\n",
    "educations = [1, 1, 0, 0]\n",
    "insurance = [1, 0, 1, 0]\n",
    "rows = zip(educations, insurance, values)\n",
    "columns = [\"household_insurance\", \"car_insurance\", \"counts\"]\n",
    "df_edu = pd.DataFrame(rows,columns=columns)\n",
    "df_edu_pivot = df_edu.pivot(index=\"household_insurance\",columns=\"car_insurance\", values=\"counts\")\n",
    "# why does this work haha?  why do I need to use loc to be able to get the bar graph to work??? \n",
    "df_edu_pivot.loc[:, [0,1]].plot(kind=\"bar\", stacked=True, figsize=(10,7))\n",
    "plt.show()"
   ]
  },
  {
   "cell_type": "markdown",
   "id": "51240d7c-215b-45c3-88b2-f7d2685af7b7",
   "metadata": {},
   "source": [
    "## car_loan"
   ]
  },
  {
   "cell_type": "code",
   "execution_count": 182,
   "id": "c28b4a51-e615-42f9-9648-3a30ab3f7234",
   "metadata": {
    "collapsed": true,
    "jupyter": {
     "outputs_hidden": true
    },
    "tags": []
   },
   "outputs": [
    {
     "data": {
      "image/png": "[encoded data removed]",
      "text/plain": [
       "<Figure size 720x504 with 1 Axes>"
      ]
     },
     "metadata": {
      "needs_background": "light"
     },
     "output_type": "display_data"
    }
   ],
   "source": [
    "car_car = len(df.loc[(df.car_loan == 1) & (df.car_insurance==1)]) \n",
    "car_nocar = len(df.loc[(df.car_loan == 1) & (df.car_insurance==0)]) \n",
    "nocar_car = len(df.loc[(df.car_loan == 0) & (df.car_insurance==1)]) \n",
    "nocar_nocar = len(df.loc[(df.car_loan == 0) & (df.car_insurance==0)]) \n",
    "values = [car_car, car_nocar, nocar_car, nocar_nocar]\n",
    "educations = [1, 1, 0, 0]\n",
    "insurance = [1, 0, 1, 0]\n",
    "rows = zip(educations, insurance, values)\n",
    "columns = [\"car_loan\", \"car_insurance\", \"counts\"]\n",
    "df_edu = pd.DataFrame(rows,columns=columns)\n",
    "df_edu_pivot = df_edu.pivot(index=\"car_loan\",columns=\"car_insurance\", values=\"counts\")\n",
    "# why does this work haha?  why do I need to use loc to be able to get the bar graph to work??? \n",
    "df_edu_pivot.loc[:, [0,1]].plot(kind=\"bar\", stacked=True, figsize=(10,7))\n",
    "plt.show()"
   ]
  },
  {
   "cell_type": "markdown",
   "id": "784a012b-116a-4e8a-9547-94bfedcac53b",
   "metadata": {},
   "source": []
  },
  {
   "cell_type": "code",
   "execution_count": null,
   "id": "f79c807e-02de-44b0-85f5-1c1859159cb8",
   "metadata": {
    "collapsed": true,
    "jupyter": {
     "outputs_hidden": true
    }
   },
   "outputs": [],
   "source": []
  },
  {
   "cell_type": "markdown",
   "id": "418a77f5-a889-4136-93bb-9f2fa3a5ac99",
   "metadata": {},
   "source": [
    "## Create a series from a multi-column dataframe"
   ]
  },
  {
   "cell_type": "code",
   "execution_count": 183,
   "id": "5a04ea49-6fda-40ba-a6b9-a3bd78b452dc",
   "metadata": {
    "collapsed": true,
    "jupyter": {
     "outputs_hidden": true
    },
    "tags": []
   },
   "outputs": [
    {
     "name": "stdout",
     "output_type": "stream",
     "text": [
      "failure    309\n",
      "success    299\n",
      "other      143\n",
      "Name: Outcome, dtype: int64\n"
     ]
    }
   ],
   "source": [
    "# First I want to drop all the nans\n",
    "df1 = df[df[\"Outcome\"].notna()]\n",
    "# Convert to a series\n",
    "outcome_series = df1[\"Outcome\"].squeeze()\n",
    "outcome_counts = outcome_series.value_counts()\n",
    "print(outcome_counts)\n",
    "# plt.show()"
   ]
  },
  {
   "cell_type": "markdown",
   "id": "63018f6e-43be-476e-aeaa-828864296cd8",
   "metadata": {
    "jupyter": {
     "outputs_hidden": true
    }
   },
   "source": [
    "## Remove rows based on conditional statements for column"
   ]
  },
  {
   "cell_type": "code",
   "execution_count": 184,
   "id": "e4f18524-d4a1-4db2-ad8a-0096da7cb600",
   "metadata": {
    "collapsed": true,
    "jupyter": {
     "outputs_hidden": true
    },
    "tags": []
   },
   "outputs": [],
   "source": [
    "df_success = df[df[\"Outcome\"] == \"success\"]\n",
    "df_failure = df[df[\"Outcome\"] == \"failure\"]\n",
    "df_other = df[df[\"Outcome\"] == \"other\"]\n",
    "df_nan = df[df[\"Outcome\"].isna()]"
   ]
  },
  {
   "cell_type": "markdown",
   "id": "7558da54-d605-4be7-8857-a1124baa1105",
   "metadata": {},
   "source": [
    "## Create Pie charts from series"
   ]
  },
  {
   "cell_type": "code",
   "execution_count": 185,
   "id": "5108f197-8549-4e4a-a273-3a47577485a0",
   "metadata": {
    "collapsed": true,
    "jupyter": {
     "outputs_hidden": true
    },
    "tags": []
   },
   "outputs": [
    {
     "data": {
      "image/png": "[encoded data removed]",
      "text/plain": [
       "<Figure size 864x864 with 4 Axes>"
      ]
     },
     "metadata": {},
     "output_type": "display_data"
    }
   ],
   "source": [
    "s_success = df_success[\"car_insurance\"].squeeze()\n",
    "s_failure = df_failure[\"car_insurance\"].squeeze()\n",
    "s_other = df_other[\"car_insurance\"].squeeze()\n",
    "s_nan = df_nan[\"car_insurance\"].squeeze()\n",
    "s_success_counts = s_success.value_counts()\n",
    "s_failure_counts = s_failure.value_counts()\n",
    "s_other_counts = s_other.value_counts()\n",
    "s_nan_counts = s_nan.value_counts()\n",
    "fig, ax = plt.subplots(ncols=4, figsize=(12,12))\n",
    "pie_success = s_success_counts.plot(kind=\"pie\", label=\"success\", ax=ax[0], autopct='%1.1f%%')\n",
    "pie_failure = s_failure_counts.plot(kind=\"pie\", label=\"failure\", ax=ax[1], autopct='%1.1f%%')\n",
    "pie_other = s_other_counts.plot(kind=\"pie\", label=\"other\", ax=ax[2], autopct='%1.1f%%')\n",
    "pie_nan = s_nan_counts.plot(kind=\"pie\", label=\"NaN\", ax=ax[3], autopct='%1.1f%%')\n",
    "plt.show()"
   ]
  },
  {
   "cell_type": "markdown",
   "id": "410f86e0-ddad-4ab5-8c1d-3675e38afc76",
   "metadata": {},
   "source": [
    "## More Pie Charts for education levels\n"
   ]
  },
  {
   "cell_type": "code",
   "execution_count": 186,
   "id": "248f4dbf-6cfc-4a72-b202-2ba36703c2a5",
   "metadata": {
    "collapsed": true,
    "jupyter": {
     "outputs_hidden": true
    },
    "tags": []
   },
   "outputs": [
    {
     "data": {
      "image/png": "[encoded data removed]",
      "text/plain": [
       "<Figure size 864x864 with 4 Axes>"
      ]
     },
     "metadata": {},
     "output_type": "display_data"
    }
   ],
   "source": [
    "df_tertiary = df[df[\"education_level\"] == \"tertiary\"] \n",
    "df_primary = df[df[\"education_level\"] == \"primary\"] \n",
    "df_secondary = df[df[\"education_level\"] == \"secondary\"] \n",
    "df_nan = df[df[\"education_level\"].isna()] \n",
    "s_tertiary = df_tertiary[\"car_insurance\"].squeeze()\n",
    "s_primary = df_primary[\"car_insurance\"].squeeze()\n",
    "s_secondary = df_secondary[\"car_insurance\"].squeeze()\n",
    "s_nan = df_nan[\"car_insurance\"].squeeze()\n",
    "s_tertiary_counts = s_tertiary.value_counts()\n",
    "s_primary_counts = s_primary.value_counts()\n",
    "s_secondary_counts = s_secondary.value_counts()\n",
    "s_nan_counts = s_nan.value_counts()\n",
    "fig, ax = plt.subplots(ncols=4, figsize=(12,12))\n",
    "pie_tertiary = s_tertiary_counts.plot(kind=\"pie\", label=\"tertiary\", ax=ax[0])\n",
    "pie_primary = s_primary_counts.plot(kind=\"pie\", label=\"primary\", ax=ax[1])\n",
    "pie_secondary = s_secondary_counts.plot(kind=\"pie\", label=\"secondary\", ax=ax[2])\n",
    "pie_nan = s_nan_counts.plot(kind=\"pie\", label=\"NaN\", ax=ax[3])\n",
    "plt.show()"
   ]
  },
  {
   "cell_type": "markdown",
   "id": "ddb054e0-6b67-471d-9b96-d00f3b8ce2fb",
   "metadata": {},
   "source": [
    "## Analyze relationship between balance amount and purchase car insurance in current campaign"
   ]
  },
  {
   "cell_type": "code",
   "execution_count": null,
   "id": "84624a39-3659-4302-a53b-13a9a41d15df",
   "metadata": {
    "collapsed": true,
    "jupyter": {
     "outputs_hidden": true
    }
   },
   "outputs": [],
   "source": []
  },
  {
   "cell_type": "markdown",
   "id": "a0fe1b27-5783-47c0-a968-a434474697d0",
   "metadata": {},
   "source": [
    "# Data Cleaning and Data Preprocessing"
   ]
  },
  {
   "cell_type": "code",
   "execution_count": 9,
   "id": "21e27ee9-5587-4690-a89e-ef8ff1616cd7",
   "metadata": {
    "collapsed": true,
    "jupyter": {
     "outputs_hidden": true
    },
    "tags": []
   },
   "outputs": [],
   "source": [
    "from sklearn.model_selection import train_test_split\n",
    "from sklearn.model_selection import cross_val_score\n",
    "from sklearn.model_selection import StratifiedKFold\n",
    "from sklearn.linear_model import LogisticRegression\n",
    "from sklearn.tree import DecisionTreeClassifier\n",
    "from sklearn.neighbors import KNeighborsClassifier\n",
    "from sklearn.discriminant_analysis import LinearDiscriminantAnalysis\n",
    "from sklearn.naive_bayes import GaussianNB\n",
    "from sklearn.svm import SVC\n",
    "df_train = df\n",
    "df_train.loc[(df.marital_status==\"married\"), \"marital_status\"] = 1\n",
    "df_train.loc[(df.marital_status==\"single\"), \"marital_status\"] = 0\n",
    "df_train.loc[(df.marital_status==\"divorced\"), \"marital_status\"] = -1\n",
    "df_train.loc[(df.education_level==\"tertiary\"), \"education_level\"] = 1\n",
    "df_train.loc[(df.education_level==\"secondary\"), \"education_level\"] = 0\n",
    "df_train.loc[(df.education_level==\"primary\"), \"education_level\"] = -1\n",
    "df_train.loc[(df.Outcome==\"success\"), \"Outcome\"] = 1\n",
    "df_train.loc[(df.Outcome==\"other\") | (df.Outcome.isna()), \"Outcome\"] = 0\n",
    "df_train.loc[(df.Outcome==\"failure\"), \"Outcome\"] = -1\n",
    "df_train.dropna(inplace=True)\n",
    "y_train = np.array(df_train[\"car_insurance\"])\n",
    "X_train = np.array(df_train.drop(columns=[\"car_insurance\", \"job_type\"]))"
   ]
  },
  {
   "cell_type": "markdown",
   "id": "89a44e1b-85cb-4f8b-945b-5ee8d115a39a",
   "metadata": {},
   "source": [
    "## Random Sampling"
   ]
  },
  {
   "cell_type": "code",
   "execution_count": 34,
   "id": "a5b24f7f-d697-4fd4-95b3-0994ade170b2",
   "metadata": {
    "collapsed": true,
    "jupyter": {
     "outputs_hidden": true
    }
   },
   "outputs": [
    {
     "data": {
      "text/html": [
       "<div>\n",
       "<style scoped>\n",
       "    .dataframe tbody tr th:only-of-type {\n",
       "        vertical-align: middle;\n",
       "    }\n",
       "\n",
       "    .dataframe tbody tr th {\n",
       "        vertical-align: top;\n",
       "    }\n",
       "\n",
       "    .dataframe thead th {\n",
       "        text-align: right;\n",
       "    }\n",
       "</style>\n",
       "<table border=\"1\" class=\"dataframe\">\n",
       "  <thead>\n",
       "    <tr style=\"text-align: right;\">\n",
       "      <th></th>\n",
       "      <th>age</th>\n",
       "      <th>job_type</th>\n",
       "      <th>marital_status</th>\n",
       "      <th>education_level</th>\n",
       "      <th>balance_amt</th>\n",
       "      <th>household_insurance</th>\n",
       "      <th>car_loan</th>\n",
       "      <th>Outcome</th>\n",
       "      <th>car_insurance</th>\n",
       "    </tr>\n",
       "  </thead>\n",
       "  <tbody>\n",
       "    <tr>\n",
       "      <th>885</th>\n",
       "      <td>58.000000</td>\n",
       "      <td>unemployed</td>\n",
       "      <td>-1</td>\n",
       "      <td>0</td>\n",
       "      <td>729.000000</td>\n",
       "      <td>0</td>\n",
       "      <td>1</td>\n",
       "      <td>0</td>\n",
       "      <td>0</td>\n",
       "    </tr>\n",
       "    <tr>\n",
       "      <th>98</th>\n",
       "      <td>43.000000</td>\n",
       "      <td>blue-collar</td>\n",
       "      <td>1</td>\n",
       "      <td>0</td>\n",
       "      <td>1335.000000</td>\n",
       "      <td>1</td>\n",
       "      <td>0</td>\n",
       "      <td>0</td>\n",
       "      <td>0</td>\n",
       "    </tr>\n",
       "    <tr>\n",
       "      <th>1356</th>\n",
       "      <td>49.000000</td>\n",
       "      <td>blue-collar</td>\n",
       "      <td>1</td>\n",
       "      <td>-1</td>\n",
       "      <td>518.000000</td>\n",
       "      <td>1</td>\n",
       "      <td>0</td>\n",
       "      <td>0</td>\n",
       "      <td>0</td>\n",
       "    </tr>\n",
       "    <tr>\n",
       "      <th>521</th>\n",
       "      <td>49.726020</td>\n",
       "      <td>technician</td>\n",
       "      <td>1</td>\n",
       "      <td>0</td>\n",
       "      <td>2213.273847</td>\n",
       "      <td>1</td>\n",
       "      <td>0</td>\n",
       "      <td>0</td>\n",
       "      <td>1</td>\n",
       "    </tr>\n",
       "    <tr>\n",
       "      <th>722</th>\n",
       "      <td>39.432558</td>\n",
       "      <td>management</td>\n",
       "      <td>1</td>\n",
       "      <td>1</td>\n",
       "      <td>881.321176</td>\n",
       "      <td>1</td>\n",
       "      <td>0</td>\n",
       "      <td>0</td>\n",
       "      <td>1</td>\n",
       "    </tr>\n",
       "    <tr>\n",
       "      <th>2308</th>\n",
       "      <td>32.000000</td>\n",
       "      <td>services</td>\n",
       "      <td>0</td>\n",
       "      <td>0</td>\n",
       "      <td>936.000000</td>\n",
       "      <td>1</td>\n",
       "      <td>0</td>\n",
       "      <td>0</td>\n",
       "      <td>0</td>\n",
       "    </tr>\n",
       "    <tr>\n",
       "      <th>2358</th>\n",
       "      <td>36.000000</td>\n",
       "      <td>services</td>\n",
       "      <td>0</td>\n",
       "      <td>0</td>\n",
       "      <td>62.000000</td>\n",
       "      <td>1</td>\n",
       "      <td>0</td>\n",
       "      <td>0</td>\n",
       "      <td>0</td>\n",
       "    </tr>\n",
       "    <tr>\n",
       "      <th>499</th>\n",
       "      <td>36.000000</td>\n",
       "      <td>management</td>\n",
       "      <td>1</td>\n",
       "      <td>1</td>\n",
       "      <td>322.000000</td>\n",
       "      <td>1</td>\n",
       "      <td>0</td>\n",
       "      <td>0</td>\n",
       "      <td>0</td>\n",
       "    </tr>\n",
       "    <tr>\n",
       "      <th>800</th>\n",
       "      <td>28.000000</td>\n",
       "      <td>admin.</td>\n",
       "      <td>0</td>\n",
       "      <td>1</td>\n",
       "      <td>832.000000</td>\n",
       "      <td>0</td>\n",
       "      <td>0</td>\n",
       "      <td>-1</td>\n",
       "      <td>1</td>\n",
       "    </tr>\n",
       "    <tr>\n",
       "      <th>748</th>\n",
       "      <td>56.000000</td>\n",
       "      <td>technician</td>\n",
       "      <td>0</td>\n",
       "      <td>0</td>\n",
       "      <td>1437.000000</td>\n",
       "      <td>1</td>\n",
       "      <td>0</td>\n",
       "      <td>0</td>\n",
       "      <td>0</td>\n",
       "    </tr>\n",
       "    <tr>\n",
       "      <th>2116</th>\n",
       "      <td>32.000000</td>\n",
       "      <td>blue-collar</td>\n",
       "      <td>1</td>\n",
       "      <td>0</td>\n",
       "      <td>328.000000</td>\n",
       "      <td>1</td>\n",
       "      <td>0</td>\n",
       "      <td>0</td>\n",
       "      <td>0</td>\n",
       "    </tr>\n",
       "    <tr>\n",
       "      <th>2412</th>\n",
       "      <td>47.000000</td>\n",
       "      <td>entrepreneur</td>\n",
       "      <td>1</td>\n",
       "      <td>1</td>\n",
       "      <td>0.000000</td>\n",
       "      <td>0</td>\n",
       "      <td>0</td>\n",
       "      <td>0</td>\n",
       "      <td>0</td>\n",
       "    </tr>\n",
       "    <tr>\n",
       "      <th>2522</th>\n",
       "      <td>34.558817</td>\n",
       "      <td>management</td>\n",
       "      <td>1</td>\n",
       "      <td>1</td>\n",
       "      <td>3575.985734</td>\n",
       "      <td>1</td>\n",
       "      <td>0</td>\n",
       "      <td>0</td>\n",
       "      <td>1</td>\n",
       "    </tr>\n",
       "    <tr>\n",
       "      <th>1073</th>\n",
       "      <td>30.000000</td>\n",
       "      <td>technician</td>\n",
       "      <td>0</td>\n",
       "      <td>0</td>\n",
       "      <td>4684.000000</td>\n",
       "      <td>1</td>\n",
       "      <td>0</td>\n",
       "      <td>0</td>\n",
       "      <td>1</td>\n",
       "    </tr>\n",
       "    <tr>\n",
       "      <th>85</th>\n",
       "      <td>35.000000</td>\n",
       "      <td>blue-collar</td>\n",
       "      <td>0</td>\n",
       "      <td>1</td>\n",
       "      <td>1830.000000</td>\n",
       "      <td>0</td>\n",
       "      <td>0</td>\n",
       "      <td>0</td>\n",
       "      <td>0</td>\n",
       "    </tr>\n",
       "  </tbody>\n",
       "</table>\n",
       "</div>"
      ],
      "text/plain": [
       "            age      job_type marital_status education_level  balance_amt  \\\n",
       "885   58.000000    unemployed             -1               0   729.000000   \n",
       "98    43.000000   blue-collar              1               0  1335.000000   \n",
       "1356  49.000000   blue-collar              1              -1   518.000000   \n",
       "521   49.726020    technician              1               0  2213.273847   \n",
       "722   39.432558    management              1               1   881.321176   \n",
       "2308  32.000000      services              0               0   936.000000   \n",
       "2358  36.000000      services              0               0    62.000000   \n",
       "499   36.000000    management              1               1   322.000000   \n",
       "800   28.000000        admin.              0               1   832.000000   \n",
       "748   56.000000    technician              0               0  1437.000000   \n",
       "2116  32.000000   blue-collar              1               0   328.000000   \n",
       "2412  47.000000  entrepreneur              1               1     0.000000   \n",
       "2522  34.558817    management              1               1  3575.985734   \n",
       "1073  30.000000    technician              0               0  4684.000000   \n",
       "85    35.000000   blue-collar              0               1  1830.000000   \n",
       "\n",
       "      household_insurance  car_loan Outcome  car_insurance  \n",
       "885                     0         1       0              0  \n",
       "98                      1         0       0              0  \n",
       "1356                    1         0       0              0  \n",
       "521                     1         0       0              1  \n",
       "722                     1         0       0              1  \n",
       "2308                    1         0       0              0  \n",
       "2358                    1         0       0              0  \n",
       "499                     1         0       0              0  \n",
       "800                     0         0      -1              1  \n",
       "748                     1         0       0              0  \n",
       "2116                    1         0       0              0  \n",
       "2412                    0         0       0              0  \n",
       "2522                    1         0       0              1  \n",
       "1073                    1         0       0              1  \n",
       "85                      0         0       0              0  "
      ]
     },
     "execution_count": 34,
     "metadata": {},
     "output_type": "execute_result"
    }
   ],
   "source": [
    "rows = df_train.sample(frac=.005)\n",
    "rows"
   ]
  },
  {
   "cell_type": "code",
   "execution_count": 47,
   "id": "48d0ef03-8b76-44a2-a662-c0ef2218f2e9",
   "metadata": {
    "collapsed": true,
    "jupyter": {
     "outputs_hidden": true
    },
    "tags": []
   },
   "outputs": [
    {
     "name": "stdout",
     "output_type": "stream",
     "text": [
      "The number who bought car insurance in train dataset 1352, the number who didn't buy 1032, the number that bought in test dataset 338, the number that didn't buy 259\n",
      "The number who bought car insurance in train dataset 1352, the number who didn't buy 1033, the number that bought in test dataset 338, the number that didn't buy 258\n",
      "The number who bought car insurance in train dataset 1352, the number who didn't buy 1033, the number that bought in test dataset 338, the number that didn't buy 258\n",
      "The number who bought car insurance in train dataset 1352, the number who didn't buy 1033, the number that bought in test dataset 338, the number that didn't buy 258\n",
      "The number who bought car insurance in train dataset 1352, the number who didn't buy 1033, the number that bought in test dataset 338, the number that didn't buy 258\n",
      "list of possible accuracies [0.5912897822445561, 0.5771812080536913, 0.6308724832214765, 0.5838926174496645, 0.6057046979865772]\n"
     ]
    }
   ],
   "source": [
    "# spot check the algorithms\n",
    "models = []\n",
    "models.append((\"LR\", LogisticRegression(solver=\"liblinear\", multi_class=\"ovr\")))\n",
    "# models.append((\"LDA\", LinearDiscriminantAnalysis()))\n",
    "# models.append((\"KNN\", KNeighborsClassifier()))\n",
    "# models.append((\"CART\", DecisionTreeClassifier()))\n",
    "# models.append((\"NB\", GaussianNB()))\n",
    "# models.append((\"SVM\", SVC(gamma=\"auto\")))\n",
    "# Evaluate each model in turn\n",
    "results = []\n",
    "names = []\n",
    "lst_stratified = []\n",
    "for name, model in models:\n",
    "    kfold = StratifiedKFold(n_splits=5, random_state=1, shuffle=True)\n",
    "    for train_index, test_index in kfold.split(X_train,y_train):\n",
    "        x2, x3 = X_train[train_index], X_train[test_index]\n",
    "        y2, y3 = y_train[train_index], y_train[test_index]\n",
    "        cntYes = len([x for x in y2 if x==1])\n",
    "        cntNo = len([x for x in y2 if x==0])\n",
    "        cntYesTest = len([x for x in y3 if x==1])\n",
    "        cntNoTest = len([x for x in y3 if x==0])\n",
    "        print(f\"The number who bought car insurance in train dataset {cntYes}, the number who didn't buy {cntNo}, the number that bought in test dataset {cntYesTest}, the number that didn't buy {cntNoTest}\")\n",
    "        model.fit(x2,y2)\n",
    "        lst_stratified.append(model.score(x3, y3))\n",
    "    print(\"list of possible accuracies\", lst_stratified)\n",
    "#     cv_results = cross_val_score(model, X_train, y_train, cv=kfold, scoring=\"accuracy\")\n",
    "#     results.append(cv_results)\n",
    "#     print(results)\n",
    "#     names.append(name)\n",
    "#     print(f\"{name}: {cv_results.mean()} ({cv_results.std()})\")\n",
    "#     # compare algorithms\n",
    "#     plt.boxplot(results, labels=names)\n",
    "#     plt.title(\"Algorithm Comparison\")\n",
    "#     plt.show()"
   ]
  },
  {
   "cell_type": "code",
   "execution_count": null,
   "id": "cb36401e-2c09-40e8-beee-c19d02c1cd44",
   "metadata": {
    "collapsed": true,
    "jupyter": {
     "outputs_hidden": true
    }
   },
   "outputs": [],
   "source": [
    "# spot check the algorithms\n",
    "models = []\n",
    "models.append((\"LR\", LogisticRegression(solver=\"liblinear\", multi_class=\"ovr\")))\n",
    "models.append((\"LDA\", LinearDiscriminantAnalysis()))\n",
    "models.append((\"KNN\", KNeighborsClassifier()))\n",
    "models.append((\"CART\", DecisionTreeClassifier()))\n",
    "models.append((\"NB\", GaussianNB()))\n",
    "models.append((\"SVM\", SVC(gamma=\"auto\")))\n",
    "# Evaluate each model in turn\n",
    "results = []\n",
    "names = []\n",
    "for name, model in models:\n",
    "    kfold = StratifiedKFold(n_splits=5, random_state=1, shuffle=True)\n",
    "    cv_results = cross_val_score(model, X_train, y_train, cv=kfold, scoring=\"accuracy\")\n",
    "    results.append(cv_results)\n",
    "    names.append(name)\n",
    "    print(f\"{name}: {cv_results.mean()} ({cv_results.std()})\")\n",
    "# compare algorithms\n",
    "plt.boxplot(results, labels=names)\n",
    "plt.title(\"Algorithm Comparison\")\n",
    "plt.show()"
   ]
  },
  {
   "cell_type": "markdown",
   "id": "80c12bbb-d941-44b7-b6e8-68fea6b167b1",
   "metadata": {},
   "source": [
    "## drop the outcome"
   ]
  },
  {
   "cell_type": "code",
   "execution_count": 60,
   "id": "55db1bd6-0312-4ff9-b89d-188a9ee58b4e",
   "metadata": {
    "collapsed": true,
    "jupyter": {
     "outputs_hidden": true
    }
   },
   "outputs": [],
   "source": [
    "from sklearn.model_selection import train_test_split\n",
    "from sklearn.model_selection import cross_val_score\n",
    "from sklearn.model_selection import StratifiedKFold\n",
    "from sklearn.linear_model import LogisticRegression\n",
    "from sklearn.tree import DecisionTreeClassifier\n",
    "from sklearn.neighbors import KNeighborsClassifier\n",
    "from sklearn.discriminant_analysis import LinearDiscriminantAnalysis\n",
    "from sklearn.naive_bayes import GaussianNB\n",
    "from sklearn.svm import SVC\n",
    "df_train = df\n",
    "df_train.loc[(df.marital_status==\"married\"), \"marital_status\"] = 1\n",
    "df_train.loc[(df.marital_status==\"single\"), \"marital_status\"] = 0\n",
    "df_train.loc[(df.marital_status==\"divorced\"), \"marital_status\"] = -1\n",
    "df_train.loc[(df.education_level==\"tertiary\"), \"education_level\"] = 1\n",
    "df_train.loc[(df.education_level==\"secondary\"), \"education_level\"] = 0\n",
    "df_train.loc[(df.education_level==\"primary\"), \"education_level\"] = -1\n",
    "df_train.dropna(inplace=True)\n",
    "y_train = np.array(df_train[\"car_insurance\"])\n",
    "X_train = np.array(df_train.drop(columns=[\"car_insurance\", \"job_type\", \"Outcome\"]))"
   ]
  },
  {
   "cell_type": "code",
   "execution_count": 133,
   "id": "bb2e8fc8-256a-47ee-97c5-fc609791e7a6",
   "metadata": {
    "collapsed": true,
    "jupyter": {
     "outputs_hidden": true
    }
   },
   "outputs": [
    {
     "name": "stdout",
     "output_type": "stream",
     "text": [
      "LR: 0.5991343743325127 (0.02169627181689867)\n",
      "LDA: 0.5984643575820938 (0.02081912171592084)\n",
      "KNN: 0.5628966982563826 (0.008991680918776246)\n",
      "CART: 0.63166335030859 (0.006711886876929355)\n",
      "NB: 0.5967881915168685 (0.022131988162477325)\n",
      "SVM: 0.6269659258259981 (0.007987877933046795)\n",
      "SVMscale: 0.5689375288073477 (0.002643906412968658)\n"
     ]
    },
    {
     "data": {
      "image/png": "[encoded data removed]",
      "text/plain": [
       "<Figure size 432x288 with 1 Axes>"
      ]
     },
     "metadata": {
      "needs_background": "light"
     },
     "output_type": "display_data"
    }
   ],
   "source": [
    "# spot check the algorithms\n",
    "models = []\n",
    "models.append((\"LR\", LogisticRegression(solver=\"liblinear\", multi_class=\"ovr\")))\n",
    "models.append((\"LDA\", LinearDiscriminantAnalysis()))\n",
    "models.append((\"KNN\", KNeighborsClassifier()))\n",
    "models.append((\"CART\", DecisionTreeClassifier()))\n",
    "models.append((\"NB\", GaussianNB()))\n",
    "models.append((\"SVM\", SVC(gamma=\"auto\")))\n",
    "models.append((\"SVMscale\", SVC(gamma=\"scale\")))\n",
    "# Evaluate each model in turn\n",
    "results = []\n",
    "names = []\n",
    "for name, model in models:\n",
    "    kfold = StratifiedKFold(n_splits=5, random_state=1, shuffle=True)\n",
    "    cv_results = cross_val_score(model, X_train, y_train, cv=kfold, scoring=\"accuracy\")\n",
    "    results.append(cv_results)\n",
    "    names.append(name)\n",
    "    print(f\"{name}: {cv_results.mean()} ({cv_results.std()})\")\n",
    "# compare algorithms\n",
    "plt.boxplot(results, labels=names)\n",
    "plt.title(\"Algorithm Comparison\")\n",
    "plt.show()"
   ]
  },
  {
   "cell_type": "code",
   "execution_count": 124,
   "id": "cea7a84a-6563-4827-b461-d0db813c0702",
   "metadata": {
    "collapsed": true,
    "jupyter": {
     "outputs_hidden": true
    }
   },
   "outputs": [
    {
     "name": "stdout",
     "output_type": "stream",
     "text": [
      "[array([0.57956449, 0.59563758, 0.6409396 , 0.58557047, 0.59395973])]\n",
      "liblinear: 0.5991343743325127 (0.02169627181689867)\n",
      "[array([0.57956449, 0.59563758, 0.6409396 , 0.58557047, 0.59395973]), array([0.57621441, 0.59563758, 0.64261745, 0.58557047, 0.59563758])]\n",
      "newton-cg: 0.5991354985216912 (0.0229108594542482)\n",
      "[array([0.57956449, 0.59563758, 0.6409396 , 0.58557047, 0.59395973]), array([0.57621441, 0.59563758, 0.64261745, 0.58557047, 0.59563758]), array([0.57453936, 0.56543624, 0.63758389, 0.59060403, 0.60067114])]\n",
      "libfgs: 0.5937669330995019 (0.02509950404615425)\n"
     ]
    },
    {
     "data": {
      "image/png": "[encoded data removed]",
      "text/plain": [
       "<Figure size 432x288 with 1 Axes>"
      ]
     },
     "metadata": {
      "needs_background": "light"
     },
     "output_type": "display_data"
    }
   ],
   "source": [
    "# spot check the algorithms\n",
    "models = []\n",
    "models.append((\"liblinear\", LogisticRegression(solver=\"liblinear\")))\n",
    "models.append((\"newton-cg\", LogisticRegression(solver=\"newton-cg\")))\n",
    "models.append((\"libfgs\", LogisticRegression(solver=\"lbfgs\")))\n",
    "# Evaluate each model in turn\n",
    "results = []\n",
    "names = []\n",
    "for name, model in models:\n",
    "    kfold = StratifiedKFold(n_splits=5, random_state=1, shuffle=True)\n",
    "    cv_results = cross_val_score(model, X_train, y_train, cv=kfold, scoring=\"accuracy\")\n",
    "    results.append(cv_results)\n",
    "    print(results)\n",
    "    names.append(name)\n",
    "    print(f\"{name}: {cv_results.mean()} ({cv_results.std()})\")\n",
    "# compare algorithms\n",
    "plt.boxplot(results, labels=names)\n",
    "plt.title(\"Algorithm Comparison\")\n",
    "plt.show()"
   ]
  },
  {
   "cell_type": "markdown",
   "id": "ab29a25f-9a97-4ec3-ab00-d88db84ac6d6",
   "metadata": {},
   "source": [
    "## Dropping more columns"
   ]
  },
  {
   "cell_type": "code",
   "execution_count": 251,
   "id": "0f59a01e-8c11-4c9e-a4bb-be29fba18cd8",
   "metadata": {
    "collapsed": true,
    "jupyter": {
     "outputs_hidden": true
    }
   },
   "outputs": [
    {
     "data": {
      "text/html": [
       "<div>\n",
       "<style scoped>\n",
       "    .dataframe tbody tr th:only-of-type {\n",
       "        vertical-align: middle;\n",
       "    }\n",
       "\n",
       "    .dataframe tbody tr th {\n",
       "        vertical-align: top;\n",
       "    }\n",
       "\n",
       "    .dataframe thead th {\n",
       "        text-align: right;\n",
       "    }\n",
       "</style>\n",
       "<table border=\"1\" class=\"dataframe\">\n",
       "  <thead>\n",
       "    <tr style=\"text-align: right;\">\n",
       "      <th></th>\n",
       "      <th>age</th>\n",
       "      <th>household_insurance</th>\n",
       "      <th>Outcome</th>\n",
       "      <th>car_insurance</th>\n",
       "    </tr>\n",
       "  </thead>\n",
       "  <tbody>\n",
       "    <tr>\n",
       "      <th>0</th>\n",
       "      <td>47.000000</td>\n",
       "      <td>1</td>\n",
       "      <td>0</td>\n",
       "      <td>0</td>\n",
       "    </tr>\n",
       "    <tr>\n",
       "      <th>1</th>\n",
       "      <td>46.031442</td>\n",
       "      <td>0</td>\n",
       "      <td>0</td>\n",
       "      <td>1</td>\n",
       "    </tr>\n",
       "    <tr>\n",
       "      <th>2</th>\n",
       "      <td>36.000000</td>\n",
       "      <td>1</td>\n",
       "      <td>0</td>\n",
       "      <td>1</td>\n",
       "    </tr>\n",
       "    <tr>\n",
       "      <th>3</th>\n",
       "      <td>32.000000</td>\n",
       "      <td>0</td>\n",
       "      <td>0</td>\n",
       "      <td>1</td>\n",
       "    </tr>\n",
       "    <tr>\n",
       "      <th>4</th>\n",
       "      <td>30.000000</td>\n",
       "      <td>1</td>\n",
       "      <td>-1</td>\n",
       "      <td>1</td>\n",
       "    </tr>\n",
       "  </tbody>\n",
       "</table>\n",
       "</div>"
      ],
      "text/plain": [
       "         age  household_insurance Outcome  car_insurance\n",
       "0  47.000000                    1       0              0\n",
       "1  46.031442                    0       0              1\n",
       "2  36.000000                    1       0              1\n",
       "3  32.000000                    0       0              1\n",
       "4  30.000000                    1      -1              1"
      ]
     },
     "execution_count": 251,
     "metadata": {},
     "output_type": "execute_result"
    }
   ],
   "source": [
    "df_origin=df\n",
    "df=df_origin\n",
    "df_train = df.drop(columns=[\"job_type\", \"car_loan\", \"balance_amt\",\"marital_status\", \"education_level\"])\n",
    "# df_train.loc[(df.education_level==\"tertiary\"), \"education_level\"] = 1\n",
    "# df_train.loc[(df.education_level==\"secondary\"), \"education_level\"] = 0\n",
    "# df_train.loc[(df.education_level==\"primary\"), \"education_level\"] = -1\n",
    "df_train.loc[(df.Outcome==\"success\"), \"Outcome\"] = 1\n",
    "df_train.loc[(df.Outcome==\"other\") | (df.Outcome.isna()), \"Outcome\"] = 0\n",
    "df_train.loc[(df.Outcome==\"failure\"), \"Outcome\"] = -1\n",
    "# df_train.dropna(inplace=True)\n",
    "y_train = np.array(df_train[\"car_insurance\"])\n",
    "X_train = np.array(df_train.drop(columns=[\"car_insurance\"]))\n",
    "df_train.head()"
   ]
  },
  {
   "cell_type": "code",
   "execution_count": 245,
   "id": "0a3b3e55-132f-4da1-ac00-c98ad55bc735",
   "metadata": {
    "collapsed": true,
    "jupyter": {
     "outputs_hidden": true
    }
   },
   "outputs": [
    {
     "name": "stdout",
     "output_type": "stream",
     "text": [
      "LR: 0.5963872006649005 (0.020130778465468457)\n",
      "LDA: 0.5960651394732741 (0.01968153055621073)\n",
      "KNN: 0.6121765103111526 (0.025029989690357354)\n",
      "CART: 0.658927847904005 (0.010637706119723606)\n",
      "NB: 0.5892935431925614 (0.01868699609665754)\n",
      "SVM: 0.5773736429276402 (0.012138094502537552)\n",
      "SVMscale: 0.5673762401953145 (0.00044788342915158644)\n"
     ]
    },
    {
     "data": {
      "image/png": "[encoded data removed]",
      "text/plain": [
       "<Figure size 432x288 with 1 Axes>"
      ]
     },
     "metadata": {
      "needs_background": "light"
     },
     "output_type": "display_data"
    }
   ],
   "source": [
    "# spot check the algorithms\n",
    "models = []\n",
    "models.append((\"LR\", LogisticRegression(solver=\"liblinear\")))\n",
    "models.append((\"LDA\", LinearDiscriminantAnalysis()))\n",
    "models.append((\"KNN\", KNeighborsClassifier()))\n",
    "models.append((\"CART\", DecisionTreeClassifier()))\n",
    "models.append((\"NB\", GaussianNB()))\n",
    "models.append((\"SVM\", SVC(gamma=\"auto\")))\n",
    "models.append((\"SVMscale\", SVC(gamma=\"scale\")))\n",
    "# Evaluate each model in turn\n",
    "results = []\n",
    "names = []\n",
    "for name, model in models:\n",
    "    kfold = StratifiedKFold(n_splits=5, random_state=1, shuffle=True)\n",
    "    cv_results = cross_val_score(model, X_train, y_train, cv=kfold, scoring=\"accuracy\")\n",
    "    results.append(cv_results)\n",
    "    names.append(name)\n",
    "    print(f\"{name}: {cv_results.mean()} ({cv_results.std()})\")\n",
    "# compare algorithms\n",
    "plt.boxplot(results, labels=names)\n",
    "plt.title(\"Algorithm Comparison\")\n",
    "plt.show()"
   ]
  },
  {
   "cell_type": "markdown",
   "id": "3d80d484-0f3b-4d96-9d8f-aab0a0700691",
   "metadata": {},
   "source": [
    "## Machine learning with duration and df_calls"
   ]
  },
  {
   "cell_type": "code",
   "execution_count": 327,
   "id": "171c14ea-95a4-423c-adac-5b043e6263f6",
   "metadata": {
    "tags": []
   },
   "outputs": [
    {
     "data": {
      "text/html": [
       "<div>\n",
       "<style scoped>\n",
       "    .dataframe tbody tr th:only-of-type {\n",
       "        vertical-align: middle;\n",
       "    }\n",
       "\n",
       "    .dataframe tbody tr th {\n",
       "        vertical-align: top;\n",
       "    }\n",
       "\n",
       "    .dataframe thead th {\n",
       "        text-align: right;\n",
       "    }\n",
       "</style>\n",
       "<table border=\"1\" class=\"dataframe\">\n",
       "  <thead>\n",
       "    <tr style=\"text-align: right;\">\n",
       "      <th></th>\n",
       "      <th>age</th>\n",
       "      <th>household_insurance</th>\n",
       "      <th>Outcome</th>\n",
       "      <th>duration</th>\n",
       "      <th>car_insurance</th>\n",
       "    </tr>\n",
       "  </thead>\n",
       "  <tbody>\n",
       "    <tr>\n",
       "      <th>0</th>\n",
       "      <td>47.000000</td>\n",
       "      <td>1</td>\n",
       "      <td>0</td>\n",
       "      <td>129</td>\n",
       "      <td>0</td>\n",
       "    </tr>\n",
       "    <tr>\n",
       "      <th>1</th>\n",
       "      <td>46.031442</td>\n",
       "      <td>0</td>\n",
       "      <td>0</td>\n",
       "      <td>17598</td>\n",
       "      <td>1</td>\n",
       "    </tr>\n",
       "    <tr>\n",
       "      <th>2</th>\n",
       "      <td>36.000000</td>\n",
       "      <td>1</td>\n",
       "      <td>0</td>\n",
       "      <td>515</td>\n",
       "      <td>1</td>\n",
       "    </tr>\n",
       "    <tr>\n",
       "      <th>3</th>\n",
       "      <td>32.000000</td>\n",
       "      <td>0</td>\n",
       "      <td>0</td>\n",
       "      <td>750</td>\n",
       "      <td>1</td>\n",
       "    </tr>\n",
       "    <tr>\n",
       "      <th>4</th>\n",
       "      <td>30.000000</td>\n",
       "      <td>1</td>\n",
       "      <td>-1</td>\n",
       "      <td>884</td>\n",
       "      <td>1</td>\n",
       "    </tr>\n",
       "  </tbody>\n",
       "</table>\n",
       "</div>"
      ],
      "text/plain": [
       "         age  household_insurance Outcome  duration  car_insurance\n",
       "0  47.000000                    1       0       129              0\n",
       "1  46.031442                    0       0     17598              1\n",
       "2  36.000000                    1       0       515              1\n",
       "3  32.000000                    0       0       750              1\n",
       "4  30.000000                    1      -1       884              1"
      ]
     },
     "execution_count": 327,
     "metadata": {},
     "output_type": "execute_result"
    }
   ],
   "source": [
    "\n",
    "df_calls.loc[(df.Outcome==\"success\"), \"Outcome\"] = 1\n",
    "df_calls.loc[(df.Outcome==\"other\") | (df.Outcome.isna()), \"Outcome\"] = 0\n",
    "df_calls.loc[(df.Outcome==\"failure\"), \"Outcome\"] = -1\n",
    "y_train = np.array(df_calls[\"car_insurance\"])\n",
    "X_train = np.array(df_calls.drop(columns=[\"car_insurance\"]))"
   ]
  },
  {
   "cell_type": "code",
   "execution_count": 328,
   "id": "087b513c-0f9f-43a6-90e3-664c1223d647",
   "metadata": {},
   "outputs": [
    {
     "name": "stdout",
     "output_type": "stream",
     "text": [
      "LR: 0.7736953924471457 (0.008603236020384139)\n",
      "LDA: 0.6602192093917199 (0.013872617229321317)\n",
      "KNN: 0.7827281699651966 (0.017403163564987015)\n",
      "CART: 0.8010918913303205 (0.014715585666508076)\n",
      "NB: 0.6831094488597994 (0.012871499236819007)\n",
      "SVM: 0.754997662459093 (0.00439236510970771)\n",
      "SVMscale: 0.7201870032725572 (0.015419114248987592)\n"
     ]
    },
    {
     "data": {
      "image/png": "[encoded data removed]",
      "text/plain": [
       "<Figure size 432x288 with 1 Axes>"
      ]
     },
     "metadata": {
      "needs_background": "light"
     },
     "output_type": "display_data"
    }
   ],
   "source": [
    "# spot check the algorithms\n",
    "models = []\n",
    "models.append((\"LR\", LogisticRegression(solver=\"liblinear\")))\n",
    "models.append((\"LDA\", LinearDiscriminantAnalysis()))\n",
    "models.append((\"KNN\", KNeighborsClassifier()))\n",
    "models.append((\"CART\", DecisionTreeClassifier()))\n",
    "models.append((\"NB\", GaussianNB()))\n",
    "models.append((\"SVM\", SVC(gamma=\"auto\")))\n",
    "models.append((\"SVMscale\", SVC(gamma=\"scale\")))\n",
    "# Evaluate each model in turn\n",
    "results = []\n",
    "names = []\n",
    "for name, model in models:\n",
    "    kfold = StratifiedKFold(n_splits=5, random_state=1, shuffle=True)\n",
    "    cv_results = cross_val_score(model, X_train, y_train, cv=kfold, scoring=\"accuracy\")\n",
    "    results.append(cv_results)\n",
    "    names.append(name)\n",
    "    print(f\"{name}: {cv_results.mean()} ({cv_results.std()})\")\n",
    "# compare algorithms\n",
    "plt.boxplot(results, labels=names)\n",
    "plt.title(\"Algorithm Comparison\")\n",
    "plt.show()"
   ]
  },
  {
   "cell_type": "markdown",
   "id": "ac6f8d54-8b11-4a48-ae7f-7748d764875e",
   "metadata": {},
   "source": [
    "# Prediction for Test Dataset"
   ]
  },
  {
   "cell_type": "code",
   "execution_count": 329,
   "id": "b9aca530-adea-47f4-bd80-6d4acba6be15",
   "metadata": {
    "tags": []
   },
   "outputs": [
    {
     "name": "stdout",
     "output_type": "stream",
     "text": [
      "The number of entries in test dataset=935\n"
     ]
    }
   ],
   "source": [
    "df_test = pd.read_csv(\"/data/projects/car-insurance/data/Test_data.csv\")\n",
    "print(f\"The number of entries in test dataset={len(df_test)}\")"
   ]
  },
  {
   "cell_type": "code",
   "execution_count": 330,
   "id": "b36bbf88-77bc-412c-9474-f3f110eb01cf",
   "metadata": {
    "tags": []
   },
   "outputs": [
    {
     "data": {
      "text/html": [
       "<div>\n",
       "<style scoped>\n",
       "    .dataframe tbody tr th:only-of-type {\n",
       "        vertical-align: middle;\n",
       "    }\n",
       "\n",
       "    .dataframe tbody tr th {\n",
       "        vertical-align: top;\n",
       "    }\n",
       "\n",
       "    .dataframe thead th {\n",
       "        text-align: right;\n",
       "    }\n",
       "</style>\n",
       "<table border=\"1\" class=\"dataframe\">\n",
       "  <thead>\n",
       "    <tr style=\"text-align: right;\">\n",
       "      <th></th>\n",
       "      <th>age</th>\n",
       "      <th>household_insurance</th>\n",
       "      <th>Outcome</th>\n",
       "    </tr>\n",
       "  </thead>\n",
       "  <tbody>\n",
       "    <tr>\n",
       "      <th>0</th>\n",
       "      <td>65.000000</td>\n",
       "      <td>0</td>\n",
       "      <td>NaN</td>\n",
       "    </tr>\n",
       "    <tr>\n",
       "      <th>1</th>\n",
       "      <td>36.000000</td>\n",
       "      <td>1</td>\n",
       "      <td>NaN</td>\n",
       "    </tr>\n",
       "    <tr>\n",
       "      <th>2</th>\n",
       "      <td>37.000000</td>\n",
       "      <td>0</td>\n",
       "      <td>success</td>\n",
       "    </tr>\n",
       "    <tr>\n",
       "      <th>3</th>\n",
       "      <td>30.065066</td>\n",
       "      <td>0</td>\n",
       "      <td>NaN</td>\n",
       "    </tr>\n",
       "    <tr>\n",
       "      <th>4</th>\n",
       "      <td>41.000000</td>\n",
       "      <td>1</td>\n",
       "      <td>NaN</td>\n",
       "    </tr>\n",
       "  </tbody>\n",
       "</table>\n",
       "</div>"
      ],
      "text/plain": [
       "         age  household_insurance  Outcome\n",
       "0  65.000000                    0      NaN\n",
       "1  36.000000                    1      NaN\n",
       "2  37.000000                    0  success\n",
       "3  30.065066                    0      NaN\n",
       "4  41.000000                    1      NaN"
      ]
     },
     "execution_count": 330,
     "metadata": {},
     "output_type": "execute_result"
    }
   ],
   "source": [
    "df_test = df_test.drop(columns = [\"communication\", \"last_contact_day\", \"last_contact_month\", \"days_passed\", \"call_start\", \"call_end\", \"no_of_contacts\", \"prev_attempts\", \"default_or_not\", \"job_type\", \"car_loan\", \"balance_amt\",\"marital_status\", \"education_level\"])\n",
    "df_test.head()"
   ]
  },
  {
   "cell_type": "code",
   "execution_count": 254,
   "id": "fbc4af52-07e8-46b4-8ab2-e76c4ca4194b",
   "metadata": {
    "collapsed": true,
    "jupyter": {
     "outputs_hidden": true
    },
    "tags": []
   },
   "outputs": [],
   "source": [
    "# df_test.loc[(df_test.marital_status==\"married\"), \"marital_status\"] = 1\n",
    "# df_test.loc[(df_test.marital_status==\"single\"), \"marital_status\"] = 0\n",
    "# df_test.loc[(df_test.marital_status==\"divorced\"), \"marital_status\"] = -1\n",
    "# df_test.loc[(df_test.education_level==\"tertiary\"), \"education_level\"] = 1\n",
    "# df_test.loc[(df_test.education_level==\"secondary\"), \"education_level\"] = 0\n",
    "# df_test.loc[(df_test.education_level==\"primary\") | (df_test.education_level.isna()), \"education_level\"] = -1\n",
    "df_test.loc[(df_test.Outcome==\"success\"), \"Outcome\"] = 1\n",
    "df_test.loc[(df_test.Outcome==\"other\") | (df_test.Outcome.isna()), \"Outcome\"] = 0\n",
    "df_test.loc[(df_test.Outcome==\"failure\"), \"Outcome\"] = -1\n",
    "# X_test = np.array(df_test)[:,:6]\n",
    "# outcomes = np.array(df_test)[:,6]\n",
    "X_test = np.array(df_test)\n",
    "outcomes = np.array(df_test)[:,2]"
   ]
  },
  {
   "cell_type": "code",
   "execution_count": 255,
   "id": "fbd393ce-01a6-4557-951c-16021e487516",
   "metadata": {
    "collapsed": true,
    "jupyter": {
     "outputs_hidden": true
    },
    "tags": []
   },
   "outputs": [
    {
     "name": "stdout",
     "output_type": "stream",
     "text": [
      "[ 0.00087972 -0.6386845   0.85686933]\n"
     ]
    }
   ],
   "source": [
    "lr=LogisticRegression(random_state=0, solver=\"liblinear\")\n",
    "lr.fit(X_train,y_train)\n",
    "coef = lr.coef_[0]\n",
    "print(coef)\n",
    "target = lr.predict(X_test)"
   ]
  },
  {
   "cell_type": "code",
   "execution_count": 256,
   "id": "cd1cd564-1f2d-4415-8696-bf057a2a0a24",
   "metadata": {
    "collapsed": true,
    "jupyter": {
     "outputs_hidden": true
    }
   },
   "outputs": [],
   "source": [
    "with open(\"/data/projects/car-insurance/data/prediction_results_logistic_regression2.csv\", \"w\") as csv_file:\n",
    "    fieldnames = [\"prediction\"]\n",
    "    writer = csv.DictWriter(csv_file, fieldnames=fieldnames)\n",
    "    writer.writeheader()\n",
    "    for i, pred in enumerate(target):\n",
    "        writer.writerow({\"prediction\": str(pred)})\n",
    "#         if outcomes[i]==1:\n",
    "#             writer.writerow({\"prediction\": str(1)})\n",
    "#         else:\n",
    "#             writer.writerow({\"prediction\": str(pred)})"
   ]
  },
  {
   "cell_type": "markdown",
   "id": "d6d83ec4-d3e2-4d42-8119-4c539946fe65",
   "metadata": {},
   "source": [
    "## Using a CART (classification and regression tree)"
   ]
  },
  {
   "cell_type": "code",
   "execution_count": 364,
   "id": "b160fbe6-ee53-412f-b35f-583fd7147834",
   "metadata": {
    "tags": []
   },
   "outputs": [
    {
     "name": "stdout",
     "output_type": "stream",
     "text": [
      "weights/coefficients = [ 0.00087972 -0.6386845   0.85686933]\n"
     ]
    }
   ],
   "source": [
    "df_test = createDataFrame('Test_data.csv')\n",
    "X_test = np.array(df_test)\n",
    "df_train = createDataFrame('Train_data.csv')\n",
    "X_train, y_train = np.array(df_train.drop(columns = 'car_insurance')), np.array(df_train.car_insurance)\n",
    "outcomes = np.array(df_test)[:,2]\n",
    "dtc = DecisionTreeClassifier()\n",
    "dtc.fit(X_train,y_train)\n",
    "dtc.class_weight\n",
    "print(f\"weights/coefficients = {coef}\")\n",
    "target = dtc.predict(X_test)"
   ]
  },
  {
   "cell_type": "markdown",
   "id": "840b3a4d-a940-492e-a355-440e2d6ba569",
   "metadata": {},
   "source": [
    "### Save the predictions to file"
   ]
  },
  {
   "cell_type": "code",
   "execution_count": 250,
   "id": "0d6dfdf5-138c-4fb3-93c8-bc7097df83a4",
   "metadata": {
    "collapsed": true,
    "jupyter": {
     "outputs_hidden": true
    }
   },
   "outputs": [],
   "source": [
    "savePredictionsv1(target, 'prediction_results_final1')\n",
    "savePredictionsv2(target, 'prediction_results_final2')"
   ]
  },
  {
   "cell_type": "markdown",
   "id": "fdf99dce-a98b-4310-a067-12efa8f5b6f0",
   "metadata": {},
   "source": [
    "## Using SVM"
   ]
  },
  {
   "cell_type": "code",
   "execution_count": 139,
   "id": "8fc035fb-f774-4202-9a3e-74488d867b2a",
   "metadata": {
    "collapsed": true,
    "jupyter": {
     "outputs_hidden": true
    }
   },
   "outputs": [],
   "source": [
    "svm = SVC(gamma=\"auto\")\n",
    "svm.fit(X_train,y_train)\n",
    "target = svm.predict(X_test)"
   ]
  },
  {
   "cell_type": "code",
   "execution_count": 140,
   "id": "b88323e1-d9cf-4bd7-94fb-c00b0264683f",
   "metadata": {
    "collapsed": true,
    "jupyter": {
     "outputs_hidden": true
    }
   },
   "outputs": [],
   "source": [
    "with open(\"/data/projects/car-insurance/data/prediction_results_svm.csv\", \"w\") as csv_file:\n",
    "    fieldnames = [\"prediction\"]\n",
    "    writer = csv.DictWriter(csv_file, fieldnames=fieldnames)\n",
    "    writer.writeheader()\n",
    "    for i, pred in enumerate(target):\n",
    "        if outcomes[i]==1:\n",
    "            writer.writerow({\"prediction\": str(1)})\n",
    "        else:\n",
    "            writer.writerow({\"prediction\": str(pred)})"
   ]
  },
  {
   "cell_type": "code",
   "execution_count": null,
   "id": "534fdb4c-f212-4d77-94d9-15a3dc661538",
   "metadata": {
    "collapsed": true,
    "jupyter": {
     "outputs_hidden": true
    }
   },
   "outputs": [],
   "source": []
  },
  {
   "cell_type": "code",
   "execution_count": 115,
   "id": "6aaf346d-45bd-4b28-b42b-a1720ab2f5eb",
   "metadata": {
    "collapsed": true,
    "jupyter": {
     "outputs_hidden": true
    }
   },
   "outputs": [],
   "source": [
    "# This is a basic algorithm to test submissions and formatting of submissions\n",
    "target = []\n",
    "def rand50():\n",
    "    return random.choice([0,1])\n",
    "def rand75():\n",
    "    return rand50() | rand50()\n",
    "for _, row in df_test.iterrows():\n",
    "    if row[\"Outcome\"]!=\"success\":\n",
    "        target.append(rand50())\n",
    "    else:\n",
    "        target.append(1)"
   ]
  },
  {
   "cell_type": "markdown",
   "id": "bd74c87d-0c07-4000-b494-72908f4be958",
   "metadata": {},
   "source": [
    "## Save data to a csv file "
   ]
  },
  {
   "cell_type": "code",
   "execution_count": 128,
   "id": "658acdb8-36e2-4ccf-98e2-a46c2a57dd52",
   "metadata": {
    "collapsed": true,
    "jupyter": {
     "outputs_hidden": true
    },
    "tags": []
   },
   "outputs": [],
   "source": [
    "with open(\"/data/projects/car-insurance/data/prediction_results.csv\", \"w\") as csv_file:\n",
    "    fieldnames = [\"prediction\"]\n",
    "    writer = csv.DictWriter(csv_file, fieldnames=fieldnames)\n",
    "    writer.writeheader()\n",
    "    for pred in target:\n",
    "        writer.writerow({\"prediction\": str(pred)})\n"
   ]
  },
  {
   "cell_type": "code",
   "execution_count": null,
   "id": "9c68bb6d-906d-4660-a197-1f6980888133",
   "metadata": {
    "collapsed": true,
    "jupyter": {
     "outputs_hidden": true
    }
   },
   "outputs": [],
   "source": [
    "# res = pd.DataFrame(predictions)\n",
    "# res.index = test_new.index\n",
    "# res.columns = [\"prediction\"]\n",
    "# res.to_csv(\"prediction_results.csv\", index=False)"
   ]
  }
 ],
 "metadata": {
  "kernelspec": {
   "display_name": "Python 3",
   "language": "python",
   "name": "python3"
  },
  "language_info": {
   "codemirror_mode": {
    "name": "ipython",
    "version": 3
   },
   "file_extension": ".py",
   "mimetype": "text/x-python",
   "name": "python",
   "nbconvert_exporter": "python",
   "pygments_lexer": "ipython3",
   "version": "3.9.4"
  }
 },
 "nbformat": 4,
 "nbformat_minor": 5
}
