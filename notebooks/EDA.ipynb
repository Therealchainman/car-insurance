{
 "cells": [
  {
   "cell_type": "markdown",
   "id": "e8e00f9c-2890-411c-be21-a1eeaf07611f",
   "metadata": {},
   "source": [
    "## IMPORT LIBRARIES"
   ]
  },
  {
   "cell_type": "code",
   "execution_count": 1,
   "id": "e034253e-5487-48db-8bb3-39de136d71fe",
   "metadata": {
    "tags": []
   },
   "outputs": [
    {
     "name": "stdout",
     "output_type": "stream",
     "text": [
      "Collecting matplotlib\n",
      "  Downloading matplotlib-3.4.1-cp39-cp39-manylinux1_x86_64.whl (10.3 MB)\n",
      "\u001b[K     |████████████████████████████████| 10.3 MB 5.0 MB/s eta 0:00:01    |████████████▍                   | 4.0 MB 5.0 MB/s eta 0:00:02     |███████████████████████████████▋| 10.2 MB 5.0 MB/s eta 0:00:01\n",
      "\u001b[?25hRequirement already satisfied: python-dateutil>=2.7 in /usr/local/lib/python3.9/site-packages (from matplotlib) (2.8.1)\n",
      "Collecting kiwisolver>=1.0.1\n",
      "  Downloading kiwisolver-1.3.1-cp39-cp39-manylinux1_x86_64.whl (1.2 MB)\n",
      "\u001b[K     |████████████████████████████████| 1.2 MB 13.7 MB/s eta 0:00:01\n",
      "\u001b[?25hCollecting pillow>=6.2.0\n",
      "  Downloading Pillow-8.2.0-cp39-cp39-manylinux1_x86_64.whl (3.0 MB)\n",
      "\u001b[K     |████████████████████████████████| 3.0 MB 8.8 MB/s eta 0:00:01\n",
      "\u001b[?25hRequirement already satisfied: pyparsing>=2.2.1 in /usr/local/lib/python3.9/site-packages (from matplotlib) (2.4.7)\n",
      "Collecting cycler>=0.10\n",
      "  Downloading cycler-0.10.0-py2.py3-none-any.whl (6.5 kB)\n",
      "Requirement already satisfied: numpy>=1.16 in /usr/local/lib/python3.9/site-packages (from matplotlib) (1.20.2)\n",
      "Requirement already satisfied: six in /usr/local/lib/python3.9/site-packages (from cycler>=0.10->matplotlib) (1.15.0)\n",
      "Installing collected packages: pillow, kiwisolver, cycler, matplotlib\n",
      "Successfully installed cycler-0.10.0 kiwisolver-1.3.1 matplotlib-3.4.1 pillow-8.2.0\n",
      "Collecting seaborn\n",
      "  Downloading seaborn-0.11.1-py3-none-any.whl (285 kB)\n",
      "\u001b[K     |████████████████████████████████| 285 kB 6.2 MB/s eta 0:00:01\n",
      "\u001b[?25hRequirement already satisfied: matplotlib>=2.2 in /usr/local/lib/python3.9/site-packages (from seaborn) (3.4.1)\n",
      "Requirement already satisfied: pandas>=0.23 in /usr/local/lib/python3.9/site-packages (from seaborn) (1.2.4)\n",
      "Collecting scipy>=1.0\n",
      "  Downloading scipy-1.6.2-cp39-cp39-manylinux1_x86_64.whl (27.3 MB)\n",
      "\u001b[K     |████████████████████████████████| 27.3 MB 21.5 MB/s eta 0:00:01\n",
      "\u001b[?25hRequirement already satisfied: numpy>=1.15 in /usr/local/lib/python3.9/site-packages (from seaborn) (1.20.2)\n",
      "Requirement already satisfied: pyparsing>=2.2.1 in /usr/local/lib/python3.9/site-packages (from matplotlib>=2.2->seaborn) (2.4.7)\n",
      "Requirement already satisfied: pillow>=6.2.0 in /usr/local/lib/python3.9/site-packages (from matplotlib>=2.2->seaborn) (8.2.0)\n",
      "Requirement already satisfied: kiwisolver>=1.0.1 in /usr/local/lib/python3.9/site-packages (from matplotlib>=2.2->seaborn) (1.3.1)\n",
      "Requirement already satisfied: python-dateutil>=2.7 in /usr/local/lib/python3.9/site-packages (from matplotlib>=2.2->seaborn) (2.8.1)\n",
      "Requirement already satisfied: cycler>=0.10 in /usr/local/lib/python3.9/site-packages (from matplotlib>=2.2->seaborn) (0.10.0)\n",
      "Requirement already satisfied: six in /usr/local/lib/python3.9/site-packages (from cycler>=0.10->matplotlib>=2.2->seaborn) (1.15.0)\n",
      "Requirement already satisfied: pytz>=2017.3 in /usr/local/lib/python3.9/site-packages (from pandas>=0.23->seaborn) (2021.1)\n",
      "Installing collected packages: scipy, seaborn\n",
      "Successfully installed scipy-1.6.2 seaborn-0.11.1\n",
      "Collecting scikit-learn\n",
      "  Downloading scikit_learn-0.24.1-cp39-cp39-manylinux2010_x86_64.whl (23.8 MB)\n",
      "\u001b[K     |████████████████████████████████| 23.8 MB 13.0 MB/s eta 0:00:01   |██████▌                         | 4.9 MB 4.5 MB/s eta 0:00:05     |███████████▌                    | 8.6 MB 4.5 MB/s eta 0:00:04     |█████████████▏                  | 9.8 MB 4.5 MB/s eta 0:00:04     |█████████████████               | 12.6 MB 13.0 MB/s eta 0:00:01     |██████████████████████████▌     | 19.7 MB 13.0 MB/s eta 0:00:01\n",
      "\u001b[?25hCollecting joblib>=0.11\n",
      "  Downloading joblib-1.0.1-py3-none-any.whl (303 kB)\n",
      "\u001b[K     |████████████████████████████████| 303 kB 10.2 MB/s eta 0:00:01\n",
      "\u001b[?25hRequirement already satisfied: numpy>=1.13.3 in /usr/local/lib/python3.9/site-packages (from scikit-learn) (1.20.2)\n",
      "Requirement already satisfied: scipy>=0.19.1 in /usr/local/lib/python3.9/site-packages (from scikit-learn) (1.6.2)\n",
      "Collecting threadpoolctl>=2.0.0\n",
      "  Downloading threadpoolctl-2.1.0-py3-none-any.whl (12 kB)\n",
      "Installing collected packages: threadpoolctl, joblib, scikit-learn\n",
      "Successfully installed joblib-1.0.1 scikit-learn-0.24.1 threadpoolctl-2.1.0\n"
     ]
    }
   ],
   "source": [
    "import pandas as pd\n",
    "!pip install matplotlib\n",
    "import matplotlib.pyplot as plt\n",
    "import matplotlib\n",
    "import random\n",
    "import csv\n",
    "!pip install seaborn\n",
    "!pip install scikit-learn\n",
    "import seaborn as sns\n",
    "import numpy as np\n",
    "sns.set_theme(style=\"ticks\", color_codes=True)"
   ]
  },
  {
   "cell_type": "markdown",
   "id": "551d2a24-1727-4ae5-8a58-98a556f18c68",
   "metadata": {},
   "source": [
    "# Set up jupyter notebooks"
   ]
  },
  {
   "cell_type": "code",
   "execution_count": 2,
   "id": "598f908b-2b21-4424-8316-2b6b52b12fb5",
   "metadata": {
    "tags": []
   },
   "outputs": [],
   "source": [
    "pd.set_option('display.max_rows', None)\n",
    "pd.set_option('display.max_columns', None)\n",
    "pd.set_option('display.width', None)"
   ]
  },
  {
   "cell_type": "markdown",
   "id": "c1ca9f14-b7ea-4f86-926a-697f83d21f35",
   "metadata": {},
   "source": [
    "# Load the Dataset"
   ]
  },
  {
   "cell_type": "code",
   "execution_count": 3,
   "id": "637b221e-49f0-49d7-8908-bb5bc872e3a5",
   "metadata": {
    "tags": []
   },
   "outputs": [
    {
     "data": {
      "text/html": [
       "<div>\n",
       "<style scoped>\n",
       "    .dataframe tbody tr th:only-of-type {\n",
       "        vertical-align: middle;\n",
       "    }\n",
       "\n",
       "    .dataframe tbody tr th {\n",
       "        vertical-align: top;\n",
       "    }\n",
       "\n",
       "    .dataframe thead th {\n",
       "        text-align: right;\n",
       "    }\n",
       "</style>\n",
       "<table border=\"1\" class=\"dataframe\">\n",
       "  <thead>\n",
       "    <tr style=\"text-align: right;\">\n",
       "      <th></th>\n",
       "      <th>age</th>\n",
       "      <th>job_type</th>\n",
       "      <th>marital_status</th>\n",
       "      <th>education_level</th>\n",
       "      <th>balance_amt</th>\n",
       "      <th>household_insurance</th>\n",
       "      <th>car_loan</th>\n",
       "      <th>communication</th>\n",
       "      <th>last_contact_day</th>\n",
       "      <th>last_contact_month</th>\n",
       "      <th>no_of_contacts</th>\n",
       "      <th>days_passed</th>\n",
       "      <th>prev_attempts</th>\n",
       "      <th>Outcome</th>\n",
       "      <th>call_start</th>\n",
       "      <th>call_end</th>\n",
       "      <th>car_insurance</th>\n",
       "    </tr>\n",
       "  </thead>\n",
       "  <tbody>\n",
       "    <tr>\n",
       "      <th>0</th>\n",
       "      <td>47.000000</td>\n",
       "      <td>blue-collar</td>\n",
       "      <td>married</td>\n",
       "      <td>primary</td>\n",
       "      <td>1112.000000</td>\n",
       "      <td>1</td>\n",
       "      <td>0</td>\n",
       "      <td>cellular</td>\n",
       "      <td>13</td>\n",
       "      <td>may</td>\n",
       "      <td>1</td>\n",
       "      <td>-1</td>\n",
       "      <td>0</td>\n",
       "      <td>NaN</td>\n",
       "      <td>10:22:20</td>\n",
       "      <td>10:24:29</td>\n",
       "      <td>0</td>\n",
       "    </tr>\n",
       "    <tr>\n",
       "      <th>1</th>\n",
       "      <td>46.031442</td>\n",
       "      <td>management</td>\n",
       "      <td>married</td>\n",
       "      <td>tertiary</td>\n",
       "      <td>1.312372</td>\n",
       "      <td>0</td>\n",
       "      <td>1</td>\n",
       "      <td>cellular</td>\n",
       "      <td>15</td>\n",
       "      <td>may</td>\n",
       "      <td>3</td>\n",
       "      <td>219</td>\n",
       "      <td>1</td>\n",
       "      <td>other</td>\n",
       "      <td>09:06:30</td>\n",
       "      <td>13:59:48</td>\n",
       "      <td>1</td>\n",
       "    </tr>\n",
       "    <tr>\n",
       "      <th>2</th>\n",
       "      <td>36.000000</td>\n",
       "      <td>services</td>\n",
       "      <td>single</td>\n",
       "      <td>NaN</td>\n",
       "      <td>281.000000</td>\n",
       "      <td>1</td>\n",
       "      <td>0</td>\n",
       "      <td>NaN</td>\n",
       "      <td>16</td>\n",
       "      <td>may</td>\n",
       "      <td>1</td>\n",
       "      <td>-1</td>\n",
       "      <td>0</td>\n",
       "      <td>NaN</td>\n",
       "      <td>13:18:41</td>\n",
       "      <td>13:27:16</td>\n",
       "      <td>1</td>\n",
       "    </tr>\n",
       "    <tr>\n",
       "      <th>3</th>\n",
       "      <td>32.000000</td>\n",
       "      <td>technician</td>\n",
       "      <td>single</td>\n",
       "      <td>secondary</td>\n",
       "      <td>540.000000</td>\n",
       "      <td>0</td>\n",
       "      <td>1</td>\n",
       "      <td>cellular</td>\n",
       "      <td>29</td>\n",
       "      <td>jan</td>\n",
       "      <td>1</td>\n",
       "      <td>-1</td>\n",
       "      <td>0</td>\n",
       "      <td>NaN</td>\n",
       "      <td>10:09:18</td>\n",
       "      <td>10:21:48</td>\n",
       "      <td>1</td>\n",
       "    </tr>\n",
       "    <tr>\n",
       "      <th>4</th>\n",
       "      <td>30.000000</td>\n",
       "      <td>admin.</td>\n",
       "      <td>single</td>\n",
       "      <td>secondary</td>\n",
       "      <td>315.000000</td>\n",
       "      <td>1</td>\n",
       "      <td>0</td>\n",
       "      <td>cellular</td>\n",
       "      <td>14</td>\n",
       "      <td>may</td>\n",
       "      <td>3</td>\n",
       "      <td>346</td>\n",
       "      <td>4</td>\n",
       "      <td>failure</td>\n",
       "      <td>12:12:30</td>\n",
       "      <td>12:27:14</td>\n",
       "      <td>1</td>\n",
       "    </tr>\n",
       "    <tr>\n",
       "      <th>5</th>\n",
       "      <td>37.000000</td>\n",
       "      <td>management</td>\n",
       "      <td>married</td>\n",
       "      <td>tertiary</td>\n",
       "      <td>3737.000000</td>\n",
       "      <td>0</td>\n",
       "      <td>0</td>\n",
       "      <td>cellular</td>\n",
       "      <td>7</td>\n",
       "      <td>jul</td>\n",
       "      <td>1</td>\n",
       "      <td>-1</td>\n",
       "      <td>0</td>\n",
       "      <td>NaN</td>\n",
       "      <td>10:15:03</td>\n",
       "      <td>10:18:47</td>\n",
       "      <td>1</td>\n",
       "    </tr>\n",
       "    <tr>\n",
       "      <th>6</th>\n",
       "      <td>30.000000</td>\n",
       "      <td>blue-collar</td>\n",
       "      <td>married</td>\n",
       "      <td>secondary</td>\n",
       "      <td>1.000000</td>\n",
       "      <td>0</td>\n",
       "      <td>1</td>\n",
       "      <td>cellular</td>\n",
       "      <td>9</td>\n",
       "      <td>jul</td>\n",
       "      <td>1</td>\n",
       "      <td>-1</td>\n",
       "      <td>0</td>\n",
       "      <td>NaN</td>\n",
       "      <td>10:51:56</td>\n",
       "      <td>10:57:43</td>\n",
       "      <td>0</td>\n",
       "    </tr>\n",
       "    <tr>\n",
       "      <th>7</th>\n",
       "      <td>21.000000</td>\n",
       "      <td>student</td>\n",
       "      <td>single</td>\n",
       "      <td>primary</td>\n",
       "      <td>1596.000000</td>\n",
       "      <td>0</td>\n",
       "      <td>0</td>\n",
       "      <td>cellular</td>\n",
       "      <td>26</td>\n",
       "      <td>aug</td>\n",
       "      <td>1</td>\n",
       "      <td>93</td>\n",
       "      <td>2</td>\n",
       "      <td>failure</td>\n",
       "      <td>10:10:32</td>\n",
       "      <td>10:12:27</td>\n",
       "      <td>0</td>\n",
       "    </tr>\n",
       "    <tr>\n",
       "      <th>8</th>\n",
       "      <td>52.091704</td>\n",
       "      <td>admin.</td>\n",
       "      <td>married</td>\n",
       "      <td>secondary</td>\n",
       "      <td>101.453662</td>\n",
       "      <td>0</td>\n",
       "      <td>0</td>\n",
       "      <td>cellular</td>\n",
       "      <td>21</td>\n",
       "      <td>aug</td>\n",
       "      <td>3</td>\n",
       "      <td>-1</td>\n",
       "      <td>0</td>\n",
       "      <td>NaN</td>\n",
       "      <td>16:42:19</td>\n",
       "      <td>16:52:35</td>\n",
       "      <td>1</td>\n",
       "    </tr>\n",
       "    <tr>\n",
       "      <th>9</th>\n",
       "      <td>49.000000</td>\n",
       "      <td>technician</td>\n",
       "      <td>married</td>\n",
       "      <td>secondary</td>\n",
       "      <td>412.000000</td>\n",
       "      <td>0</td>\n",
       "      <td>0</td>\n",
       "      <td>cellular</td>\n",
       "      <td>19</td>\n",
       "      <td>aug</td>\n",
       "      <td>8</td>\n",
       "      <td>-1</td>\n",
       "      <td>0</td>\n",
       "      <td>NaN</td>\n",
       "      <td>15:33:44</td>\n",
       "      <td>15:55:17</td>\n",
       "      <td>1</td>\n",
       "    </tr>\n",
       "  </tbody>\n",
       "</table>\n",
       "</div>"
      ],
      "text/plain": [
       "         age     job_type marital_status education_level  balance_amt  \\\n",
       "0  47.000000  blue-collar        married         primary  1112.000000   \n",
       "1  46.031442   management        married        tertiary     1.312372   \n",
       "2  36.000000     services         single             NaN   281.000000   \n",
       "3  32.000000   technician         single       secondary   540.000000   \n",
       "4  30.000000       admin.         single       secondary   315.000000   \n",
       "5  37.000000   management        married        tertiary  3737.000000   \n",
       "6  30.000000  blue-collar        married       secondary     1.000000   \n",
       "7  21.000000      student         single         primary  1596.000000   \n",
       "8  52.091704       admin.        married       secondary   101.453662   \n",
       "9  49.000000   technician        married       secondary   412.000000   \n",
       "\n",
       "   household_insurance  car_loan communication  last_contact_day  \\\n",
       "0                    1         0      cellular                13   \n",
       "1                    0         1      cellular                15   \n",
       "2                    1         0           NaN                16   \n",
       "3                    0         1      cellular                29   \n",
       "4                    1         0      cellular                14   \n",
       "5                    0         0      cellular                 7   \n",
       "6                    0         1      cellular                 9   \n",
       "7                    0         0      cellular                26   \n",
       "8                    0         0      cellular                21   \n",
       "9                    0         0      cellular                19   \n",
       "\n",
       "  last_contact_month  no_of_contacts  days_passed  prev_attempts  Outcome  \\\n",
       "0                may               1           -1              0      NaN   \n",
       "1                may               3          219              1    other   \n",
       "2                may               1           -1              0      NaN   \n",
       "3                jan               1           -1              0      NaN   \n",
       "4                may               3          346              4  failure   \n",
       "5                jul               1           -1              0      NaN   \n",
       "6                jul               1           -1              0      NaN   \n",
       "7                aug               1           93              2  failure   \n",
       "8                aug               3           -1              0      NaN   \n",
       "9                aug               8           -1              0      NaN   \n",
       "\n",
       "  call_start  call_end  car_insurance  \n",
       "0   10:22:20  10:24:29              0  \n",
       "1   09:06:30  13:59:48              1  \n",
       "2   13:18:41  13:27:16              1  \n",
       "3   10:09:18  10:21:48              1  \n",
       "4   12:12:30  12:27:14              1  \n",
       "5   10:15:03  10:18:47              1  \n",
       "6   10:51:56  10:57:43              0  \n",
       "7   10:10:32  10:12:27              0  \n",
       "8   16:42:19  16:52:35              1  \n",
       "9   15:33:44  15:55:17              1  "
      ]
     },
     "execution_count": 3,
     "metadata": {},
     "output_type": "execute_result"
    }
   ],
   "source": [
    "df = pd.read_csv(\"/data/projects/car-insurance/data/Train_data.csv\").drop(columns=[\"default_or_not\"])\n",
    "df.head(10)"
   ]
  },
  {
   "cell_type": "markdown",
   "id": "36262b7a-0258-4b90-899c-ca563cca2b4d",
   "metadata": {},
   "source": [
    "# Exploratory Data Analysis (EDA)"
   ]
  },
  {
   "cell_type": "code",
   "execution_count": 4,
   "id": "0e65e587-ca48-46e4-b49c-82cdd98941ba",
   "metadata": {
    "tags": []
   },
   "outputs": [
    {
     "name": "stdout",
     "output_type": "stream",
     "text": [
      "The size of the dataset 3102\n",
      "The jobs {nan, 'technician', 'retired', 'unemployed', 'management', 'entrepreneur', 'housemaid', 'self-employed', 'admin.', 'student', 'blue-collar', 'services'}\n",
      "The marital status {'married', 'single', 'divorced'}\n",
      "The education levels {nan, 'tertiary', 'secondary', 'primary'}\n",
      "The minimum balance of a customer=-3058.0\n",
      "The maximum balance of a customer=52587.0\n",
      "The number of customers with household insurance=355\n",
      "The number of customers with car loans = 0\n",
      "The communication methods {nan, 'cellular', 'telephone'}\n",
      "the number of customers using telephone = 162\n",
      "The maximum number of contacts = 43\n",
      "The minimum number of contacts = 1\n",
      "The maximum number of days of previous contact = 854\n",
      "The maximum number of previous attempts = 58\n",
      "The outcomes = {nan, 'other', 'failure', 'success'}\n",
      "The number of customers that said yes = 1760, and no = 1342\n"
     ]
    }
   ],
   "source": [
    "# note to self for future, bad practice to use number when using df.iterrows() because if I drop a table it will no longer work. \n",
    "# I can always just use the name of the column. \n",
    "num_customers = len(df)\n",
    "print(f\"The size of the dataset {num_customers}\")\n",
    "jobs = {row[1] for _, row in df.iterrows()}\n",
    "print(f\"The jobs {jobs}\")\n",
    "marital_statuses = {row[2] for _, row in df.iterrows()}\n",
    "print(f\"The marital status {marital_statuses}\")\n",
    "edu_levels = {row[3] for _, row in df.iterrows()}\n",
    "print(f\"The education levels {edu_levels}\")\n",
    "print(f\"The minimum balance of a customer={min(df['balance_amt'])}\")\n",
    "print(f\"The maximum balance of a customer={max(df['balance_amt'])}\")\n",
    "num_household_insurance = len([row[5] for _, row in df.iterrows() if row[6]==1])\n",
    "print(f\"The number of customers with household insurance={num_household_insurance}\")\n",
    "num_car_loans = len([row[6] for _, row in df.iterrows() if row[7]==1])\n",
    "print(f\"The number of customers with car loans = {num_car_loans}\")\n",
    "comm_methods = {row[7] for _, row in df.iterrows()}\n",
    "print(f\"The communication methods {comm_methods}\")\n",
    "print(f\"the number of customers using telephone = {len([row[7] for _, row in df.iterrows() if row[7]=='telephone'])}\")\n",
    "print(f\"The maximum number of contacts = {max(df['no_of_contacts'])}\")\n",
    "print(f\"The minimum number of contacts = {min(df['no_of_contacts'])}\")\n",
    "print(f\"The maximum number of days of previous contact = {max(df['days_passed'])}\")\n",
    "print(f\"The maximum number of previous attempts = {max(df['prev_attempts'])}\")\n",
    "outcomes = {row[13] for _, row in df.iterrows()}\n",
    "print(f\"The outcomes = {outcomes}\")\n",
    "num_yes = len([row[16] for _, row in df.iterrows() if row[16]==1])\n",
    "num_no = len([row[16] for _, row in df.iterrows() if row[16]==0])\n",
    "print(f\"The number of customers that said yes = {num_yes}, and no = {num_no}\")"
   ]
  },
  {
   "cell_type": "code",
   "execution_count": 5,
   "id": "c722182a-14d6-4409-85ad-529ec8da6ae2",
   "metadata": {
    "tags": []
   },
   "outputs": [
    {
     "name": "stdout",
     "output_type": "stream",
     "text": [
      "<class 'pandas.core.frame.DataFrame'>\n",
      "RangeIndex: 3102 entries, 0 to 3101\n",
      "Data columns (total 17 columns):\n",
      " #   Column               Non-Null Count  Dtype  \n",
      "---  ------               --------------  -----  \n",
      " 0   age                  3102 non-null   float64\n",
      " 1   job_type             3091 non-null   object \n",
      " 2   marital_status       3102 non-null   object \n",
      " 3   education_level      2989 non-null   object \n",
      " 4   balance_amt          3102 non-null   float64\n",
      " 5   household_insurance  3102 non-null   int64  \n",
      " 6   car_loan             3102 non-null   int64  \n",
      " 7   communication        2559 non-null   object \n",
      " 8   last_contact_day     3102 non-null   int64  \n",
      " 9   last_contact_month   3102 non-null   object \n",
      " 10  no_of_contacts       3102 non-null   int64  \n",
      " 11  days_passed          3102 non-null   int64  \n",
      " 12  prev_attempts        3102 non-null   int64  \n",
      " 13  Outcome              751 non-null    object \n",
      " 14  call_start           3102 non-null   object \n",
      " 15  call_end             3102 non-null   object \n",
      " 16  car_insurance        3102 non-null   int64  \n",
      "dtypes: float64(2), int64(7), object(8)\n",
      "memory usage: 412.1+ KB\n"
     ]
    }
   ],
   "source": [
    "df.info()"
   ]
  },
  {
   "cell_type": "markdown",
   "id": "20f9b87b-a348-4252-b07a-e727982e7661",
   "metadata": {},
   "source": [
    "## Data cleaning for dropping some columns"
   ]
  },
  {
   "cell_type": "code",
   "execution_count": 6,
   "id": "9c0a1883-5957-420c-b0f4-5eba64ab56f9",
   "metadata": {
    "tags": []
   },
   "outputs": [
    {
     "data": {
      "text/html": [
       "<div>\n",
       "<style scoped>\n",
       "    .dataframe tbody tr th:only-of-type {\n",
       "        vertical-align: middle;\n",
       "    }\n",
       "\n",
       "    .dataframe tbody tr th {\n",
       "        vertical-align: top;\n",
       "    }\n",
       "\n",
       "    .dataframe thead th {\n",
       "        text-align: right;\n",
       "    }\n",
       "</style>\n",
       "<table border=\"1\" class=\"dataframe\">\n",
       "  <thead>\n",
       "    <tr style=\"text-align: right;\">\n",
       "      <th></th>\n",
       "      <th>age</th>\n",
       "      <th>job_type</th>\n",
       "      <th>marital_status</th>\n",
       "      <th>education_level</th>\n",
       "      <th>balance_amt</th>\n",
       "      <th>household_insurance</th>\n",
       "      <th>car_loan</th>\n",
       "      <th>Outcome</th>\n",
       "      <th>car_insurance</th>\n",
       "    </tr>\n",
       "  </thead>\n",
       "  <tbody>\n",
       "    <tr>\n",
       "      <th>0</th>\n",
       "      <td>47.000000</td>\n",
       "      <td>blue-collar</td>\n",
       "      <td>married</td>\n",
       "      <td>primary</td>\n",
       "      <td>1112.000000</td>\n",
       "      <td>1</td>\n",
       "      <td>0</td>\n",
       "      <td>NaN</td>\n",
       "      <td>0</td>\n",
       "    </tr>\n",
       "    <tr>\n",
       "      <th>1</th>\n",
       "      <td>46.031442</td>\n",
       "      <td>management</td>\n",
       "      <td>married</td>\n",
       "      <td>tertiary</td>\n",
       "      <td>1.312372</td>\n",
       "      <td>0</td>\n",
       "      <td>1</td>\n",
       "      <td>other</td>\n",
       "      <td>1</td>\n",
       "    </tr>\n",
       "    <tr>\n",
       "      <th>2</th>\n",
       "      <td>36.000000</td>\n",
       "      <td>services</td>\n",
       "      <td>single</td>\n",
       "      <td>NaN</td>\n",
       "      <td>281.000000</td>\n",
       "      <td>1</td>\n",
       "      <td>0</td>\n",
       "      <td>NaN</td>\n",
       "      <td>1</td>\n",
       "    </tr>\n",
       "    <tr>\n",
       "      <th>3</th>\n",
       "      <td>32.000000</td>\n",
       "      <td>technician</td>\n",
       "      <td>single</td>\n",
       "      <td>secondary</td>\n",
       "      <td>540.000000</td>\n",
       "      <td>0</td>\n",
       "      <td>1</td>\n",
       "      <td>NaN</td>\n",
       "      <td>1</td>\n",
       "    </tr>\n",
       "    <tr>\n",
       "      <th>4</th>\n",
       "      <td>30.000000</td>\n",
       "      <td>admin.</td>\n",
       "      <td>single</td>\n",
       "      <td>secondary</td>\n",
       "      <td>315.000000</td>\n",
       "      <td>1</td>\n",
       "      <td>0</td>\n",
       "      <td>failure</td>\n",
       "      <td>1</td>\n",
       "    </tr>\n",
       "    <tr>\n",
       "      <th>5</th>\n",
       "      <td>37.000000</td>\n",
       "      <td>management</td>\n",
       "      <td>married</td>\n",
       "      <td>tertiary</td>\n",
       "      <td>3737.000000</td>\n",
       "      <td>0</td>\n",
       "      <td>0</td>\n",
       "      <td>NaN</td>\n",
       "      <td>1</td>\n",
       "    </tr>\n",
       "    <tr>\n",
       "      <th>6</th>\n",
       "      <td>30.000000</td>\n",
       "      <td>blue-collar</td>\n",
       "      <td>married</td>\n",
       "      <td>secondary</td>\n",
       "      <td>1.000000</td>\n",
       "      <td>0</td>\n",
       "      <td>1</td>\n",
       "      <td>NaN</td>\n",
       "      <td>0</td>\n",
       "    </tr>\n",
       "    <tr>\n",
       "      <th>7</th>\n",
       "      <td>21.000000</td>\n",
       "      <td>student</td>\n",
       "      <td>single</td>\n",
       "      <td>primary</td>\n",
       "      <td>1596.000000</td>\n",
       "      <td>0</td>\n",
       "      <td>0</td>\n",
       "      <td>failure</td>\n",
       "      <td>0</td>\n",
       "    </tr>\n",
       "    <tr>\n",
       "      <th>8</th>\n",
       "      <td>52.091704</td>\n",
       "      <td>admin.</td>\n",
       "      <td>married</td>\n",
       "      <td>secondary</td>\n",
       "      <td>101.453662</td>\n",
       "      <td>0</td>\n",
       "      <td>0</td>\n",
       "      <td>NaN</td>\n",
       "      <td>1</td>\n",
       "    </tr>\n",
       "    <tr>\n",
       "      <th>9</th>\n",
       "      <td>49.000000</td>\n",
       "      <td>technician</td>\n",
       "      <td>married</td>\n",
       "      <td>secondary</td>\n",
       "      <td>412.000000</td>\n",
       "      <td>0</td>\n",
       "      <td>0</td>\n",
       "      <td>NaN</td>\n",
       "      <td>1</td>\n",
       "    </tr>\n",
       "  </tbody>\n",
       "</table>\n",
       "</div>"
      ],
      "text/plain": [
       "         age     job_type marital_status education_level  balance_amt  \\\n",
       "0  47.000000  blue-collar        married         primary  1112.000000   \n",
       "1  46.031442   management        married        tertiary     1.312372   \n",
       "2  36.000000     services         single             NaN   281.000000   \n",
       "3  32.000000   technician         single       secondary   540.000000   \n",
       "4  30.000000       admin.         single       secondary   315.000000   \n",
       "5  37.000000   management        married        tertiary  3737.000000   \n",
       "6  30.000000  blue-collar        married       secondary     1.000000   \n",
       "7  21.000000      student         single         primary  1596.000000   \n",
       "8  52.091704       admin.        married       secondary   101.453662   \n",
       "9  49.000000   technician        married       secondary   412.000000   \n",
       "\n",
       "   household_insurance  car_loan  Outcome  car_insurance  \n",
       "0                    1         0      NaN              0  \n",
       "1                    0         1    other              1  \n",
       "2                    1         0      NaN              1  \n",
       "3                    0         1      NaN              1  \n",
       "4                    1         0  failure              1  \n",
       "5                    0         0      NaN              1  \n",
       "6                    0         1      NaN              0  \n",
       "7                    0         0  failure              0  \n",
       "8                    0         0      NaN              1  \n",
       "9                    0         0      NaN              1  "
      ]
     },
     "metadata": {},
     "output_type": "display_data"
    }
   ],
   "source": [
    "df = df.drop(columns=[\"communication\", \"last_contact_day\", \"last_contact_month\", \"days_passed\", \"call_start\", \"call_end\", \"no_of_contacts\", \"prev_attempts\"])\n",
    "display(df.head(10))"
   ]
  },
  {
   "cell_type": "markdown",
   "id": "fc7df63f-7b50-4cd6-af1e-abc7406e6f1b",
   "metadata": {},
   "source": [
    "## Set up the plots backend"
   ]
  },
  {
   "cell_type": "code",
   "execution_count": 7,
   "id": "9fdff12f-e6e2-452e-b5a7-cb20047d831a",
   "metadata": {
    "tags": []
   },
   "outputs": [
    {
     "name": "stdout",
     "output_type": "stream",
     "text": [
      "3.4.1\n"
     ]
    }
   ],
   "source": [
    "%matplotlib inline\n",
    "print(matplotlib.__version__)"
   ]
  },
  {
   "cell_type": "markdown",
   "id": "0d56730d-8d5f-4751-8e6e-1980b337fad0",
   "metadata": {
    "tags": []
   },
   "source": [
    "## Explore hexagonal bin plots"
   ]
  },
  {
   "cell_type": "code",
   "execution_count": 8,
   "id": "0390a4df-6392-408c-8094-1008229842a1",
   "metadata": {
    "collapsed": true,
    "jupyter": {
     "outputs_hidden": true
    },
    "tags": []
   },
   "outputs": [
    {
     "data": {
      "image/png": "[encoded data removed]",
      "text/plain": [
       "<Figure size 1440x432 with 2 Axes>"
      ]
     },
     "metadata": {
      "needs_background": "light"
     },
     "output_type": "display_data"
    }
   ],
   "source": [
    "df.plot(x=\"age\", y=\"car_insurance\", kind=\"hexbin\",figsize=(20,6),gridsize=100,sharex=False)\n",
    "plt.show()"
   ]
  },
  {
   "cell_type": "code",
   "execution_count": 9,
   "id": "a7952d8a-8321-45a6-a280-22c9dd077d28",
   "metadata": {
    "collapsed": true,
    "jupyter": {
     "outputs_hidden": true
    }
   },
   "outputs": [
    {
     "data": {
      "image/png": "[encoded data removed]",
      "text/plain": [
       "<Figure size 432x288 with 2 Axes>"
      ]
     },
     "metadata": {
      "needs_background": "light"
     },
     "output_type": "display_data"
    }
   ],
   "source": [
    "df.plot(x=\"balance_amt\", y=\"car_insurance\", kind=\"hexbin\", gridsize=10,sharex=False)\n",
    "plt.show()"
   ]
  },
  {
   "cell_type": "markdown",
   "id": "88ec6503-b1e1-4f99-b5f4-288dc6ed227a",
   "metadata": {},
   "source": [
    "## Categorical scatterplots"
   ]
  },
  {
   "cell_type": "code",
   "execution_count": 10,
   "id": "c7982bde-e80e-460f-9938-fc2ff0100750",
   "metadata": {
    "collapsed": true,
    "jupyter": {
     "outputs_hidden": true
    }
   },
   "outputs": [
    {
     "data": {
      "text/plain": [
       "<seaborn.axisgrid.FacetGrid at 0x7f5431e8bfa0>"
      ]
     },
     "execution_count": 10,
     "metadata": {},
     "output_type": "execute_result"
    },
    {
     "data": {
      "image/png": "[encoded data removed]",
      "text/plain": [
       "<Figure size 360x360 with 1 Axes>"
      ]
     },
     "metadata": {
      "needs_background": "light"
     },
     "output_type": "display_data"
    }
   ],
   "source": [
    "sns.catplot(x=\"car_insurance\", y=\"balance_amt\", data=df)"
   ]
  },
  {
   "cell_type": "code",
   "execution_count": 11,
   "id": "293a60f1-bc0e-4e18-a8ce-f3042ef37bc0",
   "metadata": {
    "collapsed": true,
    "jupyter": {
     "outputs_hidden": true
    }
   },
   "outputs": [
    {
     "data": {
      "text/plain": [
       "<seaborn.axisgrid.FacetGrid at 0x7f5484b40190>"
      ]
     },
     "execution_count": 11,
     "metadata": {},
     "output_type": "execute_result"
    },
    {
     "data": {
      "image/png": "[encoded data removed]",
      "text/plain": [
       "<Figure size 360x360 with 1 Axes>"
      ]
     },
     "metadata": {
      "needs_background": "light"
     },
     "output_type": "display_data"
    }
   ],
   "source": [
    "sns.catplot(x=\"car_insurance\", y=\"age\", data=df)"
   ]
  },
  {
   "cell_type": "markdown",
   "id": "d2d77e25-b2e4-43d9-b816-8a655cc3159f",
   "metadata": {},
   "source": [
    "## Stacked bar plots"
   ]
  },
  {
   "cell_type": "markdown",
   "id": "405787f6-4ae8-4124-a556-ae432ced8b19",
   "metadata": {},
   "source": [
    "## education "
   ]
  },
  {
   "cell_type": "code",
   "execution_count": 12,
   "id": "932edc6f-012f-493e-825a-c53b14b37333",
   "metadata": {
    "collapsed": true,
    "jupyter": {
     "outputs_hidden": true
    }
   },
   "outputs": [
    {
     "data": {
      "image/png": "[encoded data removed]",
      "text/plain": [
       "<Figure size 720x504 with 1 Axes>"
      ]
     },
     "metadata": {
      "needs_background": "light"
     },
     "output_type": "display_data"
    }
   ],
   "source": [
    "cnt_yes_primary = len(df.loc[(df.education_level == \"primary\") & (df.car_insurance==1)]) \n",
    "cnt_no_primary = len(df.loc[(df.education_level == \"primary\") & (df.car_insurance==0)]) \n",
    "cnt_yes_secondary = len(df.loc[(df.education_level == \"secondary\") & (df.car_insurance==1)]) \n",
    "cnt_no_secondary = len(df.loc[(df.education_level == \"secondary\") & (df.car_insurance==0)]) \n",
    "cnt_yes_tertiary = len(df.loc[(df.education_level == \"tertiary\") & (df.car_insurance==1)]) \n",
    "cnt_no_tertiary = len(df.loc[(df.education_level == \"tertiary\") & (df.car_insurance==0)]) \n",
    "values = [cnt_yes_primary, cnt_no_primary, cnt_yes_secondary, cnt_no_secondary, cnt_yes_tertiary, cnt_no_tertiary]\n",
    "educations = [\"primary\", \"primary\", \"secondary\", \"secondary\",\"tertiary\", \"tertiary\"]\n",
    "insurance = [1, 0, 1, 0, 1, 0]\n",
    "rows = zip(educations, insurance, values)\n",
    "columns = [\"education_level\", \"car_insurance\", \"counts\"]\n",
    "df_edu = pd.DataFrame(rows,columns=columns)\n",
    "df_edu_pivot = df_edu.pivot(index=\"education_level\",columns=\"car_insurance\", values=\"counts\")\n",
    "# why does this work haha?  why do I need to use loc to be able to get the bar graph to work??? \n",
    "df_edu_pivot.loc[:, [0,1]].plot(kind=\"bar\", stacked=True, figsize=(10,7))\n",
    "plt.show()"
   ]
  },
  {
   "cell_type": "markdown",
   "id": "a50062ab-4ccb-4f3c-b7fa-60a86e9e3bcb",
   "metadata": {},
   "source": [
    "##  marital status"
   ]
  },
  {
   "cell_type": "code",
   "execution_count": 13,
   "id": "bd55a836-3ef9-4ddd-a72b-d51d436ff0c7",
   "metadata": {
    "collapsed": true,
    "jupyter": {
     "outputs_hidden": true
    }
   },
   "outputs": [
    {
     "data": {
      "image/png": "[encoded data removed]",
      "text/plain": [
       "<Figure size 720x504 with 1 Axes>"
      ]
     },
     "metadata": {
      "needs_background": "light"
     },
     "output_type": "display_data"
    }
   ],
   "source": [
    "cnt_yes_single = len(df.loc[(df.marital_status == \"single\") & (df.car_insurance==1)]) \n",
    "cnt_no_single = len(df.loc[(df.marital_status == \"single\") & (df.car_insurance==0)]) \n",
    "cnt_yes_married = len(df.loc[(df.marital_status == \"married\") & (df.car_insurance==1)]) \n",
    "cnt_no_married = len(df.loc[(df.marital_status == \"married\") & (df.car_insurance==0)]) \n",
    "cnt_yes_divorced = len(df.loc[(df.marital_status == \"divorced\") & (df.car_insurance==1)]) \n",
    "cnt_no_divorced = len(df.loc[(df.marital_status == \"divorced\") & (df.car_insurance==0)]) \n",
    "values = [cnt_yes_single, cnt_no_single, cnt_yes_married, cnt_no_married, cnt_yes_divorced, cnt_no_divorced]\n",
    "educations = [\"single\", \"single\", \"married\", \"married\",\"divorced\", \"divorced\"]\n",
    "insurance = [1, 0, 1, 0, 1, 0]\n",
    "rows = zip(educations, insurance, values)\n",
    "columns = [\"marital_status\", \"car_insurance\", \"counts\"]\n",
    "df_edu = pd.DataFrame(rows,columns=columns)\n",
    "df_edu_pivot = df_edu.pivot(index=\"marital_status\",columns=\"car_insurance\", values=\"counts\")\n",
    "# why does this work haha?  why do I need to use loc to be able to get the bar graph to work??? \n",
    "df_edu_pivot.loc[:, [0,1]].plot(kind=\"bar\", stacked=True, figsize=(10,7))\n",
    "plt.show()"
   ]
  },
  {
   "cell_type": "markdown",
   "id": "fa324b8e-5c06-41a7-ad22-3828b505441b",
   "metadata": {},
   "source": [
    "## household_insurance"
   ]
  },
  {
   "cell_type": "code",
   "execution_count": 14,
   "id": "72cf6a9f-f403-4515-ae10-bc57ee7f67da",
   "metadata": {
    "collapsed": true,
    "jupyter": {
     "outputs_hidden": true
    }
   },
   "outputs": [
    {
     "data": {
      "image/png": "[encoded data removed]",
      "text/plain": [
       "<Figure size 720x504 with 1 Axes>"
      ]
     },
     "metadata": {
      "needs_background": "light"
     },
     "output_type": "display_data"
    }
   ],
   "source": [
    "house_car = len(df.loc[(df.household_insurance == 1) & (df.car_insurance==1)]) \n",
    "house_nocar = len(df.loc[(df.household_insurance == 1) & (df.car_insurance==0)]) \n",
    "nohouse_car = len(df.loc[(df.household_insurance == 0) & (df.car_insurance==1)]) \n",
    "nohouse_nocar = len(df.loc[(df.household_insurance == 0) & (df.car_insurance==0)]) \n",
    "values = [house_car, house_nocar, nohouse_car, nohouse_nocar]\n",
    "educations = [1, 1, 0, 0]\n",
    "insurance = [1, 0, 1, 0]\n",
    "rows = zip(educations, insurance, values)\n",
    "columns = [\"household_insurance\", \"car_insurance\", \"counts\"]\n",
    "df_edu = pd.DataFrame(rows,columns=columns)\n",
    "df_edu_pivot = df_edu.pivot(index=\"household_insurance\",columns=\"car_insurance\", values=\"counts\")\n",
    "# why does this work haha?  why do I need to use loc to be able to get the bar graph to work??? \n",
    "df_edu_pivot.loc[:, [0,1]].plot(kind=\"bar\", stacked=True, figsize=(10,7))\n",
    "plt.show()"
   ]
  },
  {
   "cell_type": "markdown",
   "id": "51240d7c-215b-45c3-88b2-f7d2685af7b7",
   "metadata": {},
   "source": [
    "## car_loan"
   ]
  },
  {
   "cell_type": "code",
   "execution_count": 15,
   "id": "c28b4a51-e615-42f9-9648-3a30ab3f7234",
   "metadata": {
    "collapsed": true,
    "jupyter": {
     "outputs_hidden": true
    }
   },
   "outputs": [
    {
     "data": {
      "image/png": "[encoded data removed]",
      "text/plain": [
       "<Figure size 720x504 with 1 Axes>"
      ]
     },
     "metadata": {
      "needs_background": "light"
     },
     "output_type": "display_data"
    }
   ],
   "source": [
    "car_car = len(df.loc[(df.car_loan == 1) & (df.car_insurance==1)]) \n",
    "car_nocar = len(df.loc[(df.car_loan == 1) & (df.car_insurance==0)]) \n",
    "nocar_car = len(df.loc[(df.car_loan == 0) & (df.car_insurance==1)]) \n",
    "nocar_nocar = len(df.loc[(df.car_loan == 0) & (df.car_insurance==0)]) \n",
    "values = [car_car, car_nocar, nocar_car, nocar_nocar]\n",
    "educations = [1, 1, 0, 0]\n",
    "insurance = [1, 0, 1, 0]\n",
    "rows = zip(educations, insurance, values)\n",
    "columns = [\"car_loan\", \"car_insurance\", \"counts\"]\n",
    "df_edu = pd.DataFrame(rows,columns=columns)\n",
    "df_edu_pivot = df_edu.pivot(index=\"car_loan\",columns=\"car_insurance\", values=\"counts\")\n",
    "# why does this work haha?  why do I need to use loc to be able to get the bar graph to work??? \n",
    "df_edu_pivot.loc[:, [0,1]].plot(kind=\"bar\", stacked=True, figsize=(10,7))\n",
    "plt.show()"
   ]
  },
  {
   "cell_type": "markdown",
   "id": "784a012b-116a-4e8a-9547-94bfedcac53b",
   "metadata": {},
   "source": []
  },
  {
   "cell_type": "code",
   "execution_count": null,
   "id": "f79c807e-02de-44b0-85f5-1c1859159cb8",
   "metadata": {
    "collapsed": true,
    "jupyter": {
     "outputs_hidden": true
    }
   },
   "outputs": [],
   "source": []
  },
  {
   "cell_type": "markdown",
   "id": "418a77f5-a889-4136-93bb-9f2fa3a5ac99",
   "metadata": {},
   "source": [
    "## Create a series from a multi-column dataframe"
   ]
  },
  {
   "cell_type": "code",
   "execution_count": 16,
   "id": "5a04ea49-6fda-40ba-a6b9-a3bd78b452dc",
   "metadata": {
    "tags": []
   },
   "outputs": [
    {
     "name": "stdout",
     "output_type": "stream",
     "text": [
      "failure    309\n",
      "success    299\n",
      "other      143\n",
      "Name: Outcome, dtype: int64\n"
     ]
    }
   ],
   "source": [
    "# First I want to drop all the nans\n",
    "df1 = df[df[\"Outcome\"].notna()]\n",
    "# Convert to a series\n",
    "outcome_series = df1[\"Outcome\"].squeeze()\n",
    "outcome_counts = outcome_series.value_counts()\n",
    "print(outcome_counts)\n",
    "# plt.show()"
   ]
  },
  {
   "cell_type": "markdown",
   "id": "63018f6e-43be-476e-aeaa-828864296cd8",
   "metadata": {
    "jupyter": {
     "outputs_hidden": true
    }
   },
   "source": [
    "## Remove rows based on conditional statements for column"
   ]
  },
  {
   "cell_type": "code",
   "execution_count": 17,
   "id": "e4f18524-d4a1-4db2-ad8a-0096da7cb600",
   "metadata": {
    "collapsed": true,
    "jupyter": {
     "outputs_hidden": true
    }
   },
   "outputs": [],
   "source": [
    "df_success = df[df[\"Outcome\"] == \"success\"]\n",
    "df_failure = df[df[\"Outcome\"] == \"failure\"]\n",
    "df_other = df[df[\"Outcome\"] == \"other\"]\n",
    "df_nan = df[df[\"Outcome\"].isna()]"
   ]
  },
  {
   "cell_type": "markdown",
   "id": "7558da54-d605-4be7-8857-a1124baa1105",
   "metadata": {},
   "source": [
    "## Create Pie charts from series"
   ]
  },
  {
   "cell_type": "code",
   "execution_count": 20,
   "id": "5108f197-8549-4e4a-a273-3a47577485a0",
   "metadata": {
    "collapsed": true,
    "jupyter": {
     "outputs_hidden": true
    }
   },
   "outputs": [
    {
     "data": {
      "image/png": "[encoded data removed]",
      "text/plain": [
       "<Figure size 864x864 with 4 Axes>"
      ]
     },
     "metadata": {},
     "output_type": "display_data"
    }
   ],
   "source": [
    "s_success = df_success[\"car_insurance\"].squeeze()\n",
    "s_failure = df_failure[\"car_insurance\"].squeeze()\n",
    "s_other = df_other[\"car_insurance\"].squeeze()\n",
    "s_nan = df_nan[\"car_insurance\"].squeeze()\n",
    "s_success_counts = s_success.value_counts()\n",
    "s_failure_counts = s_failure.value_counts()\n",
    "s_other_counts = s_other.value_counts()\n",
    "s_nan_counts = s_nan.value_counts()\n",
    "fig, ax = plt.subplots(ncols=4, figsize=(12,12))\n",
    "pie_success = s_success_counts.plot(kind=\"pie\", label=\"success\", ax=ax[0], autopct='%1.1f%%')\n",
    "pie_failure = s_failure_counts.plot(kind=\"pie\", label=\"failure\", ax=ax[1], autopct='%1.1f%%')\n",
    "pie_other = s_other_counts.plot(kind=\"pie\", label=\"other\", ax=ax[2], autopct='%1.1f%%')\n",
    "pie_nan = s_nan_counts.plot(kind=\"pie\", label=\"NaN\", ax=ax[3], autopct='%1.1f%%')\n",
    "plt.show()"
   ]
  },
  {
   "cell_type": "markdown",
   "id": "410f86e0-ddad-4ab5-8c1d-3675e38afc76",
   "metadata": {},
   "source": [
    "## More Pie Charts for education levels\n"
   ]
  },
  {
   "cell_type": "code",
   "execution_count": 21,
   "id": "248f4dbf-6cfc-4a72-b202-2ba36703c2a5",
   "metadata": {
    "collapsed": true,
    "jupyter": {
     "outputs_hidden": true
    }
   },
   "outputs": [
    {
     "data": {
      "image/png": "[encoded data removed]",
      "text/plain": [
       "<Figure size 864x864 with 4 Axes>"
      ]
     },
     "metadata": {},
     "output_type": "display_data"
    }
   ],
   "source": [
    "df_tertiary = df[df[\"education_level\"] == \"tertiary\"] \n",
    "df_primary = df[df[\"education_level\"] == \"primary\"] \n",
    "df_secondary = df[df[\"education_level\"] == \"secondary\"] \n",
    "df_nan = df[df[\"education_level\"].isna()] \n",
    "s_tertiary = df_tertiary[\"car_insurance\"].squeeze()\n",
    "s_primary = df_primary[\"car_insurance\"].squeeze()\n",
    "s_secondary = df_secondary[\"car_insurance\"].squeeze()\n",
    "s_nan = df_nan[\"car_insurance\"].squeeze()\n",
    "s_tertiary_counts = s_tertiary.value_counts()\n",
    "s_primary_counts = s_primary.value_counts()\n",
    "s_secondary_counts = s_secondary.value_counts()\n",
    "s_nan_counts = s_nan.value_counts()\n",
    "fig, ax = plt.subplots(ncols=4, figsize=(12,12))\n",
    "pie_tertiary = s_tertiary_counts.plot(kind=\"pie\", label=\"tertiary\", ax=ax[0])\n",
    "pie_primary = s_primary_counts.plot(kind=\"pie\", label=\"primary\", ax=ax[1])\n",
    "pie_secondary = s_secondary_counts.plot(kind=\"pie\", label=\"secondary\", ax=ax[2])\n",
    "pie_nan = s_nan_counts.plot(kind=\"pie\", label=\"NaN\", ax=ax[3])\n",
    "plt.show()"
   ]
  },
  {
   "cell_type": "markdown",
   "id": "ddb054e0-6b67-471d-9b96-d00f3b8ce2fb",
   "metadata": {},
   "source": [
    "## Analyze relationship between balance amount and purchase car insurance in current campaign"
   ]
  },
  {
   "cell_type": "code",
   "execution_count": null,
   "id": "84624a39-3659-4302-a53b-13a9a41d15df",
   "metadata": {
    "collapsed": true,
    "jupyter": {
     "outputs_hidden": true
    }
   },
   "outputs": [],
   "source": []
  },
  {
   "cell_type": "markdown",
   "id": "a0fe1b27-5783-47c0-a968-a434474697d0",
   "metadata": {},
   "source": [
    "# Data Cleaning and Data Preprocessing"
   ]
  },
  {
   "cell_type": "code",
   "execution_count": 9,
   "id": "21e27ee9-5587-4690-a89e-ef8ff1616cd7",
   "metadata": {
    "tags": []
   },
   "outputs": [],
   "source": [
    "from sklearn.model_selection import train_test_split\n",
    "from sklearn.model_selection import cross_val_score\n",
    "from sklearn.model_selection import StratifiedKFold\n",
    "from sklearn.linear_model import LogisticRegression\n",
    "from sklearn.tree import DecisionTreeClassifier\n",
    "from sklearn.neighbors import KNeighborsClassifier\n",
    "from sklearn.discriminant_analysis import LinearDiscriminantAnalysis\n",
    "from sklearn.naive_bayes import GaussianNB\n",
    "from sklearn.svm import SVC\n",
    "df_train = df\n",
    "df_train.loc[(df.marital_status==\"married\"), \"marital_status\"] = 1\n",
    "df_train.loc[(df.marital_status==\"single\"), \"marital_status\"] = 0\n",
    "df_train.loc[(df.marital_status==\"divorced\"), \"marital_status\"] = -1\n",
    "df_train.loc[(df.education_level==\"tertiary\"), \"education_level\"] = 1\n",
    "df_train.loc[(df.education_level==\"secondary\"), \"education_level\"] = 0\n",
    "df_train.loc[(df.education_level==\"primary\"), \"education_level\"] = -1\n",
    "df_train.loc[(df.Outcome==\"success\"), \"Outcome\"] = 1\n",
    "df_train.loc[(df.Outcome==\"other\") | (df.Outcome.isna()), \"Outcome\"] = 0\n",
    "df_train.loc[(df.Outcome==\"failure\"), \"Outcome\"] = -1\n",
    "df_train.dropna(inplace=True)\n",
    "y_train = np.array(df_train[\"car_insurance\"])\n",
    "X_train = np.array(df_train.drop(columns=[\"car_insurance\", \"job_type\"]))"
   ]
  },
  {
   "cell_type": "markdown",
   "id": "89a44e1b-85cb-4f8b-945b-5ee8d115a39a",
   "metadata": {},
   "source": [
    "## Random Sampling"
   ]
  },
  {
   "cell_type": "code",
   "execution_count": 34,
   "id": "a5b24f7f-d697-4fd4-95b3-0994ade170b2",
   "metadata": {},
   "outputs": [
    {
     "data": {
      "text/html": [
       "<div>\n",
       "<style scoped>\n",
       "    .dataframe tbody tr th:only-of-type {\n",
       "        vertical-align: middle;\n",
       "    }\n",
       "\n",
       "    .dataframe tbody tr th {\n",
       "        vertical-align: top;\n",
       "    }\n",
       "\n",
       "    .dataframe thead th {\n",
       "        text-align: right;\n",
       "    }\n",
       "</style>\n",
       "<table border=\"1\" class=\"dataframe\">\n",
       "  <thead>\n",
       "    <tr style=\"text-align: right;\">\n",
       "      <th></th>\n",
       "      <th>age</th>\n",
       "      <th>job_type</th>\n",
       "      <th>marital_status</th>\n",
       "      <th>education_level</th>\n",
       "      <th>balance_amt</th>\n",
       "      <th>household_insurance</th>\n",
       "      <th>car_loan</th>\n",
       "      <th>Outcome</th>\n",
       "      <th>car_insurance</th>\n",
       "    </tr>\n",
       "  </thead>\n",
       "  <tbody>\n",
       "    <tr>\n",
       "      <th>885</th>\n",
       "      <td>58.000000</td>\n",
       "      <td>unemployed</td>\n",
       "      <td>-1</td>\n",
       "      <td>0</td>\n",
       "      <td>729.000000</td>\n",
       "      <td>0</td>\n",
       "      <td>1</td>\n",
       "      <td>0</td>\n",
       "      <td>0</td>\n",
       "    </tr>\n",
       "    <tr>\n",
       "      <th>98</th>\n",
       "      <td>43.000000</td>\n",
       "      <td>blue-collar</td>\n",
       "      <td>1</td>\n",
       "      <td>0</td>\n",
       "      <td>1335.000000</td>\n",
       "      <td>1</td>\n",
       "      <td>0</td>\n",
       "      <td>0</td>\n",
       "      <td>0</td>\n",
       "    </tr>\n",
       "    <tr>\n",
       "      <th>1356</th>\n",
       "      <td>49.000000</td>\n",
       "      <td>blue-collar</td>\n",
       "      <td>1</td>\n",
       "      <td>-1</td>\n",
       "      <td>518.000000</td>\n",
       "      <td>1</td>\n",
       "      <td>0</td>\n",
       "      <td>0</td>\n",
       "      <td>0</td>\n",
       "    </tr>\n",
       "    <tr>\n",
       "      <th>521</th>\n",
       "      <td>49.726020</td>\n",
       "      <td>technician</td>\n",
       "      <td>1</td>\n",
       "      <td>0</td>\n",
       "      <td>2213.273847</td>\n",
       "      <td>1</td>\n",
       "      <td>0</td>\n",
       "      <td>0</td>\n",
       "      <td>1</td>\n",
       "    </tr>\n",
       "    <tr>\n",
       "      <th>722</th>\n",
       "      <td>39.432558</td>\n",
       "      <td>management</td>\n",
       "      <td>1</td>\n",
       "      <td>1</td>\n",
       "      <td>881.321176</td>\n",
       "      <td>1</td>\n",
       "      <td>0</td>\n",
       "      <td>0</td>\n",
       "      <td>1</td>\n",
       "    </tr>\n",
       "    <tr>\n",
       "      <th>2308</th>\n",
       "      <td>32.000000</td>\n",
       "      <td>services</td>\n",
       "      <td>0</td>\n",
       "      <td>0</td>\n",
       "      <td>936.000000</td>\n",
       "      <td>1</td>\n",
       "      <td>0</td>\n",
       "      <td>0</td>\n",
       "      <td>0</td>\n",
       "    </tr>\n",
       "    <tr>\n",
       "      <th>2358</th>\n",
       "      <td>36.000000</td>\n",
       "      <td>services</td>\n",
       "      <td>0</td>\n",
       "      <td>0</td>\n",
       "      <td>62.000000</td>\n",
       "      <td>1</td>\n",
       "      <td>0</td>\n",
       "      <td>0</td>\n",
       "      <td>0</td>\n",
       "    </tr>\n",
       "    <tr>\n",
       "      <th>499</th>\n",
       "      <td>36.000000</td>\n",
       "      <td>management</td>\n",
       "      <td>1</td>\n",
       "      <td>1</td>\n",
       "      <td>322.000000</td>\n",
       "      <td>1</td>\n",
       "      <td>0</td>\n",
       "      <td>0</td>\n",
       "      <td>0</td>\n",
       "    </tr>\n",
       "    <tr>\n",
       "      <th>800</th>\n",
       "      <td>28.000000</td>\n",
       "      <td>admin.</td>\n",
       "      <td>0</td>\n",
       "      <td>1</td>\n",
       "      <td>832.000000</td>\n",
       "      <td>0</td>\n",
       "      <td>0</td>\n",
       "      <td>-1</td>\n",
       "      <td>1</td>\n",
       "    </tr>\n",
       "    <tr>\n",
       "      <th>748</th>\n",
       "      <td>56.000000</td>\n",
       "      <td>technician</td>\n",
       "      <td>0</td>\n",
       "      <td>0</td>\n",
       "      <td>1437.000000</td>\n",
       "      <td>1</td>\n",
       "      <td>0</td>\n",
       "      <td>0</td>\n",
       "      <td>0</td>\n",
       "    </tr>\n",
       "    <tr>\n",
       "      <th>2116</th>\n",
       "      <td>32.000000</td>\n",
       "      <td>blue-collar</td>\n",
       "      <td>1</td>\n",
       "      <td>0</td>\n",
       "      <td>328.000000</td>\n",
       "      <td>1</td>\n",
       "      <td>0</td>\n",
       "      <td>0</td>\n",
       "      <td>0</td>\n",
       "    </tr>\n",
       "    <tr>\n",
       "      <th>2412</th>\n",
       "      <td>47.000000</td>\n",
       "      <td>entrepreneur</td>\n",
       "      <td>1</td>\n",
       "      <td>1</td>\n",
       "      <td>0.000000</td>\n",
       "      <td>0</td>\n",
       "      <td>0</td>\n",
       "      <td>0</td>\n",
       "      <td>0</td>\n",
       "    </tr>\n",
       "    <tr>\n",
       "      <th>2522</th>\n",
       "      <td>34.558817</td>\n",
       "      <td>management</td>\n",
       "      <td>1</td>\n",
       "      <td>1</td>\n",
       "      <td>3575.985734</td>\n",
       "      <td>1</td>\n",
       "      <td>0</td>\n",
       "      <td>0</td>\n",
       "      <td>1</td>\n",
       "    </tr>\n",
       "    <tr>\n",
       "      <th>1073</th>\n",
       "      <td>30.000000</td>\n",
       "      <td>technician</td>\n",
       "      <td>0</td>\n",
       "      <td>0</td>\n",
       "      <td>4684.000000</td>\n",
       "      <td>1</td>\n",
       "      <td>0</td>\n",
       "      <td>0</td>\n",
       "      <td>1</td>\n",
       "    </tr>\n",
       "    <tr>\n",
       "      <th>85</th>\n",
       "      <td>35.000000</td>\n",
       "      <td>blue-collar</td>\n",
       "      <td>0</td>\n",
       "      <td>1</td>\n",
       "      <td>1830.000000</td>\n",
       "      <td>0</td>\n",
       "      <td>0</td>\n",
       "      <td>0</td>\n",
       "      <td>0</td>\n",
       "    </tr>\n",
       "  </tbody>\n",
       "</table>\n",
       "</div>"
      ],
      "text/plain": [
       "            age      job_type marital_status education_level  balance_amt  \\\n",
       "885   58.000000    unemployed             -1               0   729.000000   \n",
       "98    43.000000   blue-collar              1               0  1335.000000   \n",
       "1356  49.000000   blue-collar              1              -1   518.000000   \n",
       "521   49.726020    technician              1               0  2213.273847   \n",
       "722   39.432558    management              1               1   881.321176   \n",
       "2308  32.000000      services              0               0   936.000000   \n",
       "2358  36.000000      services              0               0    62.000000   \n",
       "499   36.000000    management              1               1   322.000000   \n",
       "800   28.000000        admin.              0               1   832.000000   \n",
       "748   56.000000    technician              0               0  1437.000000   \n",
       "2116  32.000000   blue-collar              1               0   328.000000   \n",
       "2412  47.000000  entrepreneur              1               1     0.000000   \n",
       "2522  34.558817    management              1               1  3575.985734   \n",
       "1073  30.000000    technician              0               0  4684.000000   \n",
       "85    35.000000   blue-collar              0               1  1830.000000   \n",
       "\n",
       "      household_insurance  car_loan Outcome  car_insurance  \n",
       "885                     0         1       0              0  \n",
       "98                      1         0       0              0  \n",
       "1356                    1         0       0              0  \n",
       "521                     1         0       0              1  \n",
       "722                     1         0       0              1  \n",
       "2308                    1         0       0              0  \n",
       "2358                    1         0       0              0  \n",
       "499                     1         0       0              0  \n",
       "800                     0         0      -1              1  \n",
       "748                     1         0       0              0  \n",
       "2116                    1         0       0              0  \n",
       "2412                    0         0       0              0  \n",
       "2522                    1         0       0              1  \n",
       "1073                    1         0       0              1  \n",
       "85                      0         0       0              0  "
      ]
     },
     "execution_count": 34,
     "metadata": {},
     "output_type": "execute_result"
    }
   ],
   "source": [
    "rows = df_train.sample(frac=.005)\n",
    "rows"
   ]
  },
  {
   "cell_type": "code",
   "execution_count": 47,
   "id": "48d0ef03-8b76-44a2-a662-c0ef2218f2e9",
   "metadata": {
    "tags": []
   },
   "outputs": [
    {
     "name": "stdout",
     "output_type": "stream",
     "text": [
      "The number who bought car insurance in train dataset 1352, the number who didn't buy 1032, the number that bought in test dataset 338, the number that didn't buy 259\n",
      "The number who bought car insurance in train dataset 1352, the number who didn't buy 1033, the number that bought in test dataset 338, the number that didn't buy 258\n",
      "The number who bought car insurance in train dataset 1352, the number who didn't buy 1033, the number that bought in test dataset 338, the number that didn't buy 258\n",
      "The number who bought car insurance in train dataset 1352, the number who didn't buy 1033, the number that bought in test dataset 338, the number that didn't buy 258\n",
      "The number who bought car insurance in train dataset 1352, the number who didn't buy 1033, the number that bought in test dataset 338, the number that didn't buy 258\n",
      "list of possible accuracies [0.5912897822445561, 0.5771812080536913, 0.6308724832214765, 0.5838926174496645, 0.6057046979865772]\n"
     ]
    }
   ],
   "source": [
    "# spot check the algorithms\n",
    "models = []\n",
    "models.append((\"LR\", LogisticRegression(solver=\"liblinear\", multi_class=\"ovr\")))\n",
    "# models.append((\"LDA\", LinearDiscriminantAnalysis()))\n",
    "# models.append((\"KNN\", KNeighborsClassifier()))\n",
    "# models.append((\"CART\", DecisionTreeClassifier()))\n",
    "# models.append((\"NB\", GaussianNB()))\n",
    "# models.append((\"SVM\", SVC(gamma=\"auto\")))\n",
    "# Evaluate each model in turn\n",
    "results = []\n",
    "names = []\n",
    "lst_stratified = []\n",
    "for name, model in models:\n",
    "    kfold = StratifiedKFold(n_splits=5, random_state=1, shuffle=True)\n",
    "    for train_index, test_index in kfold.split(X_train,y_train):\n",
    "        x2, x3 = X_train[train_index], X_train[test_index]\n",
    "        y2, y3 = y_train[train_index], y_train[test_index]\n",
    "        cntYes = len([x for x in y2 if x==1])\n",
    "        cntNo = len([x for x in y2 if x==0])\n",
    "        cntYesTest = len([x for x in y3 if x==1])\n",
    "        cntNoTest = len([x for x in y3 if x==0])\n",
    "        print(f\"The number who bought car insurance in train dataset {cntYes}, the number who didn't buy {cntNo}, the number that bought in test dataset {cntYesTest}, the number that didn't buy {cntNoTest}\")\n",
    "        model.fit(x2,y2)\n",
    "        lst_stratified.append(model.score(x3, y3))\n",
    "    print(\"list of possible accuracies\", lst_stratified)\n",
    "#     cv_results = cross_val_score(model, X_train, y_train, cv=kfold, scoring=\"accuracy\")\n",
    "#     results.append(cv_results)\n",
    "#     print(results)\n",
    "#     names.append(name)\n",
    "#     print(f\"{name}: {cv_results.mean()} ({cv_results.std()})\")\n",
    "#     # compare algorithms\n",
    "#     plt.boxplot(results, labels=names)\n",
    "#     plt.title(\"Algorithm Comparison\")\n",
    "#     plt.show()"
   ]
  },
  {
   "cell_type": "code",
   "execution_count": null,
   "id": "cb36401e-2c09-40e8-beee-c19d02c1cd44",
   "metadata": {},
   "outputs": [],
   "source": [
    "# spot check the algorithms\n",
    "models = []\n",
    "models.append((\"LR\", LogisticRegression(solver=\"liblinear\", multi_class=\"ovr\")))\n",
    "models.append((\"LDA\", LinearDiscriminantAnalysis()))\n",
    "models.append((\"KNN\", KNeighborsClassifier()))\n",
    "models.append((\"CART\", DecisionTreeClassifier()))\n",
    "models.append((\"NB\", GaussianNB()))\n",
    "models.append((\"SVM\", SVC(gamma=\"auto\")))\n",
    "# Evaluate each model in turn\n",
    "results = []\n",
    "names = []\n",
    "for name, model in models:\n",
    "    kfold = StratifiedKFold(n_splits=5, random_state=1, shuffle=True)\n",
    "    cv_results = cross_val_score(model, X_train, y_train, cv=kfold, scoring=\"accuracy\")\n",
    "    results.append(cv_results)\n",
    "    names.append(name)\n",
    "    print(f\"{name}: {cv_results.mean()} ({cv_results.std()})\")\n",
    "# compare algorithms\n",
    "plt.boxplot(results, labels=names)\n",
    "plt.title(\"Algorithm Comparison\")\n",
    "plt.show()"
   ]
  },
  {
   "cell_type": "markdown",
   "id": "80c12bbb-d941-44b7-b6e8-68fea6b167b1",
   "metadata": {},
   "source": [
    "## drop the outcome"
   ]
  },
  {
   "cell_type": "code",
   "execution_count": 60,
   "id": "55db1bd6-0312-4ff9-b89d-188a9ee58b4e",
   "metadata": {},
   "outputs": [],
   "source": [
    "from sklearn.model_selection import train_test_split\n",
    "from sklearn.model_selection import cross_val_score\n",
    "from sklearn.model_selection import StratifiedKFold\n",
    "from sklearn.linear_model import LogisticRegression\n",
    "from sklearn.tree import DecisionTreeClassifier\n",
    "from sklearn.neighbors import KNeighborsClassifier\n",
    "from sklearn.discriminant_analysis import LinearDiscriminantAnalysis\n",
    "from sklearn.naive_bayes import GaussianNB\n",
    "from sklearn.svm import SVC\n",
    "df_train = df\n",
    "df_train.loc[(df.marital_status==\"married\"), \"marital_status\"] = 1\n",
    "df_train.loc[(df.marital_status==\"single\"), \"marital_status\"] = 0\n",
    "df_train.loc[(df.marital_status==\"divorced\"), \"marital_status\"] = -1\n",
    "df_train.loc[(df.education_level==\"tertiary\"), \"education_level\"] = 1\n",
    "df_train.loc[(df.education_level==\"secondary\"), \"education_level\"] = 0\n",
    "df_train.loc[(df.education_level==\"primary\"), \"education_level\"] = -1\n",
    "df_train.dropna(inplace=True)\n",
    "y_train = np.array(df_train[\"car_insurance\"])\n",
    "X_train = np.array(df_train.drop(columns=[\"car_insurance\", \"job_type\", \"Outcome\"]))"
   ]
  },
  {
   "cell_type": "code",
   "execution_count": 133,
   "id": "bb2e8fc8-256a-47ee-97c5-fc609791e7a6",
   "metadata": {},
   "outputs": [
    {
     "name": "stdout",
     "output_type": "stream",
     "text": [
      "LR: 0.5991343743325127 (0.02169627181689867)\n",
      "LDA: 0.5984643575820938 (0.02081912171592084)\n",
      "KNN: 0.5628966982563826 (0.008991680918776246)\n",
      "CART: 0.63166335030859 (0.006711886876929355)\n",
      "NB: 0.5967881915168685 (0.022131988162477325)\n",
      "SVM: 0.6269659258259981 (0.007987877933046795)\n",
      "SVMscale: 0.5689375288073477 (0.002643906412968658)\n"
     ]
    },
    {
     "data": {
      "image/png": "[encoded data removed]",
      "text/plain": [
       "<Figure size 432x288 with 1 Axes>"
      ]
     },
     "metadata": {
      "needs_background": "light"
     },
     "output_type": "display_data"
    }
   ],
   "source": [
    "# spot check the algorithms\n",
    "models = []\n",
    "models.append((\"LR\", LogisticRegression(solver=\"liblinear\", multi_class=\"ovr\")))\n",
    "models.append((\"LDA\", LinearDiscriminantAnalysis()))\n",
    "models.append((\"KNN\", KNeighborsClassifier()))\n",
    "models.append((\"CART\", DecisionTreeClassifier()))\n",
    "models.append((\"NB\", GaussianNB()))\n",
    "models.append((\"SVM\", SVC(gamma=\"auto\")))\n",
    "models.append((\"SVMscale\", SVC(gamma=\"scale\")))\n",
    "# Evaluate each model in turn\n",
    "results = []\n",
    "names = []\n",
    "for name, model in models:\n",
    "    kfold = StratifiedKFold(n_splits=5, random_state=1, shuffle=True)\n",
    "    cv_results = cross_val_score(model, X_train, y_train, cv=kfold, scoring=\"accuracy\")\n",
    "    results.append(cv_results)\n",
    "    names.append(name)\n",
    "    print(f\"{name}: {cv_results.mean()} ({cv_results.std()})\")\n",
    "# compare algorithms\n",
    "plt.boxplot(results, labels=names)\n",
    "plt.title(\"Algorithm Comparison\")\n",
    "plt.show()"
   ]
  },
  {
   "cell_type": "code",
   "execution_count": 124,
   "id": "cea7a84a-6563-4827-b461-d0db813c0702",
   "metadata": {},
   "outputs": [
    {
     "name": "stdout",
     "output_type": "stream",
     "text": [
      "[array([0.57956449, 0.59563758, 0.6409396 , 0.58557047, 0.59395973])]\n",
      "liblinear: 0.5991343743325127 (0.02169627181689867)\n",
      "[array([0.57956449, 0.59563758, 0.6409396 , 0.58557047, 0.59395973]), array([0.57621441, 0.59563758, 0.64261745, 0.58557047, 0.59563758])]\n",
      "newton-cg: 0.5991354985216912 (0.0229108594542482)\n",
      "[array([0.57956449, 0.59563758, 0.6409396 , 0.58557047, 0.59395973]), array([0.57621441, 0.59563758, 0.64261745, 0.58557047, 0.59563758]), array([0.57453936, 0.56543624, 0.63758389, 0.59060403, 0.60067114])]\n",
      "libfgs: 0.5937669330995019 (0.02509950404615425)\n"
     ]
    },
    {
     "data": {
      "image/png": "[encoded data removed]",
      "text/plain": [
       "<Figure size 432x288 with 1 Axes>"
      ]
     },
     "metadata": {
      "needs_background": "light"
     },
     "output_type": "display_data"
    }
   ],
   "source": [
    "# spot check the algorithms\n",
    "models = []\n",
    "models.append((\"liblinear\", LogisticRegression(solver=\"liblinear\")))\n",
    "models.append((\"newton-cg\", LogisticRegression(solver=\"newton-cg\")))\n",
    "models.append((\"libfgs\", LogisticRegression(solver=\"lbfgs\")))\n",
    "# Evaluate each model in turn\n",
    "results = []\n",
    "names = []\n",
    "for name, model in models:\n",
    "    kfold = StratifiedKFold(n_splits=5, random_state=1, shuffle=True)\n",
    "    cv_results = cross_val_score(model, X_train, y_train, cv=kfold, scoring=\"accuracy\")\n",
    "    results.append(cv_results)\n",
    "    print(results)\n",
    "    names.append(name)\n",
    "    print(f\"{name}: {cv_results.mean()} ({cv_results.std()})\")\n",
    "# compare algorithms\n",
    "plt.boxplot(results, labels=names)\n",
    "plt.title(\"Algorithm Comparison\")\n",
    "plt.show()"
   ]
  },
  {
   "cell_type": "markdown",
   "id": "ac6f8d54-8b11-4a48-ae7f-7748d764875e",
   "metadata": {},
   "source": [
    "# Prediction for Test Dataset"
   ]
  },
  {
   "cell_type": "code",
   "execution_count": 127,
   "id": "b9aca530-adea-47f4-bd80-6d4acba6be15",
   "metadata": {
    "tags": []
   },
   "outputs": [
    {
     "name": "stdout",
     "output_type": "stream",
     "text": [
      "The number of entries in test dataset=935\n"
     ]
    }
   ],
   "source": [
    "df_test = pd.read_csv(\"/data/projects/car-insurance/data/Test_data.csv\")\n",
    "print(f\"The number of entries in test dataset={len(df_test)}\")"
   ]
  },
  {
   "cell_type": "code",
   "execution_count": 128,
   "id": "b36bbf88-77bc-412c-9474-f3f110eb01cf",
   "metadata": {
    "tags": []
   },
   "outputs": [
    {
     "data": {
      "text/html": [
       "<div>\n",
       "<style scoped>\n",
       "    .dataframe tbody tr th:only-of-type {\n",
       "        vertical-align: middle;\n",
       "    }\n",
       "\n",
       "    .dataframe tbody tr th {\n",
       "        vertical-align: top;\n",
       "    }\n",
       "\n",
       "    .dataframe thead th {\n",
       "        text-align: right;\n",
       "    }\n",
       "</style>\n",
       "<table border=\"1\" class=\"dataframe\">\n",
       "  <thead>\n",
       "    <tr style=\"text-align: right;\">\n",
       "      <th></th>\n",
       "      <th>age</th>\n",
       "      <th>marital_status</th>\n",
       "      <th>education_level</th>\n",
       "      <th>balance_amt</th>\n",
       "      <th>household_insurance</th>\n",
       "      <th>car_loan</th>\n",
       "      <th>Outcome</th>\n",
       "    </tr>\n",
       "  </thead>\n",
       "  <tbody>\n",
       "    <tr>\n",
       "      <th>0</th>\n",
       "      <td>65.000000</td>\n",
       "      <td>married</td>\n",
       "      <td>secondary</td>\n",
       "      <td>20806.0</td>\n",
       "      <td>0</td>\n",
       "      <td>0</td>\n",
       "      <td>NaN</td>\n",
       "    </tr>\n",
       "    <tr>\n",
       "      <th>1</th>\n",
       "      <td>36.000000</td>\n",
       "      <td>married</td>\n",
       "      <td>tertiary</td>\n",
       "      <td>900.0</td>\n",
       "      <td>1</td>\n",
       "      <td>0</td>\n",
       "      <td>NaN</td>\n",
       "    </tr>\n",
       "    <tr>\n",
       "      <th>2</th>\n",
       "      <td>37.000000</td>\n",
       "      <td>married</td>\n",
       "      <td>tertiary</td>\n",
       "      <td>6771.0</td>\n",
       "      <td>0</td>\n",
       "      <td>0</td>\n",
       "      <td>success</td>\n",
       "    </tr>\n",
       "    <tr>\n",
       "      <th>3</th>\n",
       "      <td>30.065066</td>\n",
       "      <td>single</td>\n",
       "      <td>tertiary</td>\n",
       "      <td>0.0</td>\n",
       "      <td>0</td>\n",
       "      <td>0</td>\n",
       "      <td>NaN</td>\n",
       "    </tr>\n",
       "    <tr>\n",
       "      <th>4</th>\n",
       "      <td>41.000000</td>\n",
       "      <td>married</td>\n",
       "      <td>tertiary</td>\n",
       "      <td>328.0</td>\n",
       "      <td>1</td>\n",
       "      <td>0</td>\n",
       "      <td>NaN</td>\n",
       "    </tr>\n",
       "  </tbody>\n",
       "</table>\n",
       "</div>"
      ],
      "text/plain": [
       "         age marital_status education_level  balance_amt  household_insurance  \\\n",
       "0  65.000000        married       secondary      20806.0                    0   \n",
       "1  36.000000        married        tertiary        900.0                    1   \n",
       "2  37.000000        married        tertiary       6771.0                    0   \n",
       "3  30.065066         single        tertiary          0.0                    0   \n",
       "4  41.000000        married        tertiary        328.0                    1   \n",
       "\n",
       "   car_loan  Outcome  \n",
       "0         0      NaN  \n",
       "1         0      NaN  \n",
       "2         0  success  \n",
       "3         0      NaN  \n",
       "4         0      NaN  "
      ]
     },
     "execution_count": 128,
     "metadata": {},
     "output_type": "execute_result"
    }
   ],
   "source": [
    "df_test = df_test.drop(columns = [\"communication\", \"last_contact_day\", \"last_contact_month\", \"days_passed\", \"call_start\", \"call_end\", \"no_of_contacts\", \"prev_attempts\", \"default_or_not\", \"job_type\"])\n",
    "df_test.head()"
   ]
  },
  {
   "cell_type": "code",
   "execution_count": 129,
   "id": "fbc4af52-07e8-46b4-8ab2-e76c4ca4194b",
   "metadata": {
    "tags": []
   },
   "outputs": [],
   "source": [
    "df_test.loc[(df_test.marital_status==\"married\"), \"marital_status\"] = 1\n",
    "df_test.loc[(df_test.marital_status==\"single\"), \"marital_status\"] = 0\n",
    "df_test.loc[(df_test.marital_status==\"divorced\"), \"marital_status\"] = -1\n",
    "df_test.loc[(df_test.education_level==\"tertiary\"), \"education_level\"] = 1\n",
    "df_test.loc[(df_test.education_level==\"secondary\"), \"education_level\"] = 0\n",
    "df_test.loc[(df_test.education_level==\"primary\") | (df_test.education_level.isna()), \"education_level\"] = -1\n",
    "df_test.loc[(df_test.Outcome==\"success\"), \"Outcome\"] = 1\n",
    "df_test.loc[(df_test.Outcome==\"other\") | (df_test.Outcome.isna()), \"Outcome\"] = 0\n",
    "df_test.loc[(df_test.Outcome==\"failure\"), \"Outcome\"] = -1\n",
    "X_test = np.array(df_test)[:,:6]\n",
    "outcomes = np.array(df_test)[:,6]"
   ]
  },
  {
   "cell_type": "code",
   "execution_count": 122,
   "id": "fbd393ce-01a6-4557-951c-16021e487516",
   "metadata": {
    "tags": []
   },
   "outputs": [
    {
     "name": "stdout",
     "output_type": "stream",
     "text": [
      "[ 6.17751834e-03 -5.76948377e-02  3.08364716e-01  5.35133356e-06\n",
      " -6.52684695e-01 -2.86611898e-01]\n"
     ]
    }
   ],
   "source": [
    "lr=LogisticRegression(random_state=0, solver=\"liblinear\")\n",
    "lr.fit(X_train,y_train)\n",
    "coef = lr.coef_[0]\n",
    "print(coef)\n",
    "target = lr.predict(X_test)"
   ]
  },
  {
   "cell_type": "code",
   "execution_count": 123,
   "id": "cd1cd564-1f2d-4415-8696-bf057a2a0a24",
   "metadata": {},
   "outputs": [],
   "source": [
    "with open(\"/data/projects/car-insurance/data/prediction_results_logistic_regression.csv\", \"w\") as csv_file:\n",
    "    fieldnames = [\"prediction\"]\n",
    "    writer = csv.DictWriter(csv_file, fieldnames=fieldnames)\n",
    "    writer.writeheader()\n",
    "    for i, pred in enumerate(target):\n",
    "        if outcomes[i]==1:\n",
    "            writer.writerow({\"prediction\": str(1)})\n",
    "        else:\n",
    "            writer.writerow({\"prediction\": str(pred)})"
   ]
  },
  {
   "cell_type": "markdown",
   "id": "d6d83ec4-d3e2-4d42-8119-4c539946fe65",
   "metadata": {},
   "source": [
    "## Using a CART (classification and regression tree)"
   ]
  },
  {
   "cell_type": "code",
   "execution_count": 130,
   "id": "b160fbe6-ee53-412f-b35f-583fd7147834",
   "metadata": {},
   "outputs": [],
   "source": [
    "dtc = DecisionTreeClassifier()\n",
    "dtc.fit(X_train,y_train)\n",
    "target = dtc.predict(X_test)"
   ]
  },
  {
   "cell_type": "code",
   "execution_count": 131,
   "id": "0d6dfdf5-138c-4fb3-93c8-bc7097df83a4",
   "metadata": {},
   "outputs": [],
   "source": [
    "with open(\"/data/projects/car-insurance/data/prediction_results_decision_tree.csv\", \"w\") as csv_file:\n",
    "    fieldnames = [\"prediction\"]\n",
    "    writer = csv.DictWriter(csv_file, fieldnames=fieldnames)\n",
    "    writer.writeheader()\n",
    "    for i, pred in enumerate(target):\n",
    "        if outcomes[i]==1:\n",
    "            writer.writerow({\"prediction\": str(1)})\n",
    "        else:\n",
    "            writer.writerow({\"prediction\": str(pred)})"
   ]
  },
  {
   "cell_type": "markdown",
   "id": "fdf99dce-a98b-4310-a067-12efa8f5b6f0",
   "metadata": {},
   "source": [
    "## Using SVM"
   ]
  },
  {
   "cell_type": "code",
   "execution_count": null,
   "id": "8fc035fb-f774-4202-9a3e-74488d867b2a",
   "metadata": {},
   "outputs": [],
   "source": [
    "svm = SVC(gamma=\"auto\")\n",
    "svm.fit(X_train,y_train)\n",
    "target = svm.predict(X_test)"
   ]
  },
  {
   "cell_type": "code",
   "execution_count": null,
   "id": "b88323e1-d9cf-4bd7-94fb-c00b0264683f",
   "metadata": {},
   "outputs": [],
   "source": [
    "with open(\"/data/projects/car-insurance/data/prediction_results_s.csv\", \"w\") as csv_file:\n",
    "    fieldnames = [\"prediction\"]\n",
    "    writer = csv.DictWriter(csv_file, fieldnames=fieldnames)\n",
    "    writer.writeheader()\n",
    "    for i, pred in enumerate(target):\n",
    "        if outcomes[i]==1:\n",
    "            writer.writerow({\"prediction\": str(1)})\n",
    "        else:\n",
    "            writer.writerow({\"prediction\": str(pred)})"
   ]
  },
  {
   "cell_type": "code",
   "execution_count": null,
   "id": "534fdb4c-f212-4d77-94d9-15a3dc661538",
   "metadata": {},
   "outputs": [],
   "source": []
  },
  {
   "cell_type": "code",
   "execution_count": 115,
   "id": "6aaf346d-45bd-4b28-b42b-a1720ab2f5eb",
   "metadata": {
    "collapsed": true,
    "jupyter": {
     "outputs_hidden": true
    }
   },
   "outputs": [],
   "source": [
    "# This is a basic algorithm to test submissions and formatting of submissions\n",
    "target = []\n",
    "def rand50():\n",
    "    return random.choice([0,1])\n",
    "def rand75():\n",
    "    return rand50() | rand50()\n",
    "for _, row in df_test.iterrows():\n",
    "    if row[\"Outcome\"]!=\"success\":\n",
    "        target.append(rand50())\n",
    "    else:\n",
    "        target.append(1)"
   ]
  },
  {
   "cell_type": "markdown",
   "id": "bd74c87d-0c07-4000-b494-72908f4be958",
   "metadata": {},
   "source": [
    "## Save data to a csv file "
   ]
  },
  {
   "cell_type": "code",
   "execution_count": 128,
   "id": "658acdb8-36e2-4ccf-98e2-a46c2a57dd52",
   "metadata": {
    "tags": []
   },
   "outputs": [],
   "source": [
    "with open(\"/data/projects/car-insurance/data/prediction_results.csv\", \"w\") as csv_file:\n",
    "    fieldnames = [\"prediction\"]\n",
    "    writer = csv.DictWriter(csv_file, fieldnames=fieldnames)\n",
    "    writer.writeheader()\n",
    "    for pred in target:\n",
    "        writer.writerow({\"prediction\": str(pred)})\n"
   ]
  },
  {
   "cell_type": "code",
   "execution_count": null,
   "id": "9c68bb6d-906d-4660-a197-1f6980888133",
   "metadata": {
    "collapsed": true,
    "jupyter": {
     "outputs_hidden": true
    }
   },
   "outputs": [],
   "source": [
    "# res = pd.DataFrame(predictions)\n",
    "# res.index = test_new.index\n",
    "# res.columns = [\"prediction\"]\n",
    "# res.to_csv(\"prediction_results.csv\", index=False)"
   ]
  }
 ],
 "metadata": {
  "kernelspec": {
   "display_name": "Python 3",
   "language": "python",
   "name": "python3"
  },
  "language_info": {
   "codemirror_mode": {
    "name": "ipython",
    "version": 3
   },
   "file_extension": ".py",
   "mimetype": "text/x-python",
   "name": "python",
   "nbconvert_exporter": "python",
   "pygments_lexer": "ipython3",
   "version": "3.9.4"
  }
 },
 "nbformat": 4,
 "nbformat_minor": 5
}
